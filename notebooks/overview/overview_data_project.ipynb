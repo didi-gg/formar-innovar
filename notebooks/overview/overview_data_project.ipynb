{
 "cells": [
  {
   "cell_type": "markdown",
   "id": "ae33aeca",
   "metadata": {},
   "source": [
    "# Descripción datos disponibles para el proyecto\n",
    "\n",
    "El propósito de este notebook es documentar y presentar de manera organizada las fuentes de datos disponibles para el análisis.\n",
    "\n",
    "Alcance temporal (2021-1 a 2025-1)"
   ]
  },
  {
   "cell_type": "markdown",
   "id": "576d9e7c",
   "metadata": {},
   "source": [
    "## 1. Resumen de las fuentes de datos\n",
    "\n",
    "| Fuente                         | Periodos disponibles | Descripción breve                                           | Fuente de Datos                         |\n",
    "|---------------------------------|-----------------------|-------------------------------------------------------------|-----------------------------------------|\n",
    "| Estudiantes                    | 2024-1 a 2025-1        | Datos sociodemográficos y académicos de los estudiantes.     | Excel 2024 y Excel 2025                 |\n",
    "| Calificaciones                 | 2021-1 a 2025-1        | Notas por asignatura, competencias, estructura de materias. | Excel 2021-2022 (reporte grado-periodo), PDF 2023-2025 (reporte individual) |\n",
    "| Moodle                         | 2024-1 a 2025-1        | Eventos de interacción académica en plataforma Moodle.      | Base de datos MySQL 2024 y MySQL 2025   |\n",
    "| Coevaluaciones y Autoevaluaciones | 2024-1 y 2024-2     | Evaluación de investigación por parte de estudiantes.       | Excel por periodo y grado               |\n",
    "| Docentes                       | 2024-1 a 2025-1        | Datos básicos de docentes: experiencia, edad, nivel educativo. | Excel                                  |\n",
    "| Carga académica                | 2024-1 a 2025-1        | Intensidad horaria por asignatura y docente.                | Excel                                   |\n"
   ]
  },
  {
   "cell_type": "code",
   "execution_count": 44,
   "id": "ccc3d8d3",
   "metadata": {},
   "outputs": [
    {
     "data": {
      "application/vnd.plotly.v1+json": {
       "config": {
        "plotlyServerURL": "https://plot.ly"
       },
       "data": [
        {
         "coloraxis": "coloraxis",
         "hovertemplate": "Año-Periodo: %{x}<br>Fuente: %{y}<br>color: %{z}<extra></extra>",
         "name": "0",
         "type": "heatmap",
         "x": [
          "2021-1",
          "2021-2",
          "2021-3",
          "2021-4",
          "2022-1",
          "2022-2",
          "2022-3",
          "2022-4",
          "2023-1",
          "2023-2",
          "2023-3",
          "2023-4",
          "2024-1",
          "2024-2",
          "2024-3",
          "2024-4",
          "2025-1"
         ],
         "xaxis": "x",
         "y": [
          "asistencia",
          "auto y co evaluaciones",
          "calificaciones",
          "carga académica",
          "docentes",
          "estudiantes",
          "moodle"
         ],
         "yaxis": "y",
         "z": {
          "bdata": "AAAAAAAAAAAAAAAAAAAAAAAAAAAAAAAAAAAAAAAAAAAAAAAAAAAAAAAAAAAAAAAAAAAAAAAAAAAAAAAAAAAAAAAAAAAAAAAAAAAAAAAAAAAAAAAAAAAAAAAAAAAAAAAAAAAAAAAA8D8AAAAAAADwPwAAAAAAAAAAAAAAAAAAAAAAAAAAAAAAAAAAAAAAAAAAAAAAAAAAAAAAAAAAAAAAAAAAAAAAAAAAAAAAAAAAAAAAAAAAAAAAAAAAAAAAAAAAAAAAAAAAAAAAAAAAAAAAAAAAAAAAAAAAAAAAAAAAAAAAAAAAAAAAAAAAAAAAAPA/AAAAAAAA8D8AAAAAAAAAAAAAAAAAAAAAAAAAAAAAAAAAAAAAAADwPwAAAAAAAPA/AAAAAAAA8D8AAAAAAADwPwAAAAAAAPA/AAAAAAAA8D8AAAAAAADwPwAAAAAAAPA/AAAAAAAA8D8AAAAAAADwPwAAAAAAAPA/AAAAAAAA8D8AAAAAAADwPwAAAAAAAPA/AAAAAAAA8D8AAAAAAADwPwAAAAAAAPA/AAAAAAAA8D8AAAAAAADwPwAAAAAAAPA/AAAAAAAA8D8AAAAAAADwPwAAAAAAAPA/AAAAAAAA8D8AAAAAAADwPwAAAAAAAPA/AAAAAAAA8D8AAAAAAADwPwAAAAAAAPA/AAAAAAAA8D8AAAAAAADwPwAAAAAAAPA/AAAAAAAA8D8AAAAAAADwPwAAAAAAAAAAAAAAAAAAAAAAAAAAAAAAAAAAAAAAAAAAAAAAAAAAAAAAAAAAAAAAAAAAAAAAAAAAAAAAAAAAAAAAAAAAAAAAAAAAAAAAAAAAAAAAAAAAAAAAAAAAAAAAAAAAAAAAAPA/AAAAAAAA8D8AAAAAAADwPwAAAAAAAPA/AAAAAAAA8D8AAAAAAAAAAAAAAAAAAAAAAAAAAAAAAAAAAAAAAAAAAAAAAAAAAAAAAAAAAAAAAAAAAAAAAAAAAAAAAAAAAAAAAAAAAAAAAAAAAAAAAAAAAAAAAAAAAAAAAAAAAAAAAAAAAAAAAADwPwAAAAAAAPA/AAAAAAAA8D8AAAAAAADwPwAAAAAAAPA/AAAAAAAAAAAAAAAAAAAAAAAAAAAAAAAAAAAAAAAAAAAAAAAAAAAAAAAAAAAAAAAAAAAAAAAAAAAAAAAAAAAAAAAAAAAAAAAAAAAAAAAAAAAAAAAAAAAAAAAAAAAAAAAAAAAAAAAA8D8AAAAAAADwPwAAAAAAAPA/AAAAAAAA8D8AAAAAAADwPw==",
          "dtype": "f8",
          "shape": "7, 17"
         }
        }
       ],
       "layout": {
        "coloraxis": {
         "colorscale": [
          [
           0,
           "white"
          ],
          [
           1,
           "blue"
          ]
         ],
         "showscale": false
        },
        "template": {
         "data": {
          "bar": [
           {
            "error_x": {
             "color": "#2a3f5f"
            },
            "error_y": {
             "color": "#2a3f5f"
            },
            "marker": {
             "line": {
              "color": "white",
              "width": 0.5
             },
             "pattern": {
              "fillmode": "overlay",
              "size": 10,
              "solidity": 0.2
             }
            },
            "type": "bar"
           }
          ],
          "barpolar": [
           {
            "marker": {
             "line": {
              "color": "white",
              "width": 0.5
             },
             "pattern": {
              "fillmode": "overlay",
              "size": 10,
              "solidity": 0.2
             }
            },
            "type": "barpolar"
           }
          ],
          "carpet": [
           {
            "aaxis": {
             "endlinecolor": "#2a3f5f",
             "gridcolor": "#C8D4E3",
             "linecolor": "#C8D4E3",
             "minorgridcolor": "#C8D4E3",
             "startlinecolor": "#2a3f5f"
            },
            "baxis": {
             "endlinecolor": "#2a3f5f",
             "gridcolor": "#C8D4E3",
             "linecolor": "#C8D4E3",
             "minorgridcolor": "#C8D4E3",
             "startlinecolor": "#2a3f5f"
            },
            "type": "carpet"
           }
          ],
          "choropleth": [
           {
            "colorbar": {
             "outlinewidth": 0,
             "ticks": ""
            },
            "type": "choropleth"
           }
          ],
          "contour": [
           {
            "colorbar": {
             "outlinewidth": 0,
             "ticks": ""
            },
            "colorscale": [
             [
              0,
              "#0d0887"
             ],
             [
              0.1111111111111111,
              "#46039f"
             ],
             [
              0.2222222222222222,
              "#7201a8"
             ],
             [
              0.3333333333333333,
              "#9c179e"
             ],
             [
              0.4444444444444444,
              "#bd3786"
             ],
             [
              0.5555555555555556,
              "#d8576b"
             ],
             [
              0.6666666666666666,
              "#ed7953"
             ],
             [
              0.7777777777777778,
              "#fb9f3a"
             ],
             [
              0.8888888888888888,
              "#fdca26"
             ],
             [
              1,
              "#f0f921"
             ]
            ],
            "type": "contour"
           }
          ],
          "contourcarpet": [
           {
            "colorbar": {
             "outlinewidth": 0,
             "ticks": ""
            },
            "type": "contourcarpet"
           }
          ],
          "heatmap": [
           {
            "colorbar": {
             "outlinewidth": 0,
             "ticks": ""
            },
            "colorscale": [
             [
              0,
              "#0d0887"
             ],
             [
              0.1111111111111111,
              "#46039f"
             ],
             [
              0.2222222222222222,
              "#7201a8"
             ],
             [
              0.3333333333333333,
              "#9c179e"
             ],
             [
              0.4444444444444444,
              "#bd3786"
             ],
             [
              0.5555555555555556,
              "#d8576b"
             ],
             [
              0.6666666666666666,
              "#ed7953"
             ],
             [
              0.7777777777777778,
              "#fb9f3a"
             ],
             [
              0.8888888888888888,
              "#fdca26"
             ],
             [
              1,
              "#f0f921"
             ]
            ],
            "type": "heatmap"
           }
          ],
          "histogram": [
           {
            "marker": {
             "pattern": {
              "fillmode": "overlay",
              "size": 10,
              "solidity": 0.2
             }
            },
            "type": "histogram"
           }
          ],
          "histogram2d": [
           {
            "colorbar": {
             "outlinewidth": 0,
             "ticks": ""
            },
            "colorscale": [
             [
              0,
              "#0d0887"
             ],
             [
              0.1111111111111111,
              "#46039f"
             ],
             [
              0.2222222222222222,
              "#7201a8"
             ],
             [
              0.3333333333333333,
              "#9c179e"
             ],
             [
              0.4444444444444444,
              "#bd3786"
             ],
             [
              0.5555555555555556,
              "#d8576b"
             ],
             [
              0.6666666666666666,
              "#ed7953"
             ],
             [
              0.7777777777777778,
              "#fb9f3a"
             ],
             [
              0.8888888888888888,
              "#fdca26"
             ],
             [
              1,
              "#f0f921"
             ]
            ],
            "type": "histogram2d"
           }
          ],
          "histogram2dcontour": [
           {
            "colorbar": {
             "outlinewidth": 0,
             "ticks": ""
            },
            "colorscale": [
             [
              0,
              "#0d0887"
             ],
             [
              0.1111111111111111,
              "#46039f"
             ],
             [
              0.2222222222222222,
              "#7201a8"
             ],
             [
              0.3333333333333333,
              "#9c179e"
             ],
             [
              0.4444444444444444,
              "#bd3786"
             ],
             [
              0.5555555555555556,
              "#d8576b"
             ],
             [
              0.6666666666666666,
              "#ed7953"
             ],
             [
              0.7777777777777778,
              "#fb9f3a"
             ],
             [
              0.8888888888888888,
              "#fdca26"
             ],
             [
              1,
              "#f0f921"
             ]
            ],
            "type": "histogram2dcontour"
           }
          ],
          "mesh3d": [
           {
            "colorbar": {
             "outlinewidth": 0,
             "ticks": ""
            },
            "type": "mesh3d"
           }
          ],
          "parcoords": [
           {
            "line": {
             "colorbar": {
              "outlinewidth": 0,
              "ticks": ""
             }
            },
            "type": "parcoords"
           }
          ],
          "pie": [
           {
            "automargin": true,
            "type": "pie"
           }
          ],
          "scatter": [
           {
            "fillpattern": {
             "fillmode": "overlay",
             "size": 10,
             "solidity": 0.2
            },
            "type": "scatter"
           }
          ],
          "scatter3d": [
           {
            "line": {
             "colorbar": {
              "outlinewidth": 0,
              "ticks": ""
             }
            },
            "marker": {
             "colorbar": {
              "outlinewidth": 0,
              "ticks": ""
             }
            },
            "type": "scatter3d"
           }
          ],
          "scattercarpet": [
           {
            "marker": {
             "colorbar": {
              "outlinewidth": 0,
              "ticks": ""
             }
            },
            "type": "scattercarpet"
           }
          ],
          "scattergeo": [
           {
            "marker": {
             "colorbar": {
              "outlinewidth": 0,
              "ticks": ""
             }
            },
            "type": "scattergeo"
           }
          ],
          "scattergl": [
           {
            "marker": {
             "colorbar": {
              "outlinewidth": 0,
              "ticks": ""
             }
            },
            "type": "scattergl"
           }
          ],
          "scattermap": [
           {
            "marker": {
             "colorbar": {
              "outlinewidth": 0,
              "ticks": ""
             }
            },
            "type": "scattermap"
           }
          ],
          "scattermapbox": [
           {
            "marker": {
             "colorbar": {
              "outlinewidth": 0,
              "ticks": ""
             }
            },
            "type": "scattermapbox"
           }
          ],
          "scatterpolar": [
           {
            "marker": {
             "colorbar": {
              "outlinewidth": 0,
              "ticks": ""
             }
            },
            "type": "scatterpolar"
           }
          ],
          "scatterpolargl": [
           {
            "marker": {
             "colorbar": {
              "outlinewidth": 0,
              "ticks": ""
             }
            },
            "type": "scatterpolargl"
           }
          ],
          "scatterternary": [
           {
            "marker": {
             "colorbar": {
              "outlinewidth": 0,
              "ticks": ""
             }
            },
            "type": "scatterternary"
           }
          ],
          "surface": [
           {
            "colorbar": {
             "outlinewidth": 0,
             "ticks": ""
            },
            "colorscale": [
             [
              0,
              "#0d0887"
             ],
             [
              0.1111111111111111,
              "#46039f"
             ],
             [
              0.2222222222222222,
              "#7201a8"
             ],
             [
              0.3333333333333333,
              "#9c179e"
             ],
             [
              0.4444444444444444,
              "#bd3786"
             ],
             [
              0.5555555555555556,
              "#d8576b"
             ],
             [
              0.6666666666666666,
              "#ed7953"
             ],
             [
              0.7777777777777778,
              "#fb9f3a"
             ],
             [
              0.8888888888888888,
              "#fdca26"
             ],
             [
              1,
              "#f0f921"
             ]
            ],
            "type": "surface"
           }
          ],
          "table": [
           {
            "cells": {
             "fill": {
              "color": "#EBF0F8"
             },
             "line": {
              "color": "white"
             }
            },
            "header": {
             "fill": {
              "color": "#C8D4E3"
             },
             "line": {
              "color": "white"
             }
            },
            "type": "table"
           }
          ]
         },
         "layout": {
          "annotationdefaults": {
           "arrowcolor": "#2a3f5f",
           "arrowhead": 0,
           "arrowwidth": 1
          },
          "autotypenumbers": "strict",
          "coloraxis": {
           "colorbar": {
            "outlinewidth": 0,
            "ticks": ""
           }
          },
          "colorscale": {
           "diverging": [
            [
             0,
             "#8e0152"
            ],
            [
             0.1,
             "#c51b7d"
            ],
            [
             0.2,
             "#de77ae"
            ],
            [
             0.3,
             "#f1b6da"
            ],
            [
             0.4,
             "#fde0ef"
            ],
            [
             0.5,
             "#f7f7f7"
            ],
            [
             0.6,
             "#e6f5d0"
            ],
            [
             0.7,
             "#b8e186"
            ],
            [
             0.8,
             "#7fbc41"
            ],
            [
             0.9,
             "#4d9221"
            ],
            [
             1,
             "#276419"
            ]
           ],
           "sequential": [
            [
             0,
             "#0d0887"
            ],
            [
             0.1111111111111111,
             "#46039f"
            ],
            [
             0.2222222222222222,
             "#7201a8"
            ],
            [
             0.3333333333333333,
             "#9c179e"
            ],
            [
             0.4444444444444444,
             "#bd3786"
            ],
            [
             0.5555555555555556,
             "#d8576b"
            ],
            [
             0.6666666666666666,
             "#ed7953"
            ],
            [
             0.7777777777777778,
             "#fb9f3a"
            ],
            [
             0.8888888888888888,
             "#fdca26"
            ],
            [
             1,
             "#f0f921"
            ]
           ],
           "sequentialminus": [
            [
             0,
             "#0d0887"
            ],
            [
             0.1111111111111111,
             "#46039f"
            ],
            [
             0.2222222222222222,
             "#7201a8"
            ],
            [
             0.3333333333333333,
             "#9c179e"
            ],
            [
             0.4444444444444444,
             "#bd3786"
            ],
            [
             0.5555555555555556,
             "#d8576b"
            ],
            [
             0.6666666666666666,
             "#ed7953"
            ],
            [
             0.7777777777777778,
             "#fb9f3a"
            ],
            [
             0.8888888888888888,
             "#fdca26"
            ],
            [
             1,
             "#f0f921"
            ]
           ]
          },
          "colorway": [
           "#636efa",
           "#EF553B",
           "#00cc96",
           "#ab63fa",
           "#FFA15A",
           "#19d3f3",
           "#FF6692",
           "#B6E880",
           "#FF97FF",
           "#FECB52"
          ],
          "font": {
           "color": "#2a3f5f"
          },
          "geo": {
           "bgcolor": "white",
           "lakecolor": "white",
           "landcolor": "white",
           "showlakes": true,
           "showland": true,
           "subunitcolor": "#C8D4E3"
          },
          "hoverlabel": {
           "align": "left"
          },
          "hovermode": "closest",
          "mapbox": {
           "style": "light"
          },
          "paper_bgcolor": "white",
          "plot_bgcolor": "white",
          "polar": {
           "angularaxis": {
            "gridcolor": "#EBF0F8",
            "linecolor": "#EBF0F8",
            "ticks": ""
           },
           "bgcolor": "white",
           "radialaxis": {
            "gridcolor": "#EBF0F8",
            "linecolor": "#EBF0F8",
            "ticks": ""
           }
          },
          "scene": {
           "xaxis": {
            "backgroundcolor": "white",
            "gridcolor": "#DFE8F3",
            "gridwidth": 2,
            "linecolor": "#EBF0F8",
            "showbackground": true,
            "ticks": "",
            "zerolinecolor": "#EBF0F8"
           },
           "yaxis": {
            "backgroundcolor": "white",
            "gridcolor": "#DFE8F3",
            "gridwidth": 2,
            "linecolor": "#EBF0F8",
            "showbackground": true,
            "ticks": "",
            "zerolinecolor": "#EBF0F8"
           },
           "zaxis": {
            "backgroundcolor": "white",
            "gridcolor": "#DFE8F3",
            "gridwidth": 2,
            "linecolor": "#EBF0F8",
            "showbackground": true,
            "ticks": "",
            "zerolinecolor": "#EBF0F8"
           }
          },
          "shapedefaults": {
           "line": {
            "color": "#2a3f5f"
           }
          },
          "ternary": {
           "aaxis": {
            "gridcolor": "#DFE8F3",
            "linecolor": "#A2B1C6",
            "ticks": ""
           },
           "baxis": {
            "gridcolor": "#DFE8F3",
            "linecolor": "#A2B1C6",
            "ticks": ""
           },
           "bgcolor": "white",
           "caxis": {
            "gridcolor": "#DFE8F3",
            "linecolor": "#A2B1C6",
            "ticks": ""
           }
          },
          "title": {
           "x": 0.05
          },
          "xaxis": {
           "automargin": true,
           "gridcolor": "#EBF0F8",
           "linecolor": "#EBF0F8",
           "ticks": "",
           "title": {
            "standoff": 15
           },
           "zerolinecolor": "#EBF0F8",
           "zerolinewidth": 2
          },
          "yaxis": {
           "automargin": true,
           "gridcolor": "#EBF0F8",
           "linecolor": "#EBF0F8",
           "ticks": "",
           "title": {
            "standoff": 15
           },
           "zerolinecolor": "#EBF0F8",
           "zerolinewidth": 2
          }
         }
        },
        "title": {
         "font": {
          "size": 24
         },
         "text": "Mapa de Disponibilidad de Datos por Fuente y Periodo"
        },
        "xaxis": {
         "anchor": "y",
         "constrain": "domain",
         "domain": [
          0,
          1
         ],
         "scaleanchor": "y",
         "tickangle": -45,
         "title": {
          "font": {
           "size": 18
          },
          "text": "Año-Periodo"
         },
         "type": "category"
        },
        "yaxis": {
         "anchor": "x",
         "autorange": "reversed",
         "constrain": "domain",
         "domain": [
          0,
          1
         ],
         "title": {
          "font": {
           "size": 18
          },
          "text": "Fuente"
         }
        }
       }
      }
     },
     "metadata": {},
     "output_type": "display_data"
    }
   ],
   "source": [
    "import pandas as pd\n",
    "import plotly.express as px\n",
    "\n",
    "df = pd.read_csv(\"../../data/datos.csv\")\n",
    "\n",
    "df['año_periodo'] = df['año'].astype(str) + '-' + df['periodo'].astype(str)\n",
    "\n",
    "df['disponible'] = 1\n",
    "\n",
    "pivot = df.pivot_table(\n",
    "    index='fuente',\n",
    "    columns='año_periodo',\n",
    "    values='disponible',\n",
    "    fill_value=0\n",
    ")\n",
    "\n",
    "pivot = pivot.reindex(sorted(pivot.columns, key=lambda x: (int(x.split('-')[0]), int(x.split('-')[1]))), axis=1)\n",
    "\n",
    "fig = px.imshow(\n",
    "    pivot,\n",
    "    color_continuous_scale=['white', 'blue'],\n",
    "    labels=dict(x=\"Año-Periodo\", y=\"Fuente\"),\n",
    "    title=\"Mapa de Disponibilidad de Datos por Fuente y Periodo\",\n",
    ")\n",
    "\n",
    "fig.update_layout(\n",
    "    template=\"plotly_white\",\n",
    "    title_font_size=24,\n",
    "    xaxis_title_font_size=18,\n",
    "    yaxis_title_font_size=18,\n",
    "    xaxis_tickangle=-45,\n",
    "    coloraxis_showscale=False,\n",
    "    xaxis=dict(type='category')\n",
    ")\n",
    "fig.show()"
   ]
  },
  {
   "cell_type": "markdown",
   "id": "16150865",
   "metadata": {},
   "source": [
    "## 2. Estudiantes\n",
    "\n",
    "### Descripción general\n",
    "El dataset de estudiantes proporciona información sociodemográfica y académica detallada de los alumnos de la institución educativa. Cubre el periodo de 2024-1 a 2025-1 y fue suministrado en archivos de Excel separados por año.\n",
    "\n",
    "Esta información puede ser útil para el análisis longitudinal del desempeño académico, participación en Moodle y análisis de factores sociodemográficos relacionados con el aprendizaje.\n",
    "\n",
    "### Variables disponibles\n",
    "\n",
    "| Nombre del Campo               | Definición |\n",
    "|---------------------------------|------------|\n",
    "| id                              | Identificador único generado por nombre completo + sede, útil cuando falta el documento de identidad. |\n",
    "| sede                            | Sede educativa a la que pertenece el estudiante (Fusagasugá o Girardot). |\n",
    "| nivel                           | Nivel académico (Primaria, Bachillerato, etc.) |\n",
    "| grado                           | Grado escolar actual del estudiante. |\n",
    "| orden_grado                     | Valor numérico para ordenar los grados académicamente. |\n",
    "| año_ingreso                     | Año en que el estudiante ingresó a la institución. |\n",
    "| antigüedad                      | Clasificación como \"Nuevo\" o \"Antiguo\" en la institución. |\n",
    "| género                          | Género del estudiante. |\n",
    "| documento_identificación        | Número de documento de identidad del estudiante. **(Clave para uniones de datos)** |\n",
    "| primer_apellido                 | Primer apellido del estudiante. |\n",
    "| segundo_apellido                | Segundo apellido del estudiante. |\n",
    "| nombres                         | Nombres del estudiante. |\n",
    "| fecha_nacimiento                | Fecha de nacimiento del estudiante. |\n",
    "| demuestra_confianza             | Nivel de confianza percibido en el estudiante. |\n",
    "| país_origen                     | País de nacimiento del estudiante. |\n",
    "| estrato                         | Estrato socioeconómico (Colombia). |\n",
    "| tipo_vivienda                   | Tipo de vivienda: propia, alquilada, familiar, etc. |\n",
    "| zona_vivienda                   | Zona de residencia (urbana o rural). |\n",
    "| dirección                       | Dirección residencial del estudiante. |\n",
    "| horas_semana_estudio_casa       | Estimación de horas de estudio en casa por semana. |\n",
    "| interés_estudios_superiores     | Nivel de interés en continuar estudios superiores. |\n",
    "| medio_transporte                | Medio utilizado para llegar a la institución. |\n",
    "| apoyo_familiar                  | Nivel de apoyo familiar percibido por el estudiante. |\n",
    "| total_hermanos                  | Número total de hermanos. |\n",
    "| familia                         | Composición del núcleo familiar. |\n",
    "| actividades_extracurriculares   | Actividades fuera del horario escolar: deportes, artes, etc. |\n",
    "| enfermedades                    | Indica si el estudiante presenta alguna enfermedad. |\n",
    "| proyección_vocacional           | Carrera o área profesional de interés. **(Importante para análisis vocacional)** |\n",
    "| participación_clase             | Nivel de participación en clase. |\n",
    "| nee                             | Indica si el estudiante tiene Necesidades Educativas Especiales. |\n",
    "| valoración_emocional            | Evaluación emocional del estudiante. |\n",
    "| nivel_motivación                | Nivel general de motivación académica. |\n",
    "\n",
    "### Variables Clave a destacar:\n",
    "- **documento_identificación**: Para integrar con otras bases de datos (calificaciones, Moodle, asistencia).\n",
    "- **sede**: Permite comparaciones entre Fusagasugá y Girardot.\n",
    "- **antigüedad**: Útil para comparar nuevos y antiguos estudiantes.\n"
   ]
  },
  {
   "cell_type": "markdown",
   "id": "6b9c95b0",
   "metadata": {},
   "source": [
    "## 3. Calificaciones\n",
    "\n",
    "### Descripción general\n",
    "El dataset de calificaciones recoge los resultados académicos de los estudiantes desde **2021-1 hasta 2025-1**. La fuente de datos son reportes en Excel (2021–2022) y PDFs individuales (2023–2025), que fueron transformados para su análisis.\n",
    "\n",
    "Las calificaciones evalúan el desempeño por **asignatura** y por **competencia** en cada periodo académico.\n",
    "\n",
    "### Cambios importantes en el sistema de evaluación:\n",
    "\n",
    "- **De 2021 a 2022**:\n",
    "  - Asignaturas principales: Ciencias Naturales, Ciencias Sociales, Matemáticas, Lengua Castellana, Inglés, Innovación y Emprendimiento, Educación Física, Educación Ambiental, Comprensión Lectora.\n",
    "  - Competencias evaluadas: **Comunicativa, Procedimental, Axiológica, Actitudinal, Cognitiva** (todas computadas de manera independiente y luego promediadas).\n",
    "\n",
    "- **De 2023 a 2025**:\n",
    "  - Cambio en nombres de varias asignaturas.\n",
    "  - Se **elimina la competencia Comunicativa**.\n",
    "  - Calificaciones con **promedio ponderado** entre Procedimental, Axiológica, Actitudinal y Cognitiva.\n",
    "\n",
    "### Tabla de transición de asignaturas (archivo `asignaturas.csv`)\n",
    "\n",
    "| ID Asignatura | Nombre 2021 | Nombre 2022 | Nombre 2023 | Nombre 2024 | Nombre 2025 | Área |\n",
    "|---------------|-------------|-------------|-------------|-------------|-------------|------|\n",
    "| 1             | Ciencias Naturales | Ciencias Naturales | Ciencias Naturales | Ciencias Naturales y Educación Ambiental | Ciencias Naturales y Educación Ambiental | Ciencias Naturales |\n",
    "| 2             | Ciencias Sociales  | Ciencias Sociales  | Ciencias Sociales  | Ciencias Sociales  | Ciencias Sociales  | Ciencias Sociales |\n",
    "| 3             | Matemáticas         | Matemáticas         | Matemáticas         | Matemáticas         | Matemáticas         | Matemáticas |\n",
    "| 4             | Lengua Castellana   | Lengua Castellana   | Lengua Castellana   | Lengua Castellana   | Lengua Castellana   | Humanidades |\n",
    "| 5             | Inglés              | Inglés              | Inglés              | English             | English             | Humanidades |\n",
    "| 6             | Innovación y Emprendimiento | Creatividad e Innovación | Creatividad e Innovación | Creatividad e innovación | Investigacion e Innovación |\n",
    "| 7             |                     | Aprendizaje Basado en Proyectos | Aprendizaje Basado en Proyectos | Aprendizaje Basado en Proyectos | Investigacion e Innovación |\n",
    "| 8             | Educación Física    | Educación Física    | Educación Física y Deportes | Educación Física y Deportes | Educación Física |\n",
    "| 9             | Comprensión Lectora | Lectura Crítica     | Lectura Crítica     | Lectura Crítica     | Humanidades |\n",
    "| ...           | ...                 | ...                 | ...                 | ...                 | ... |\n",
    "\n",
    "*(Tabla completa disponible en `asignaturas.csv`)*\n",
    "\n",
    "---\n",
    "\n",
    "### Variables clave en calificaciones:\n",
    "- **documento_identificación**: Para unir con estudiantes y demás fuentes.\n",
    "- **id_asignatura**: Para asociar cada nota al área académica correspondiente.\n",
    "- **periodo, año**: Para análisis temporal de desempeño.\n",
    "---\n",
    "\n",
    "### Notas:\n",
    "- La transformación de calificaciones de PDFs a CSV implicó la limpieza manual y extracción automática de nombres, documentos y notas individuales.\n",
    "- Se creó un **hash** para proteger información sensible como documento de identidad durante la etapa de modelado.\n"
   ]
  },
  {
   "cell_type": "code",
   "execution_count": 78,
   "id": "4d58c319",
   "metadata": {},
   "outputs": [
    {
     "data": {
      "application/vnd.plotly.v1+json": {
       "config": {
        "plotlyServerURL": "https://plot.ly"
       },
       "data": [
        {
         "coloraxis": "coloraxis",
         "hovertemplate": "Año: %{x}<br>Asignatura (2025): %{y}<br>Disponible: %{z}<extra></extra>",
         "name": "0",
         "type": "heatmap",
         "x": {
          "bdata": "5QfmB+cH6AfpBw==",
          "dtype": "i2"
         },
         "xaxis": "x",
         "y": [
          "Ciencias Naturales y Educación Ambiental",
          "Ciencias Sociales",
          "Matemáticas",
          "Lengua Castellana",
          "English",
          "Creatividad e innovación",
          "Aprendizaje Basado en Proyectos",
          "Educación Física y Deportes",
          "Lectura Crítica",
          "Centro de Interés Artístico",
          "Tecnologías Informáticas",
          "Integralidad",
          "Innovación y Emprendimiento",
          "Aprendizaje Basado en Investigación",
          "Plan de inversión",
          "Filosofía",
          "Français",
          "Trigonometría",
          "Ciencias Políticas y Económicas",
          "Ciencias Naturales Integradas",
          "Cálculo",
          "Educación Ambiental",
          "Física"
         ],
         "yaxis": "y",
         "z": {
          "bdata": "AQEBAQEBAQEBAQEBAQEBAQEBAQEBAQEBAQEBAQEBAAABAQEBAQEBAQEBAQEBAAABAQEAAAEBAQAAAQEBAAABAQEAAAEBAQAAAQEBAAABAQEAAAEBAQAAAQEBAAABAQEAAAEBAQAAAQEBAQEBAAAAAAAAAQ==",
          "dtype": "i1",
          "shape": "23, 5"
         }
        }
       ],
       "layout": {
        "coloraxis": {
         "colorbar": {
          "title": {
           "text": "Disponible"
          }
         },
         "colorscale": [
          [
           0,
           "white"
          ],
          [
           1,
           "blue"
          ]
         ],
         "showscale": false
        },
        "height": 800,
        "template": {
         "data": {
          "bar": [
           {
            "error_x": {
             "color": "#2a3f5f"
            },
            "error_y": {
             "color": "#2a3f5f"
            },
            "marker": {
             "line": {
              "color": "white",
              "width": 0.5
             },
             "pattern": {
              "fillmode": "overlay",
              "size": 10,
              "solidity": 0.2
             }
            },
            "type": "bar"
           }
          ],
          "barpolar": [
           {
            "marker": {
             "line": {
              "color": "white",
              "width": 0.5
             },
             "pattern": {
              "fillmode": "overlay",
              "size": 10,
              "solidity": 0.2
             }
            },
            "type": "barpolar"
           }
          ],
          "carpet": [
           {
            "aaxis": {
             "endlinecolor": "#2a3f5f",
             "gridcolor": "#C8D4E3",
             "linecolor": "#C8D4E3",
             "minorgridcolor": "#C8D4E3",
             "startlinecolor": "#2a3f5f"
            },
            "baxis": {
             "endlinecolor": "#2a3f5f",
             "gridcolor": "#C8D4E3",
             "linecolor": "#C8D4E3",
             "minorgridcolor": "#C8D4E3",
             "startlinecolor": "#2a3f5f"
            },
            "type": "carpet"
           }
          ],
          "choropleth": [
           {
            "colorbar": {
             "outlinewidth": 0,
             "ticks": ""
            },
            "type": "choropleth"
           }
          ],
          "contour": [
           {
            "colorbar": {
             "outlinewidth": 0,
             "ticks": ""
            },
            "colorscale": [
             [
              0,
              "#0d0887"
             ],
             [
              0.1111111111111111,
              "#46039f"
             ],
             [
              0.2222222222222222,
              "#7201a8"
             ],
             [
              0.3333333333333333,
              "#9c179e"
             ],
             [
              0.4444444444444444,
              "#bd3786"
             ],
             [
              0.5555555555555556,
              "#d8576b"
             ],
             [
              0.6666666666666666,
              "#ed7953"
             ],
             [
              0.7777777777777778,
              "#fb9f3a"
             ],
             [
              0.8888888888888888,
              "#fdca26"
             ],
             [
              1,
              "#f0f921"
             ]
            ],
            "type": "contour"
           }
          ],
          "contourcarpet": [
           {
            "colorbar": {
             "outlinewidth": 0,
             "ticks": ""
            },
            "type": "contourcarpet"
           }
          ],
          "heatmap": [
           {
            "colorbar": {
             "outlinewidth": 0,
             "ticks": ""
            },
            "colorscale": [
             [
              0,
              "#0d0887"
             ],
             [
              0.1111111111111111,
              "#46039f"
             ],
             [
              0.2222222222222222,
              "#7201a8"
             ],
             [
              0.3333333333333333,
              "#9c179e"
             ],
             [
              0.4444444444444444,
              "#bd3786"
             ],
             [
              0.5555555555555556,
              "#d8576b"
             ],
             [
              0.6666666666666666,
              "#ed7953"
             ],
             [
              0.7777777777777778,
              "#fb9f3a"
             ],
             [
              0.8888888888888888,
              "#fdca26"
             ],
             [
              1,
              "#f0f921"
             ]
            ],
            "type": "heatmap"
           }
          ],
          "histogram": [
           {
            "marker": {
             "pattern": {
              "fillmode": "overlay",
              "size": 10,
              "solidity": 0.2
             }
            },
            "type": "histogram"
           }
          ],
          "histogram2d": [
           {
            "colorbar": {
             "outlinewidth": 0,
             "ticks": ""
            },
            "colorscale": [
             [
              0,
              "#0d0887"
             ],
             [
              0.1111111111111111,
              "#46039f"
             ],
             [
              0.2222222222222222,
              "#7201a8"
             ],
             [
              0.3333333333333333,
              "#9c179e"
             ],
             [
              0.4444444444444444,
              "#bd3786"
             ],
             [
              0.5555555555555556,
              "#d8576b"
             ],
             [
              0.6666666666666666,
              "#ed7953"
             ],
             [
              0.7777777777777778,
              "#fb9f3a"
             ],
             [
              0.8888888888888888,
              "#fdca26"
             ],
             [
              1,
              "#f0f921"
             ]
            ],
            "type": "histogram2d"
           }
          ],
          "histogram2dcontour": [
           {
            "colorbar": {
             "outlinewidth": 0,
             "ticks": ""
            },
            "colorscale": [
             [
              0,
              "#0d0887"
             ],
             [
              0.1111111111111111,
              "#46039f"
             ],
             [
              0.2222222222222222,
              "#7201a8"
             ],
             [
              0.3333333333333333,
              "#9c179e"
             ],
             [
              0.4444444444444444,
              "#bd3786"
             ],
             [
              0.5555555555555556,
              "#d8576b"
             ],
             [
              0.6666666666666666,
              "#ed7953"
             ],
             [
              0.7777777777777778,
              "#fb9f3a"
             ],
             [
              0.8888888888888888,
              "#fdca26"
             ],
             [
              1,
              "#f0f921"
             ]
            ],
            "type": "histogram2dcontour"
           }
          ],
          "mesh3d": [
           {
            "colorbar": {
             "outlinewidth": 0,
             "ticks": ""
            },
            "type": "mesh3d"
           }
          ],
          "parcoords": [
           {
            "line": {
             "colorbar": {
              "outlinewidth": 0,
              "ticks": ""
             }
            },
            "type": "parcoords"
           }
          ],
          "pie": [
           {
            "automargin": true,
            "type": "pie"
           }
          ],
          "scatter": [
           {
            "fillpattern": {
             "fillmode": "overlay",
             "size": 10,
             "solidity": 0.2
            },
            "type": "scatter"
           }
          ],
          "scatter3d": [
           {
            "line": {
             "colorbar": {
              "outlinewidth": 0,
              "ticks": ""
             }
            },
            "marker": {
             "colorbar": {
              "outlinewidth": 0,
              "ticks": ""
             }
            },
            "type": "scatter3d"
           }
          ],
          "scattercarpet": [
           {
            "marker": {
             "colorbar": {
              "outlinewidth": 0,
              "ticks": ""
             }
            },
            "type": "scattercarpet"
           }
          ],
          "scattergeo": [
           {
            "marker": {
             "colorbar": {
              "outlinewidth": 0,
              "ticks": ""
             }
            },
            "type": "scattergeo"
           }
          ],
          "scattergl": [
           {
            "marker": {
             "colorbar": {
              "outlinewidth": 0,
              "ticks": ""
             }
            },
            "type": "scattergl"
           }
          ],
          "scattermap": [
           {
            "marker": {
             "colorbar": {
              "outlinewidth": 0,
              "ticks": ""
             }
            },
            "type": "scattermap"
           }
          ],
          "scattermapbox": [
           {
            "marker": {
             "colorbar": {
              "outlinewidth": 0,
              "ticks": ""
             }
            },
            "type": "scattermapbox"
           }
          ],
          "scatterpolar": [
           {
            "marker": {
             "colorbar": {
              "outlinewidth": 0,
              "ticks": ""
             }
            },
            "type": "scatterpolar"
           }
          ],
          "scatterpolargl": [
           {
            "marker": {
             "colorbar": {
              "outlinewidth": 0,
              "ticks": ""
             }
            },
            "type": "scatterpolargl"
           }
          ],
          "scatterternary": [
           {
            "marker": {
             "colorbar": {
              "outlinewidth": 0,
              "ticks": ""
             }
            },
            "type": "scatterternary"
           }
          ],
          "surface": [
           {
            "colorbar": {
             "outlinewidth": 0,
             "ticks": ""
            },
            "colorscale": [
             [
              0,
              "#0d0887"
             ],
             [
              0.1111111111111111,
              "#46039f"
             ],
             [
              0.2222222222222222,
              "#7201a8"
             ],
             [
              0.3333333333333333,
              "#9c179e"
             ],
             [
              0.4444444444444444,
              "#bd3786"
             ],
             [
              0.5555555555555556,
              "#d8576b"
             ],
             [
              0.6666666666666666,
              "#ed7953"
             ],
             [
              0.7777777777777778,
              "#fb9f3a"
             ],
             [
              0.8888888888888888,
              "#fdca26"
             ],
             [
              1,
              "#f0f921"
             ]
            ],
            "type": "surface"
           }
          ],
          "table": [
           {
            "cells": {
             "fill": {
              "color": "#EBF0F8"
             },
             "line": {
              "color": "white"
             }
            },
            "header": {
             "fill": {
              "color": "#C8D4E3"
             },
             "line": {
              "color": "white"
             }
            },
            "type": "table"
           }
          ]
         },
         "layout": {
          "annotationdefaults": {
           "arrowcolor": "#2a3f5f",
           "arrowhead": 0,
           "arrowwidth": 1
          },
          "autotypenumbers": "strict",
          "coloraxis": {
           "colorbar": {
            "outlinewidth": 0,
            "ticks": ""
           }
          },
          "colorscale": {
           "diverging": [
            [
             0,
             "#8e0152"
            ],
            [
             0.1,
             "#c51b7d"
            ],
            [
             0.2,
             "#de77ae"
            ],
            [
             0.3,
             "#f1b6da"
            ],
            [
             0.4,
             "#fde0ef"
            ],
            [
             0.5,
             "#f7f7f7"
            ],
            [
             0.6,
             "#e6f5d0"
            ],
            [
             0.7,
             "#b8e186"
            ],
            [
             0.8,
             "#7fbc41"
            ],
            [
             0.9,
             "#4d9221"
            ],
            [
             1,
             "#276419"
            ]
           ],
           "sequential": [
            [
             0,
             "#0d0887"
            ],
            [
             0.1111111111111111,
             "#46039f"
            ],
            [
             0.2222222222222222,
             "#7201a8"
            ],
            [
             0.3333333333333333,
             "#9c179e"
            ],
            [
             0.4444444444444444,
             "#bd3786"
            ],
            [
             0.5555555555555556,
             "#d8576b"
            ],
            [
             0.6666666666666666,
             "#ed7953"
            ],
            [
             0.7777777777777778,
             "#fb9f3a"
            ],
            [
             0.8888888888888888,
             "#fdca26"
            ],
            [
             1,
             "#f0f921"
            ]
           ],
           "sequentialminus": [
            [
             0,
             "#0d0887"
            ],
            [
             0.1111111111111111,
             "#46039f"
            ],
            [
             0.2222222222222222,
             "#7201a8"
            ],
            [
             0.3333333333333333,
             "#9c179e"
            ],
            [
             0.4444444444444444,
             "#bd3786"
            ],
            [
             0.5555555555555556,
             "#d8576b"
            ],
            [
             0.6666666666666666,
             "#ed7953"
            ],
            [
             0.7777777777777778,
             "#fb9f3a"
            ],
            [
             0.8888888888888888,
             "#fdca26"
            ],
            [
             1,
             "#f0f921"
            ]
           ]
          },
          "colorway": [
           "#636efa",
           "#EF553B",
           "#00cc96",
           "#ab63fa",
           "#FFA15A",
           "#19d3f3",
           "#FF6692",
           "#B6E880",
           "#FF97FF",
           "#FECB52"
          ],
          "font": {
           "color": "#2a3f5f"
          },
          "geo": {
           "bgcolor": "white",
           "lakecolor": "white",
           "landcolor": "white",
           "showlakes": true,
           "showland": true,
           "subunitcolor": "#C8D4E3"
          },
          "hoverlabel": {
           "align": "left"
          },
          "hovermode": "closest",
          "mapbox": {
           "style": "light"
          },
          "paper_bgcolor": "white",
          "plot_bgcolor": "white",
          "polar": {
           "angularaxis": {
            "gridcolor": "#EBF0F8",
            "linecolor": "#EBF0F8",
            "ticks": ""
           },
           "bgcolor": "white",
           "radialaxis": {
            "gridcolor": "#EBF0F8",
            "linecolor": "#EBF0F8",
            "ticks": ""
           }
          },
          "scene": {
           "xaxis": {
            "backgroundcolor": "white",
            "gridcolor": "#DFE8F3",
            "gridwidth": 2,
            "linecolor": "#EBF0F8",
            "showbackground": true,
            "ticks": "",
            "zerolinecolor": "#EBF0F8"
           },
           "yaxis": {
            "backgroundcolor": "white",
            "gridcolor": "#DFE8F3",
            "gridwidth": 2,
            "linecolor": "#EBF0F8",
            "showbackground": true,
            "ticks": "",
            "zerolinecolor": "#EBF0F8"
           },
           "zaxis": {
            "backgroundcolor": "white",
            "gridcolor": "#DFE8F3",
            "gridwidth": 2,
            "linecolor": "#EBF0F8",
            "showbackground": true,
            "ticks": "",
            "zerolinecolor": "#EBF0F8"
           }
          },
          "shapedefaults": {
           "line": {
            "color": "#2a3f5f"
           }
          },
          "ternary": {
           "aaxis": {
            "gridcolor": "#DFE8F3",
            "linecolor": "#A2B1C6",
            "ticks": ""
           },
           "baxis": {
            "gridcolor": "#DFE8F3",
            "linecolor": "#A2B1C6",
            "ticks": ""
           },
           "bgcolor": "white",
           "caxis": {
            "gridcolor": "#DFE8F3",
            "linecolor": "#A2B1C6",
            "ticks": ""
           }
          },
          "title": {
           "x": 0.05
          },
          "xaxis": {
           "automargin": true,
           "gridcolor": "#EBF0F8",
           "linecolor": "#EBF0F8",
           "ticks": "",
           "title": {
            "standoff": 15
           },
           "zerolinecolor": "#EBF0F8",
           "zerolinewidth": 2
          },
          "yaxis": {
           "automargin": true,
           "gridcolor": "#EBF0F8",
           "linecolor": "#EBF0F8",
           "ticks": "",
           "title": {
            "standoff": 15
           },
           "zerolinecolor": "#EBF0F8",
           "zerolinewidth": 2
          }
         }
        },
        "title": {
         "font": {
          "size": 24
         },
         "text": "Disponibilidad de Asignaturas por Año"
        },
        "width": 1200,
        "xaxis": {
         "anchor": "y",
         "constrain": "domain",
         "domain": [
          0,
          1
         ],
         "scaleanchor": "y",
         "tickmode": "array",
         "ticktext": [
          "2021",
          "2022",
          "2023",
          "2024",
          "2025"
         ],
         "tickvals": [
          2021,
          2022,
          2023,
          2024,
          2025
         ],
         "title": {
          "text": "Año"
         },
         "type": "category"
        },
        "yaxis": {
         "anchor": "x",
         "autorange": "reversed",
         "constrain": "domain",
         "domain": [
          0,
          1
         ],
         "tickmode": "linear",
         "title": {
          "text": "Asignatura (nombre 2025)"
         }
        }
       }
      }
     },
     "metadata": {},
     "output_type": "display_data"
    }
   ],
   "source": [
    "import pandas as pd\n",
    "import plotly.express as px\n",
    "\n",
    "df_asignaturas = pd.read_csv(\"../../data/raw/tablas_maestras/asignaturas.csv\")\n",
    "\n",
    "pivot = pd.DataFrame({\n",
    "    2021: df_asignaturas['nombre_2021'].notna().astype(int),\n",
    "    2022: df_asignaturas['nombre_2022'].notna().astype(int),\n",
    "    2023: df_asignaturas['nombre_2023'].notna().astype(int),\n",
    "    2024: df_asignaturas['nombre_2024'].notna().astype(int),\n",
    "    2025: df_asignaturas['nombre_2025'].notna().astype(int)\n",
    "})\n",
    "\n",
    "index_plus_1 = df_asignaturas.index + 1\n",
    "mapping = dict(zip(index_plus_1, df_asignaturas['nombre']))\n",
    "\n",
    "pivot.index = pivot.index + 1   # sumamos +1 al index del pivot\n",
    "pivot.index = pivot.index.map(mapping)  # mapeamos al nombre_2025\n",
    "\n",
    "fig = px.imshow(\n",
    "    pivot,\n",
    "    labels=dict(x=\"Año\", y=\"Asignatura (2025)\", color=\"Disponible\"),\n",
    "    title=\"Disponibilidad de Asignaturas por Año\",\n",
    "    color_continuous_scale=[[0, 'white'], [1, 'blue']]\n",
    ")\n",
    "\n",
    "fig.update_layout(\n",
    "    template=\"plotly_white\",\n",
    "    width=1200,\n",
    "    height=800,\n",
    "    xaxis_title=\"Año\",\n",
    "    yaxis_title=\"Asignatura (nombre 2025)\",\n",
    "    coloraxis_showscale=False,\n",
    "    xaxis=dict(\n",
    "        type='category',\n",
    "        tickmode='array',\n",
    "        tickvals=[2021, 2022, 2023, 2024, 2025],\n",
    "        ticktext=[\"2021\", \"2022\", \"2023\", \"2024\", \"2025\"]\n",
    "    ),\n",
    "    yaxis=dict(\n",
    "        tickmode='linear'\n",
    "    ),\n",
    "    title_font_size=24\n",
    ")\n",
    "fig.show()"
   ]
  },
  {
   "cell_type": "code",
   "execution_count": 65,
   "id": "f1489940",
   "metadata": {},
   "outputs": [
    {
     "data": {
      "application/vnd.microsoft.datawrangler.viewer.v0+json": {
       "columns": [
        {
         "name": "id_asignatura",
         "rawType": "int64",
         "type": "integer"
        },
        {
         "name": "2021",
         "rawType": "float64",
         "type": "float"
        },
        {
         "name": "2022",
         "rawType": "float64",
         "type": "float"
        },
        {
         "name": "2023",
         "rawType": "float64",
         "type": "float"
        },
        {
         "name": "2024",
         "rawType": "float64",
         "type": "float"
        },
        {
         "name": "2025",
         "rawType": "float64",
         "type": "float"
        }
       ],
       "conversionMethod": "pd.DataFrame",
       "ref": "3b94e4e2-f042-43ae-b1f3-92cbfbd8e221",
       "rows": [
        [
         "1",
         "1.0",
         "1.0",
         "1.0",
         "1.0",
         "1.0"
        ],
        [
         "2",
         "1.0",
         "1.0",
         "1.0",
         "1.0",
         "1.0"
        ],
        [
         "3",
         "1.0",
         "1.0",
         "1.0",
         "1.0",
         "1.0"
        ],
        [
         "4",
         "1.0",
         "1.0",
         "1.0",
         "1.0",
         "1.0"
        ],
        [
         "5",
         "1.0",
         "1.0",
         "1.0",
         "1.0",
         "1.0"
        ],
        [
         "6",
         "0.0",
         "0.0",
         "1.0",
         "1.0",
         "1.0"
        ],
        [
         "7",
         "1.0",
         "1.0",
         "1.0",
         "1.0",
         "1.0"
        ],
        [
         "8",
         "1.0",
         "1.0",
         "1.0",
         "1.0",
         "1.0"
        ],
        [
         "9",
         "0.0",
         "0.0",
         "1.0",
         "1.0",
         "1.0"
        ],
        [
         "10",
         "0.0",
         "0.0",
         "1.0",
         "1.0",
         "1.0"
        ],
        [
         "11",
         "0.0",
         "0.0",
         "1.0",
         "1.0",
         "1.0"
        ],
        [
         "12",
         "0.0",
         "0.0",
         "1.0",
         "1.0",
         "1.0"
        ],
        [
         "13",
         "0.0",
         "0.0",
         "1.0",
         "1.0",
         "1.0"
        ],
        [
         "14",
         "0.0",
         "0.0",
         "1.0",
         "1.0",
         "1.0"
        ],
        [
         "15",
         "0.0",
         "0.0",
         "1.0",
         "1.0",
         "1.0"
        ],
        [
         "16",
         "0.0",
         "0.0",
         "1.0",
         "1.0",
         "1.0"
        ],
        [
         "17",
         "0.0",
         "0.0",
         "1.0",
         "1.0",
         "1.0"
        ],
        [
         "18",
         "0.0",
         "0.0",
         "1.0",
         "1.0",
         "1.0"
        ],
        [
         "19",
         "0.0",
         "0.0",
         "1.0",
         "1.0",
         "1.0"
        ],
        [
         "20",
         "0.0",
         "0.0",
         "1.0",
         "1.0",
         "1.0"
        ],
        [
         "21",
         "1.0",
         "1.0",
         "1.0",
         "0.0",
         "0.0"
        ],
        [
         "22",
         "0.0",
         "0.0",
         "0.0",
         "0.0",
         "1.0"
        ],
        [
         "23",
         null,
         null,
         null,
         null,
         null
        ]
       ],
       "shape": {
        "columns": 5,
        "rows": 23
       }
      },
      "text/html": [
       "<div>\n",
       "<style scoped>\n",
       "    .dataframe tbody tr th:only-of-type {\n",
       "        vertical-align: middle;\n",
       "    }\n",
       "\n",
       "    .dataframe tbody tr th {\n",
       "        vertical-align: top;\n",
       "    }\n",
       "\n",
       "    .dataframe thead th {\n",
       "        text-align: right;\n",
       "    }\n",
       "</style>\n",
       "<table border=\"1\" class=\"dataframe\">\n",
       "  <thead>\n",
       "    <tr style=\"text-align: right;\">\n",
       "      <th></th>\n",
       "      <th>2021</th>\n",
       "      <th>2022</th>\n",
       "      <th>2023</th>\n",
       "      <th>2024</th>\n",
       "      <th>2025</th>\n",
       "    </tr>\n",
       "    <tr>\n",
       "      <th>id_asignatura</th>\n",
       "      <th></th>\n",
       "      <th></th>\n",
       "      <th></th>\n",
       "      <th></th>\n",
       "      <th></th>\n",
       "    </tr>\n",
       "  </thead>\n",
       "  <tbody>\n",
       "    <tr>\n",
       "      <th>1</th>\n",
       "      <td>1.0</td>\n",
       "      <td>1.0</td>\n",
       "      <td>1.0</td>\n",
       "      <td>1.0</td>\n",
       "      <td>1.0</td>\n",
       "    </tr>\n",
       "    <tr>\n",
       "      <th>2</th>\n",
       "      <td>1.0</td>\n",
       "      <td>1.0</td>\n",
       "      <td>1.0</td>\n",
       "      <td>1.0</td>\n",
       "      <td>1.0</td>\n",
       "    </tr>\n",
       "    <tr>\n",
       "      <th>3</th>\n",
       "      <td>1.0</td>\n",
       "      <td>1.0</td>\n",
       "      <td>1.0</td>\n",
       "      <td>1.0</td>\n",
       "      <td>1.0</td>\n",
       "    </tr>\n",
       "    <tr>\n",
       "      <th>4</th>\n",
       "      <td>1.0</td>\n",
       "      <td>1.0</td>\n",
       "      <td>1.0</td>\n",
       "      <td>1.0</td>\n",
       "      <td>1.0</td>\n",
       "    </tr>\n",
       "    <tr>\n",
       "      <th>5</th>\n",
       "      <td>1.0</td>\n",
       "      <td>1.0</td>\n",
       "      <td>1.0</td>\n",
       "      <td>1.0</td>\n",
       "      <td>1.0</td>\n",
       "    </tr>\n",
       "    <tr>\n",
       "      <th>6</th>\n",
       "      <td>0.0</td>\n",
       "      <td>0.0</td>\n",
       "      <td>1.0</td>\n",
       "      <td>1.0</td>\n",
       "      <td>1.0</td>\n",
       "    </tr>\n",
       "    <tr>\n",
       "      <th>7</th>\n",
       "      <td>1.0</td>\n",
       "      <td>1.0</td>\n",
       "      <td>1.0</td>\n",
       "      <td>1.0</td>\n",
       "      <td>1.0</td>\n",
       "    </tr>\n",
       "    <tr>\n",
       "      <th>8</th>\n",
       "      <td>1.0</td>\n",
       "      <td>1.0</td>\n",
       "      <td>1.0</td>\n",
       "      <td>1.0</td>\n",
       "      <td>1.0</td>\n",
       "    </tr>\n",
       "    <tr>\n",
       "      <th>9</th>\n",
       "      <td>0.0</td>\n",
       "      <td>0.0</td>\n",
       "      <td>1.0</td>\n",
       "      <td>1.0</td>\n",
       "      <td>1.0</td>\n",
       "    </tr>\n",
       "    <tr>\n",
       "      <th>10</th>\n",
       "      <td>0.0</td>\n",
       "      <td>0.0</td>\n",
       "      <td>1.0</td>\n",
       "      <td>1.0</td>\n",
       "      <td>1.0</td>\n",
       "    </tr>\n",
       "    <tr>\n",
       "      <th>11</th>\n",
       "      <td>0.0</td>\n",
       "      <td>0.0</td>\n",
       "      <td>1.0</td>\n",
       "      <td>1.0</td>\n",
       "      <td>1.0</td>\n",
       "    </tr>\n",
       "    <tr>\n",
       "      <th>12</th>\n",
       "      <td>0.0</td>\n",
       "      <td>0.0</td>\n",
       "      <td>1.0</td>\n",
       "      <td>1.0</td>\n",
       "      <td>1.0</td>\n",
       "    </tr>\n",
       "    <tr>\n",
       "      <th>13</th>\n",
       "      <td>0.0</td>\n",
       "      <td>0.0</td>\n",
       "      <td>1.0</td>\n",
       "      <td>1.0</td>\n",
       "      <td>1.0</td>\n",
       "    </tr>\n",
       "    <tr>\n",
       "      <th>14</th>\n",
       "      <td>0.0</td>\n",
       "      <td>0.0</td>\n",
       "      <td>1.0</td>\n",
       "      <td>1.0</td>\n",
       "      <td>1.0</td>\n",
       "    </tr>\n",
       "    <tr>\n",
       "      <th>15</th>\n",
       "      <td>0.0</td>\n",
       "      <td>0.0</td>\n",
       "      <td>1.0</td>\n",
       "      <td>1.0</td>\n",
       "      <td>1.0</td>\n",
       "    </tr>\n",
       "    <tr>\n",
       "      <th>16</th>\n",
       "      <td>0.0</td>\n",
       "      <td>0.0</td>\n",
       "      <td>1.0</td>\n",
       "      <td>1.0</td>\n",
       "      <td>1.0</td>\n",
       "    </tr>\n",
       "    <tr>\n",
       "      <th>17</th>\n",
       "      <td>0.0</td>\n",
       "      <td>0.0</td>\n",
       "      <td>1.0</td>\n",
       "      <td>1.0</td>\n",
       "      <td>1.0</td>\n",
       "    </tr>\n",
       "    <tr>\n",
       "      <th>18</th>\n",
       "      <td>0.0</td>\n",
       "      <td>0.0</td>\n",
       "      <td>1.0</td>\n",
       "      <td>1.0</td>\n",
       "      <td>1.0</td>\n",
       "    </tr>\n",
       "    <tr>\n",
       "      <th>19</th>\n",
       "      <td>0.0</td>\n",
       "      <td>0.0</td>\n",
       "      <td>1.0</td>\n",
       "      <td>1.0</td>\n",
       "      <td>1.0</td>\n",
       "    </tr>\n",
       "    <tr>\n",
       "      <th>20</th>\n",
       "      <td>0.0</td>\n",
       "      <td>0.0</td>\n",
       "      <td>1.0</td>\n",
       "      <td>1.0</td>\n",
       "      <td>1.0</td>\n",
       "    </tr>\n",
       "    <tr>\n",
       "      <th>21</th>\n",
       "      <td>1.0</td>\n",
       "      <td>1.0</td>\n",
       "      <td>1.0</td>\n",
       "      <td>0.0</td>\n",
       "      <td>0.0</td>\n",
       "    </tr>\n",
       "    <tr>\n",
       "      <th>22</th>\n",
       "      <td>0.0</td>\n",
       "      <td>0.0</td>\n",
       "      <td>0.0</td>\n",
       "      <td>0.0</td>\n",
       "      <td>1.0</td>\n",
       "    </tr>\n",
       "    <tr>\n",
       "      <th>23</th>\n",
       "      <td>NaN</td>\n",
       "      <td>NaN</td>\n",
       "      <td>NaN</td>\n",
       "      <td>NaN</td>\n",
       "      <td>NaN</td>\n",
       "    </tr>\n",
       "  </tbody>\n",
       "</table>\n",
       "</div>"
      ],
      "text/plain": [
       "               2021  2022  2023  2024  2025\n",
       "id_asignatura                              \n",
       "1               1.0   1.0   1.0   1.0   1.0\n",
       "2               1.0   1.0   1.0   1.0   1.0\n",
       "3               1.0   1.0   1.0   1.0   1.0\n",
       "4               1.0   1.0   1.0   1.0   1.0\n",
       "5               1.0   1.0   1.0   1.0   1.0\n",
       "6               0.0   0.0   1.0   1.0   1.0\n",
       "7               1.0   1.0   1.0   1.0   1.0\n",
       "8               1.0   1.0   1.0   1.0   1.0\n",
       "9               0.0   0.0   1.0   1.0   1.0\n",
       "10              0.0   0.0   1.0   1.0   1.0\n",
       "11              0.0   0.0   1.0   1.0   1.0\n",
       "12              0.0   0.0   1.0   1.0   1.0\n",
       "13              0.0   0.0   1.0   1.0   1.0\n",
       "14              0.0   0.0   1.0   1.0   1.0\n",
       "15              0.0   0.0   1.0   1.0   1.0\n",
       "16              0.0   0.0   1.0   1.0   1.0\n",
       "17              0.0   0.0   1.0   1.0   1.0\n",
       "18              0.0   0.0   1.0   1.0   1.0\n",
       "19              0.0   0.0   1.0   1.0   1.0\n",
       "20              0.0   0.0   1.0   1.0   1.0\n",
       "21              1.0   1.0   1.0   0.0   0.0\n",
       "22              0.0   0.0   0.0   0.0   1.0\n",
       "23              NaN   NaN   NaN   NaN   NaN"
      ]
     },
     "execution_count": 65,
     "metadata": {},
     "output_type": "execute_result"
    }
   ],
   "source": [
    "pivot"
   ]
  },
  {
   "cell_type": "markdown",
   "id": "734ad96b",
   "metadata": {},
   "source": [
    "## 4. Moodle\n",
    "\n",
    "### Descripción general\n",
    "La fuente de Moodle recoge los eventos de interacción de los estudiantes en la plataforma educativa **Moodle** (versión **2020061503.04**) para los periodos **2024-1 a 2025-1**.\n",
    "\n",
    "Esta información es fundamental para analizar **autonomía** y **autoaprendizaje** a través del uso de recursos digitales.\n",
    "\n",
    "### ¿Qué se mide?\n",
    "\n",
    "- **Interacción en cursos**: Visualización de cursos, páginas, y recursos.\n",
    "- **Participación activa**: Envío de tareas, publicación en foros, realización de actividades evaluativas como quizzes.\n",
    "- **Seguimiento de procesos de aprendizaje**: Consultas de retroalimentaciones, revisión de calificaciones, interacción social en la plataforma.\n",
    "\n",
    "### Asignaturas principales con actividades de aprendizaje en Moodle:\n",
    "\n",
    "- Ciencias Naturales\n",
    "- Ciencias Sociales\n",
    "- Matemáticas\n",
    "- Lengua Castellana\n",
    "\n",
    "*(Las demás asignaturas solo cuentan con calendario de actividades publicado.)*\n",
    "\n",
    "---\n",
    "\n",
    "### Principales eventos extraídos\n",
    "\n",
    "| Evento | Descripción |\n",
    "|:---|:---|\n",
    "| assign_assessable_submitted | Entrega de tarea o actividad evaluativa. |\n",
    "| assign_feedback_viewed | El estudiante revisa la retroalimentación de una tarea enviada. |\n",
    "| assign_module_viewed | Visualiza o abre un módulo de tarea. |\n",
    "| assign_remove_submission_form_viewed | Consulta la opción para retirar una entrega hecha. |\n",
    "| assign_submission_form_viewed | Abre el formulario para enviar una tarea. |\n",
    "| chat_module_viewed | Accede a una sala de chat (comunicación instantánea). |\n",
    "| choice_answer_created | Selecciona una respuesta en una encuesta o elección. |\n",
    "| choice_module_viewed | Abre un módulo de encuesta o elección. |\n",
    "| course_viewed | Ingresa a un curso (actividad general e interés). |\n",
    "| feedback_module_viewed | Visualiza un módulo de retroalimentación (ej. encuestas). |\n",
    "| feedback_response_submitted | Envía respuestas a una encuesta o formulario de feedback. |\n",
    "| file_assessable_uploaded | Sube un archivo que será evaluado (ej: tarea en Word o PDF). |\n",
    "| file_submission_created | Crea y registra una entrega de archivo. |\n",
    "| forum_assessable_uploaded | Publica contenido evaluable en un foro. |\n",
    "| forum_course_searched | Realiza una búsqueda dentro de los foros. |\n",
    "| forum_discussion_created | Crea una nueva discusión en un foro. |\n",
    "| forum_discussion_deleted | Elimina una discusión que había creado. |\n",
    "| forum_discussion_subscription_created | Se suscribe a recibir notificaciones de una discusión específica. |\n",
    "| forum_discussion_subscription_deleted | Cancela su suscripción a una discusión del foro. |\n",
    "| forum_discussion_viewed | Lee el contenido de una discusión del foro. |\n",
    "| forum_module_viewed | Abre el módulo de foro en el curso. |\n",
    "| forum_post_created | Publica un nuevo mensaje o respuesta en un foro. |\n",
    "| forum_post_deleted | Elimina uno de sus propios mensajes en un foro. |\n",
    "| forum_post_updated | Edita un mensaje que ya había publicado en un foro. |\n",
    "| forum_subscription_created | Se suscribe a un foro completo (no solo a una discusión). |\n",
    "| hvp_attempt_submitted | Envía un intento de actividad H5P (contenido interactivo). |\n",
    "| hvp_module_viewed | Visualiza o abre un contenido interactivo H5P. |\n",
    "| lti_module_viewed | Abre un recurso externo tipo LTI (integraciones de otras plataformas). |\n",
    "| onlinetext_assessable_uploaded | Sube un texto en línea que será evaluado. |\n",
    "| onlinetext_submission_created | Crea una entrega de texto online (como una redacción o ensayo). |\n",
    "| page_module_viewed | Lee una página interna de contenido del curso. |\n",
    "| quiz_attempt_reviewed | Revisa un intento de cuestionario (quiz) luego de enviarlo. |\n",
    "| quiz_attempt_started | Inicia un intento de resolver un quiz. |\n",
    "| quiz_attempt_submitted | Envía un quiz terminado para su calificación. |\n",
    "| quiz_attempt_summary_viewed | Consulta el resumen de un intento de quiz. |\n",
    "| quiz_attempt_viewed | Revisa detalles de un intento de quiz pasado. |\n",
    "| quiz_module_viewed | Abre un módulo de cuestionario (quiz). |\n",
    "| resource_module_viewed | Visualiza un recurso como un PDF, Word, etc. |\n",
    "| submission_comment_created | Crea un comentario relacionado a una entrega hecha. |\n",
    "| submission_status_viewed | Consulta el estado de su entrega en una tarea (por ejemplo: enviado, pendiente). |\n",
    "| url_module_viewed | Abre un enlace externo sugerido en el curso. |\n",
    "\n",
    "\n",
    "---\n",
    "\n",
    "### Estructura de la tabla de logs (`moodle_logs.parquet` / MySQL 2024-2025)\n",
    "\n",
    "| Campo | Descripción |\n",
    "|:------|:------------|\n",
    "| id | ID del evento en la base de datos |\n",
    "| eventname | Nombre del evento (ej: course_viewed, quiz_attempt_started) |\n",
    "| component | Componente de Moodle (ej: mod_forum, mod_quiz) |\n",
    "| action | Acción realizada (ej: view, create, submit) |\n",
    "| target | Objeto del evento (ej: course, resource, page) |\n",
    "| objecttable | Tabla relacionada del objeto (opcional) |\n",
    "| objectid | ID del objeto relacionado |\n",
    "| crud | Tipo de acción CRUD (Create, Read, Update, Delete) |\n",
    "| edulevel | Nivel educativo del evento (teaching, participation, other) |\n",
    "| contextid | Contexto de ejecución del evento |\n",
    "| contextlevel | Nivel del contexto (ej: curso, módulo) |\n",
    "| contextinstanceid | ID específico del contexto |\n",
    "| userid | ID del estudiante que realiza la acción |\n",
    "| courseid | ID del curso donde ocurre el evento |\n",
    "| relateduserid | ID de otro usuario relacionado (opcional) |\n",
    "| anonymous | Indica si el evento fue anónimo |\n",
    "| other | Información adicional del evento (JSON) |\n",
    "| timecreated | Timestamp de creación del evento |\n",
    "| origin | Origen de la acción (web, móvil, API) |\n",
    "| ip | Dirección IP desde donde ocurrió el evento |\n",
    "| realuserid | ID real del usuario (si fue actuando en nombre de otro) |\n",
    "\n",
    "---\n",
    "\n",
    "### Notas:\n",
    "- El procesamiento de los eventos se limita a aquellos **relevantes para la interacción académica**.\n",
    "- Se descartaron eventos técnicos o administrativos no pertinentes para el análisis de comportamiento de aprendizaje.\n",
    "\n"
   ]
  },
  {
   "cell_type": "markdown",
   "id": "49292e58",
   "metadata": {},
   "source": [
    "## 5. Docentes\n",
    "\n",
    "### Descripción general\n",
    "La fuente de datos de docentes contiene información sobre el personal educativo correspondiente a los periodos **2024-1 hasta 2025-1**.\n",
    "\n",
    "---\n",
    "\n",
    "### Variables disponibles\n",
    "\n",
    "| Variable | Descripción |\n",
    "|:---------|:------------|\n",
    "| nombre | Nombre completo del docente. |\n",
    "| edad | Edad del docente al momento del registro. |\n",
    "| años_experiencia_ficc | Años de experiencia trabajando en la institución educativa FICC. |\n",
    "| años_experiencia_total | Total de años de experiencia laboral en el área educativa. |\n",
    "| nivel_educativo | Nivel educativo alcanzado (ej: pregrado, especialización, maestría). |\n",
    "| rol_adicional | Función adicional desempeñada en la institución (ej: Coordinador, Director de grupo, etc.). |\n",
    "\n",
    "---\n",
    "\n",
    "### Notas:\n",
    "\n",
    "- El dataset permite posteriormente analizar relaciones entre experiencia docente, nivel educativo y desempeño estudiantil.\n",
    "- Se utilizará principalmente para enriquecer el análisis de contexto académico y variables de entorno educativo.\n",
    "\n"
   ]
  },
  {
   "cell_type": "markdown",
   "id": "1752de4c",
   "metadata": {},
   "source": [
    "## 6. Carga Académica\n",
    "\n",
    "### Descripción general\n",
    "El dataset de **Carga Académica** contiene la relación entre los docentes, las asignaturas asignadas y la intensidad horaria correspondiente.\n",
    "\n",
    "Los datos disponibles abarcan los periodos **2024-1 hasta 2025-1**.\n",
    "\n",
    "---\n",
    "\n",
    "### Información contenida\n",
    "\n",
    "| Variable | Descripción |\n",
    "|:---------|:------------|\n",
    "| asignatura | Nombre de la asignatura asignada al docente. |\n",
    "| intensidad_horaria | Número de horas semanales o periodo dedicadas a la asignatura. |\n",
    "| docente_asignado | Nombre completo del docente encargado de la asignatura. |\n",
    "\n",
    "\n"
   ]
  }
 ],
 "metadata": {
  "kernelspec": {
   "display_name": "formar-innovar",
   "language": "python",
   "name": "python3"
  },
  "language_info": {
   "codemirror_mode": {
    "name": "ipython",
    "version": 3
   },
   "file_extension": ".py",
   "mimetype": "text/x-python",
   "name": "python",
   "nbconvert_exporter": "python",
   "pygments_lexer": "ipython3",
   "version": "3.10.14"
  }
 },
 "nbformat": 4,
 "nbformat_minor": 5
}
