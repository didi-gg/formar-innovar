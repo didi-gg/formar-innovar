{
 "cells": [
  {
   "cell_type": "markdown",
   "metadata": {},
   "source": [
    "# Codificación de Variables Categóricas a Numéricas\n",
    "\n",
    "Este notebook documenta el proceso de **transformación de variables categóricas** en representaciones numéricas para su uso en algoritmos de machine learning."
   ]
  },
  {
   "cell_type": "code",
   "execution_count": 1,
   "metadata": {},
   "outputs": [],
   "source": [
    "import sys\n",
    "import os\n",
    "import pandas as pd\n",
    "\n",
    "current_dir = os.path.dirname(os.path.abspath('__file__'))\n",
    "project_root = os.path.abspath(os.path.join(current_dir, '..', '..'))\n",
    "if project_root not in sys.path:\n",
    "    sys.path.append(project_root)\n",
    "\n",
    "from scripts.eda_analyzer import EDAAnalyzer\n",
    "from scripts.transform.encoding_handler import EncodingHandler"
   ]
  },
  {
   "cell_type": "code",
   "execution_count": 2,
   "metadata": {},
   "outputs": [],
   "source": [
    "df = pd.read_csv('../../data/raw/Estudiantes_imputed.csv')\n",
    "eda = EDAAnalyzer()\n",
    "encoder = EncodingHandler()"
   ]
  },
  {
   "cell_type": "code",
   "execution_count": 3,
   "metadata": {},
   "outputs": [
    {
     "data": {
      "text/plain": [
       "['año_ingreso',\n",
       " 'antigüedad',\n",
       " 'género',\n",
       " 'país_origen',\n",
       " 'estrato',\n",
       " 'tipo_vivienda',\n",
       " 'zona_vivienda',\n",
       " 'interés_estudios_superiores',\n",
       " 'medio_transporte',\n",
       " 'apoyo_familiar',\n",
       " 'familia',\n",
       " 'actividades_extracurriculares',\n",
       " 'enfermedades',\n",
       " 'proyección_vocacional',\n",
       " 'participación_clase',\n",
       " 'nee',\n",
       " 'nivel_motivación']"
      ]
     },
     "execution_count": 3,
     "metadata": {},
     "output_type": "execute_result"
    }
   ],
   "source": [
    "cat_vals = [col for col in df.columns if col not in ['ID','sede', 'nivel', 'grado', 'orden_grado', 'documento_identificación', 'primer_apellido', 'segundo_apellido', 'nombres', 'fecha_nacimiento', 'dirección', 'valoración_emocional', 'total_hermanos', 'horas_semana_estudio_casa']]\n",
    "cat_vals"
   ]
  },
  {
   "cell_type": "markdown",
   "metadata": {},
   "source": [
    "## Mapeo de Variables Ordinales: \"Alto - Medio - Bajo\"\n",
    "\n",
    "Se identificaron variables en las que las categorías tienen un **orden implícito**, por ejemplo: \"Alto\", \"Medio\", \"Bajo\". En estos casos se utilizó **codificación por pesos ordinales**, asignando valores 1, 2 y 3 respectivamente."
   ]
  },
  {
   "cell_type": "markdown",
   "metadata": {},
   "source": [
    "### Interés estudios superiores"
   ]
  },
  {
   "cell_type": "code",
   "execution_count": 4,
   "metadata": {},
   "outputs": [
    {
     "data": {
      "application/vnd.microsoft.datawrangler.viewer.v0+json": {
       "columns": [
        {
         "name": "index",
         "rawType": "int64",
         "type": "integer"
        },
        {
         "name": "interés_estudios_superiores",
         "rawType": "object",
         "type": "string"
        },
        {
         "name": "interés_estudios_superiores_peso",
         "rawType": "int64",
         "type": "integer"
        }
       ],
       "conversionMethod": "pd.DataFrame",
       "ref": "e18a46af-d0b8-4484-abcb-ee5081881c80",
       "rows": [
        [
         "0",
         "Alto",
         "1"
        ],
        [
         "1",
         "Alto",
         "1"
        ],
        [
         "2",
         "Medio",
         "2"
        ],
        [
         "3",
         "Alto",
         "1"
        ],
        [
         "4",
         "Bajo",
         "3"
        ],
        [
         "5",
         "Alto",
         "1"
        ],
        [
         "6",
         "Alto",
         "1"
        ],
        [
         "7",
         "Medio",
         "2"
        ],
        [
         "8",
         "Alto",
         "1"
        ],
        [
         "9",
         "Medio",
         "2"
        ],
        [
         "10",
         "Alto",
         "1"
        ],
        [
         "11",
         "Alto",
         "1"
        ],
        [
         "12",
         "Alto",
         "1"
        ],
        [
         "13",
         "Medio",
         "2"
        ],
        [
         "14",
         "Alto",
         "1"
        ],
        [
         "15",
         "Alto",
         "1"
        ],
        [
         "16",
         "Alto",
         "1"
        ],
        [
         "17",
         "Alto",
         "1"
        ],
        [
         "18",
         "Alto",
         "1"
        ],
        [
         "19",
         "Medio",
         "2"
        ],
        [
         "20",
         "Medio",
         "2"
        ],
        [
         "21",
         "Bajo",
         "3"
        ],
        [
         "22",
         "Alto",
         "1"
        ],
        [
         "23",
         "Alto",
         "1"
        ],
        [
         "24",
         "Alto",
         "1"
        ],
        [
         "25",
         "Alto",
         "1"
        ],
        [
         "26",
         "Alto",
         "1"
        ],
        [
         "27",
         "Alto",
         "1"
        ],
        [
         "28",
         "Alto",
         "1"
        ],
        [
         "29",
         "Alto",
         "1"
        ],
        [
         "30",
         "Alto",
         "1"
        ],
        [
         "31",
         "Medio",
         "2"
        ],
        [
         "32",
         "Alto",
         "1"
        ],
        [
         "33",
         "Medio",
         "2"
        ],
        [
         "34",
         "Alto",
         "1"
        ],
        [
         "35",
         "Medio",
         "2"
        ],
        [
         "36",
         "Alto",
         "1"
        ],
        [
         "37",
         "Alto",
         "1"
        ],
        [
         "38",
         "Alto",
         "1"
        ],
        [
         "39",
         "Alto",
         "1"
        ],
        [
         "40",
         "Alto",
         "1"
        ],
        [
         "41",
         "Medio",
         "2"
        ],
        [
         "42",
         "Alto",
         "1"
        ],
        [
         "43",
         "Alto",
         "1"
        ],
        [
         "44",
         "Alto",
         "1"
        ],
        [
         "45",
         "Alto",
         "1"
        ],
        [
         "46",
         "Alto",
         "1"
        ],
        [
         "47",
         "Medio",
         "2"
        ],
        [
         "48",
         "Alto",
         "1"
        ],
        [
         "49",
         "Alto",
         "1"
        ]
       ],
       "shape": {
        "columns": 2,
        "rows": 367
       }
      },
      "text/html": [
       "<div>\n",
       "<style scoped>\n",
       "    .dataframe tbody tr th:only-of-type {\n",
       "        vertical-align: middle;\n",
       "    }\n",
       "\n",
       "    .dataframe tbody tr th {\n",
       "        vertical-align: top;\n",
       "    }\n",
       "\n",
       "    .dataframe thead th {\n",
       "        text-align: right;\n",
       "    }\n",
       "</style>\n",
       "<table border=\"1\" class=\"dataframe\">\n",
       "  <thead>\n",
       "    <tr style=\"text-align: right;\">\n",
       "      <th></th>\n",
       "      <th>interés_estudios_superiores</th>\n",
       "      <th>interés_estudios_superiores_peso</th>\n",
       "    </tr>\n",
       "  </thead>\n",
       "  <tbody>\n",
       "    <tr>\n",
       "      <th>0</th>\n",
       "      <td>Alto</td>\n",
       "      <td>1</td>\n",
       "    </tr>\n",
       "    <tr>\n",
       "      <th>1</th>\n",
       "      <td>Alto</td>\n",
       "      <td>1</td>\n",
       "    </tr>\n",
       "    <tr>\n",
       "      <th>2</th>\n",
       "      <td>Medio</td>\n",
       "      <td>2</td>\n",
       "    </tr>\n",
       "    <tr>\n",
       "      <th>3</th>\n",
       "      <td>Alto</td>\n",
       "      <td>1</td>\n",
       "    </tr>\n",
       "    <tr>\n",
       "      <th>4</th>\n",
       "      <td>Bajo</td>\n",
       "      <td>3</td>\n",
       "    </tr>\n",
       "    <tr>\n",
       "      <th>...</th>\n",
       "      <td>...</td>\n",
       "      <td>...</td>\n",
       "    </tr>\n",
       "    <tr>\n",
       "      <th>362</th>\n",
       "      <td>Bajo</td>\n",
       "      <td>3</td>\n",
       "    </tr>\n",
       "    <tr>\n",
       "      <th>363</th>\n",
       "      <td>Alto</td>\n",
       "      <td>1</td>\n",
       "    </tr>\n",
       "    <tr>\n",
       "      <th>364</th>\n",
       "      <td>Alto</td>\n",
       "      <td>1</td>\n",
       "    </tr>\n",
       "    <tr>\n",
       "      <th>365</th>\n",
       "      <td>Medio</td>\n",
       "      <td>2</td>\n",
       "    </tr>\n",
       "    <tr>\n",
       "      <th>366</th>\n",
       "      <td>Alto</td>\n",
       "      <td>1</td>\n",
       "    </tr>\n",
       "  </tbody>\n",
       "</table>\n",
       "<p>367 rows × 2 columns</p>\n",
       "</div>"
      ],
      "text/plain": [
       "    interés_estudios_superiores  interés_estudios_superiores_peso\n",
       "0                          Alto                                 1\n",
       "1                          Alto                                 1\n",
       "2                         Medio                                 2\n",
       "3                          Alto                                 1\n",
       "4                          Bajo                                 3\n",
       "..                          ...                               ...\n",
       "362                        Bajo                                 3\n",
       "363                        Alto                                 1\n",
       "364                        Alto                                 1\n",
       "365                       Medio                                 2\n",
       "366                        Alto                                 1\n",
       "\n",
       "[367 rows x 2 columns]"
      ]
     },
     "execution_count": 4,
     "metadata": {},
     "output_type": "execute_result"
    }
   ],
   "source": [
    "motivacion_map = {\n",
    "    'Alto': 1,\n",
    "    'Medio': 2,\n",
    "    'Bajo': 3\n",
    "}\n",
    "df = encoder.weight_encode(df, 'interés_estudios_superiores', motivacion_map)\n",
    "df[['interés_estudios_superiores', 'interés_estudios_superiores_peso']]"
   ]
  },
  {
   "cell_type": "markdown",
   "metadata": {},
   "source": [
    "### Nivel de motivación"
   ]
  },
  {
   "cell_type": "code",
   "execution_count": 5,
   "metadata": {},
   "outputs": [
    {
     "data": {
      "application/vnd.microsoft.datawrangler.viewer.v0+json": {
       "columns": [
        {
         "name": "index",
         "rawType": "int64",
         "type": "integer"
        },
        {
         "name": "nivel_motivación",
         "rawType": "object",
         "type": "string"
        },
        {
         "name": "nivel_motivación_peso",
         "rawType": "int64",
         "type": "integer"
        }
       ],
       "conversionMethod": "pd.DataFrame",
       "ref": "6d82c10b-e19c-4d8c-aaf8-3cbfb06135bb",
       "rows": [
        [
         "0",
         "Alto",
         "1"
        ],
        [
         "1",
         "Alto",
         "1"
        ],
        [
         "2",
         "Alto",
         "1"
        ],
        [
         "3",
         "Medio",
         "2"
        ],
        [
         "4",
         "Medio",
         "2"
        ],
        [
         "5",
         "Alto",
         "1"
        ],
        [
         "6",
         "Alto",
         "1"
        ],
        [
         "7",
         "Alto",
         "1"
        ],
        [
         "8",
         "Alto",
         "1"
        ],
        [
         "9",
         "Bajo",
         "3"
        ],
        [
         "10",
         "Medio",
         "2"
        ],
        [
         "11",
         "Alto",
         "1"
        ],
        [
         "12",
         "Alto",
         "1"
        ],
        [
         "13",
         "Alto",
         "1"
        ],
        [
         "14",
         "Alto",
         "1"
        ],
        [
         "15",
         "Alto",
         "1"
        ],
        [
         "16",
         "Bajo",
         "3"
        ],
        [
         "17",
         "Alto",
         "1"
        ],
        [
         "18",
         "Alto",
         "1"
        ],
        [
         "19",
         "Alto",
         "1"
        ],
        [
         "20",
         "Alto",
         "1"
        ],
        [
         "21",
         "Alto",
         "1"
        ],
        [
         "22",
         "Alto",
         "1"
        ],
        [
         "23",
         "Medio",
         "2"
        ],
        [
         "24",
         "Alto",
         "1"
        ],
        [
         "25",
         "Alto",
         "1"
        ],
        [
         "26",
         "Alto",
         "1"
        ],
        [
         "27",
         "Alto",
         "1"
        ],
        [
         "28",
         "Medio",
         "2"
        ],
        [
         "29",
         "Alto",
         "1"
        ],
        [
         "30",
         "Medio",
         "2"
        ],
        [
         "31",
         "Alto",
         "1"
        ],
        [
         "32",
         "Alto",
         "1"
        ],
        [
         "33",
         "Medio",
         "2"
        ],
        [
         "34",
         "Alto",
         "1"
        ],
        [
         "35",
         "Medio",
         "2"
        ],
        [
         "36",
         "Medio",
         "2"
        ],
        [
         "37",
         "Alto",
         "1"
        ],
        [
         "38",
         "Medio",
         "2"
        ],
        [
         "39",
         "Alto",
         "1"
        ],
        [
         "40",
         "Alto",
         "1"
        ],
        [
         "41",
         "Medio",
         "2"
        ],
        [
         "42",
         "Alto",
         "1"
        ],
        [
         "43",
         "Alto",
         "1"
        ],
        [
         "44",
         "Alto",
         "1"
        ],
        [
         "45",
         "Alto",
         "1"
        ],
        [
         "46",
         "Alto",
         "1"
        ],
        [
         "47",
         "Alto",
         "1"
        ],
        [
         "48",
         "Alto",
         "1"
        ],
        [
         "49",
         "Medio",
         "2"
        ]
       ],
       "shape": {
        "columns": 2,
        "rows": 367
       }
      },
      "text/html": [
       "<div>\n",
       "<style scoped>\n",
       "    .dataframe tbody tr th:only-of-type {\n",
       "        vertical-align: middle;\n",
       "    }\n",
       "\n",
       "    .dataframe tbody tr th {\n",
       "        vertical-align: top;\n",
       "    }\n",
       "\n",
       "    .dataframe thead th {\n",
       "        text-align: right;\n",
       "    }\n",
       "</style>\n",
       "<table border=\"1\" class=\"dataframe\">\n",
       "  <thead>\n",
       "    <tr style=\"text-align: right;\">\n",
       "      <th></th>\n",
       "      <th>nivel_motivación</th>\n",
       "      <th>nivel_motivación_peso</th>\n",
       "    </tr>\n",
       "  </thead>\n",
       "  <tbody>\n",
       "    <tr>\n",
       "      <th>0</th>\n",
       "      <td>Alto</td>\n",
       "      <td>1</td>\n",
       "    </tr>\n",
       "    <tr>\n",
       "      <th>1</th>\n",
       "      <td>Alto</td>\n",
       "      <td>1</td>\n",
       "    </tr>\n",
       "    <tr>\n",
       "      <th>2</th>\n",
       "      <td>Alto</td>\n",
       "      <td>1</td>\n",
       "    </tr>\n",
       "    <tr>\n",
       "      <th>3</th>\n",
       "      <td>Medio</td>\n",
       "      <td>2</td>\n",
       "    </tr>\n",
       "    <tr>\n",
       "      <th>4</th>\n",
       "      <td>Medio</td>\n",
       "      <td>2</td>\n",
       "    </tr>\n",
       "    <tr>\n",
       "      <th>...</th>\n",
       "      <td>...</td>\n",
       "      <td>...</td>\n",
       "    </tr>\n",
       "    <tr>\n",
       "      <th>362</th>\n",
       "      <td>Medio</td>\n",
       "      <td>2</td>\n",
       "    </tr>\n",
       "    <tr>\n",
       "      <th>363</th>\n",
       "      <td>Alto</td>\n",
       "      <td>1</td>\n",
       "    </tr>\n",
       "    <tr>\n",
       "      <th>364</th>\n",
       "      <td>Alto</td>\n",
       "      <td>1</td>\n",
       "    </tr>\n",
       "    <tr>\n",
       "      <th>365</th>\n",
       "      <td>Bajo</td>\n",
       "      <td>3</td>\n",
       "    </tr>\n",
       "    <tr>\n",
       "      <th>366</th>\n",
       "      <td>Alto</td>\n",
       "      <td>1</td>\n",
       "    </tr>\n",
       "  </tbody>\n",
       "</table>\n",
       "<p>367 rows × 2 columns</p>\n",
       "</div>"
      ],
      "text/plain": [
       "    nivel_motivación  nivel_motivación_peso\n",
       "0               Alto                      1\n",
       "1               Alto                      1\n",
       "2               Alto                      1\n",
       "3              Medio                      2\n",
       "4              Medio                      2\n",
       "..               ...                    ...\n",
       "362            Medio                      2\n",
       "363             Alto                      1\n",
       "364             Alto                      1\n",
       "365             Bajo                      3\n",
       "366             Alto                      1\n",
       "\n",
       "[367 rows x 2 columns]"
      ]
     },
     "execution_count": 5,
     "metadata": {},
     "output_type": "execute_result"
    }
   ],
   "source": [
    "motivacion_map = {\n",
    "    'Alto': 1,\n",
    "    'Medio': 2,\n",
    "    'Bajo': 3\n",
    "}\n",
    "df = encoder.weight_encode(df, 'nivel_motivación', motivacion_map)\n",
    "df[['nivel_motivación', 'nivel_motivación_peso']]"
   ]
  },
  {
   "cell_type": "markdown",
   "metadata": {},
   "source": [
    "### Apoyo familiar"
   ]
  },
  {
   "cell_type": "code",
   "execution_count": 6,
   "metadata": {},
   "outputs": [
    {
     "data": {
      "application/vnd.microsoft.datawrangler.viewer.v0+json": {
       "columns": [
        {
         "name": "index",
         "rawType": "int64",
         "type": "integer"
        },
        {
         "name": "apoyo_familiar",
         "rawType": "object",
         "type": "string"
        },
        {
         "name": "apoyo_familiar_peso",
         "rawType": "int64",
         "type": "integer"
        }
       ],
       "conversionMethod": "pd.DataFrame",
       "ref": "a457a172-cf7d-4d8d-9bac-ad88b4527a14",
       "rows": [
        [
         "0",
         "Medio",
         "2"
        ],
        [
         "1",
         "Alto",
         "1"
        ],
        [
         "2",
         "Alto",
         "1"
        ],
        [
         "3",
         "Alto",
         "1"
        ],
        [
         "4",
         "Medio",
         "2"
        ],
        [
         "5",
         "Alto",
         "1"
        ],
        [
         "6",
         "Alto",
         "1"
        ],
        [
         "7",
         "Alto",
         "1"
        ],
        [
         "8",
         "Alto",
         "1"
        ],
        [
         "9",
         "Bajo",
         "3"
        ],
        [
         "10",
         "Medio",
         "2"
        ],
        [
         "11",
         "Alto",
         "1"
        ],
        [
         "12",
         "Alto",
         "1"
        ],
        [
         "13",
         "Alto",
         "1"
        ],
        [
         "14",
         "Alto",
         "1"
        ],
        [
         "15",
         "Alto",
         "1"
        ],
        [
         "16",
         "Medio",
         "2"
        ],
        [
         "17",
         "Alto",
         "1"
        ],
        [
         "18",
         "Alto",
         "1"
        ],
        [
         "19",
         "Alto",
         "1"
        ],
        [
         "20",
         "Alto",
         "1"
        ],
        [
         "21",
         "Alto",
         "1"
        ],
        [
         "22",
         "Alto",
         "1"
        ],
        [
         "23",
         "Medio",
         "2"
        ],
        [
         "24",
         "Alto",
         "1"
        ],
        [
         "25",
         "Medio",
         "2"
        ],
        [
         "26",
         "Alto",
         "1"
        ],
        [
         "27",
         "Alto",
         "1"
        ],
        [
         "28",
         "Alto",
         "1"
        ],
        [
         "29",
         "Medio",
         "2"
        ],
        [
         "30",
         "Medio",
         "2"
        ],
        [
         "31",
         "Alto",
         "1"
        ],
        [
         "32",
         "Alto",
         "1"
        ],
        [
         "33",
         "Alto",
         "1"
        ],
        [
         "34",
         "Medio",
         "2"
        ],
        [
         "35",
         "Alto",
         "1"
        ],
        [
         "36",
         "Alto",
         "1"
        ],
        [
         "37",
         "Alto",
         "1"
        ],
        [
         "38",
         "Medio",
         "2"
        ],
        [
         "39",
         "Alto",
         "1"
        ],
        [
         "40",
         "Alto",
         "1"
        ],
        [
         "41",
         "Alto",
         "1"
        ],
        [
         "42",
         "Alto",
         "1"
        ],
        [
         "43",
         "Medio",
         "2"
        ],
        [
         "44",
         "Alto",
         "1"
        ],
        [
         "45",
         "Alto",
         "1"
        ],
        [
         "46",
         "Alto",
         "1"
        ],
        [
         "47",
         "Alto",
         "1"
        ],
        [
         "48",
         "Alto",
         "1"
        ],
        [
         "49",
         "Alto",
         "1"
        ]
       ],
       "shape": {
        "columns": 2,
        "rows": 367
       }
      },
      "text/html": [
       "<div>\n",
       "<style scoped>\n",
       "    .dataframe tbody tr th:only-of-type {\n",
       "        vertical-align: middle;\n",
       "    }\n",
       "\n",
       "    .dataframe tbody tr th {\n",
       "        vertical-align: top;\n",
       "    }\n",
       "\n",
       "    .dataframe thead th {\n",
       "        text-align: right;\n",
       "    }\n",
       "</style>\n",
       "<table border=\"1\" class=\"dataframe\">\n",
       "  <thead>\n",
       "    <tr style=\"text-align: right;\">\n",
       "      <th></th>\n",
       "      <th>apoyo_familiar</th>\n",
       "      <th>apoyo_familiar_peso</th>\n",
       "    </tr>\n",
       "  </thead>\n",
       "  <tbody>\n",
       "    <tr>\n",
       "      <th>0</th>\n",
       "      <td>Medio</td>\n",
       "      <td>2</td>\n",
       "    </tr>\n",
       "    <tr>\n",
       "      <th>1</th>\n",
       "      <td>Alto</td>\n",
       "      <td>1</td>\n",
       "    </tr>\n",
       "    <tr>\n",
       "      <th>2</th>\n",
       "      <td>Alto</td>\n",
       "      <td>1</td>\n",
       "    </tr>\n",
       "    <tr>\n",
       "      <th>3</th>\n",
       "      <td>Alto</td>\n",
       "      <td>1</td>\n",
       "    </tr>\n",
       "    <tr>\n",
       "      <th>4</th>\n",
       "      <td>Medio</td>\n",
       "      <td>2</td>\n",
       "    </tr>\n",
       "    <tr>\n",
       "      <th>...</th>\n",
       "      <td>...</td>\n",
       "      <td>...</td>\n",
       "    </tr>\n",
       "    <tr>\n",
       "      <th>362</th>\n",
       "      <td>Medio</td>\n",
       "      <td>2</td>\n",
       "    </tr>\n",
       "    <tr>\n",
       "      <th>363</th>\n",
       "      <td>Medio</td>\n",
       "      <td>2</td>\n",
       "    </tr>\n",
       "    <tr>\n",
       "      <th>364</th>\n",
       "      <td>Alto</td>\n",
       "      <td>1</td>\n",
       "    </tr>\n",
       "    <tr>\n",
       "      <th>365</th>\n",
       "      <td>Medio</td>\n",
       "      <td>2</td>\n",
       "    </tr>\n",
       "    <tr>\n",
       "      <th>366</th>\n",
       "      <td>Alto</td>\n",
       "      <td>1</td>\n",
       "    </tr>\n",
       "  </tbody>\n",
       "</table>\n",
       "<p>367 rows × 2 columns</p>\n",
       "</div>"
      ],
      "text/plain": [
       "    apoyo_familiar  apoyo_familiar_peso\n",
       "0            Medio                    2\n",
       "1             Alto                    1\n",
       "2             Alto                    1\n",
       "3             Alto                    1\n",
       "4            Medio                    2\n",
       "..             ...                  ...\n",
       "362          Medio                    2\n",
       "363          Medio                    2\n",
       "364           Alto                    1\n",
       "365          Medio                    2\n",
       "366           Alto                    1\n",
       "\n",
       "[367 rows x 2 columns]"
      ]
     },
     "execution_count": 6,
     "metadata": {},
     "output_type": "execute_result"
    }
   ],
   "source": [
    "motivacion_map = {\n",
    "    'Alto': 1,\n",
    "    'Medio': 2,\n",
    "    'Bajo': 3\n",
    "}\n",
    "df = encoder.weight_encode(df, 'apoyo_familiar', motivacion_map)\n",
    "df[['apoyo_familiar', 'apoyo_familiar_peso']]"
   ]
  },
  {
   "cell_type": "markdown",
   "metadata": {},
   "source": [
    "### Participación en clase"
   ]
  },
  {
   "cell_type": "code",
   "execution_count": 7,
   "metadata": {},
   "outputs": [
    {
     "data": {
      "application/vnd.microsoft.datawrangler.viewer.v0+json": {
       "columns": [
        {
         "name": "index",
         "rawType": "int64",
         "type": "integer"
        },
        {
         "name": "participación_clase",
         "rawType": "object",
         "type": "string"
        },
        {
         "name": "participación_clase_peso",
         "rawType": "int64",
         "type": "integer"
        }
       ],
       "conversionMethod": "pd.DataFrame",
       "ref": "67f72af9-edb9-47d7-8e51-2e7340854de4",
       "rows": [
        [
         "0",
         "Alta",
         "1"
        ],
        [
         "1",
         "Alta",
         "1"
        ],
        [
         "2",
         "Media",
         "2"
        ],
        [
         "3",
         "Media",
         "2"
        ],
        [
         "4",
         "Media",
         "2"
        ],
        [
         "5",
         "Media",
         "2"
        ],
        [
         "6",
         "Alta",
         "1"
        ],
        [
         "7",
         "Media",
         "2"
        ],
        [
         "8",
         "Alta",
         "1"
        ],
        [
         "9",
         "Alta",
         "1"
        ],
        [
         "10",
         "Media",
         "2"
        ],
        [
         "11",
         "Alta",
         "1"
        ],
        [
         "12",
         "Alta",
         "1"
        ],
        [
         "13",
         "Alta",
         "1"
        ],
        [
         "14",
         "Alta",
         "1"
        ],
        [
         "15",
         "Alta",
         "1"
        ],
        [
         "16",
         "Media",
         "2"
        ],
        [
         "17",
         "Alta",
         "1"
        ],
        [
         "18",
         "Media",
         "2"
        ],
        [
         "19",
         "Media",
         "2"
        ],
        [
         "20",
         "Media",
         "2"
        ],
        [
         "21",
         "Media",
         "2"
        ],
        [
         "22",
         "Alta",
         "1"
        ],
        [
         "23",
         "Media",
         "2"
        ],
        [
         "24",
         "Alta",
         "1"
        ],
        [
         "25",
         "Media",
         "2"
        ],
        [
         "26",
         "Alta",
         "1"
        ],
        [
         "27",
         "Media",
         "2"
        ],
        [
         "28",
         "Baja",
         "3"
        ],
        [
         "29",
         "Alta",
         "1"
        ],
        [
         "30",
         "Media",
         "2"
        ],
        [
         "31",
         "Baja",
         "3"
        ],
        [
         "32",
         "Media",
         "2"
        ],
        [
         "33",
         "Media",
         "2"
        ],
        [
         "34",
         "Alta",
         "1"
        ],
        [
         "35",
         "Baja",
         "3"
        ],
        [
         "36",
         "Alta",
         "1"
        ],
        [
         "37",
         "Alta",
         "1"
        ],
        [
         "38",
         "Alta",
         "1"
        ],
        [
         "39",
         "Alta",
         "1"
        ],
        [
         "40",
         "Alta",
         "1"
        ],
        [
         "41",
         "Alta",
         "1"
        ],
        [
         "42",
         "Alta",
         "1"
        ],
        [
         "43",
         "Media",
         "2"
        ],
        [
         "44",
         "Media",
         "2"
        ],
        [
         "45",
         "Alta",
         "1"
        ],
        [
         "46",
         "Baja",
         "3"
        ],
        [
         "47",
         "Media",
         "2"
        ],
        [
         "48",
         "Alta",
         "1"
        ],
        [
         "49",
         "Media",
         "2"
        ]
       ],
       "shape": {
        "columns": 2,
        "rows": 367
       }
      },
      "text/html": [
       "<div>\n",
       "<style scoped>\n",
       "    .dataframe tbody tr th:only-of-type {\n",
       "        vertical-align: middle;\n",
       "    }\n",
       "\n",
       "    .dataframe tbody tr th {\n",
       "        vertical-align: top;\n",
       "    }\n",
       "\n",
       "    .dataframe thead th {\n",
       "        text-align: right;\n",
       "    }\n",
       "</style>\n",
       "<table border=\"1\" class=\"dataframe\">\n",
       "  <thead>\n",
       "    <tr style=\"text-align: right;\">\n",
       "      <th></th>\n",
       "      <th>participación_clase</th>\n",
       "      <th>participación_clase_peso</th>\n",
       "    </tr>\n",
       "  </thead>\n",
       "  <tbody>\n",
       "    <tr>\n",
       "      <th>0</th>\n",
       "      <td>Alta</td>\n",
       "      <td>1</td>\n",
       "    </tr>\n",
       "    <tr>\n",
       "      <th>1</th>\n",
       "      <td>Alta</td>\n",
       "      <td>1</td>\n",
       "    </tr>\n",
       "    <tr>\n",
       "      <th>2</th>\n",
       "      <td>Media</td>\n",
       "      <td>2</td>\n",
       "    </tr>\n",
       "    <tr>\n",
       "      <th>3</th>\n",
       "      <td>Media</td>\n",
       "      <td>2</td>\n",
       "    </tr>\n",
       "    <tr>\n",
       "      <th>4</th>\n",
       "      <td>Media</td>\n",
       "      <td>2</td>\n",
       "    </tr>\n",
       "    <tr>\n",
       "      <th>...</th>\n",
       "      <td>...</td>\n",
       "      <td>...</td>\n",
       "    </tr>\n",
       "    <tr>\n",
       "      <th>362</th>\n",
       "      <td>Media</td>\n",
       "      <td>2</td>\n",
       "    </tr>\n",
       "    <tr>\n",
       "      <th>363</th>\n",
       "      <td>Media</td>\n",
       "      <td>2</td>\n",
       "    </tr>\n",
       "    <tr>\n",
       "      <th>364</th>\n",
       "      <td>Media</td>\n",
       "      <td>2</td>\n",
       "    </tr>\n",
       "    <tr>\n",
       "      <th>365</th>\n",
       "      <td>Baja</td>\n",
       "      <td>3</td>\n",
       "    </tr>\n",
       "    <tr>\n",
       "      <th>366</th>\n",
       "      <td>Media</td>\n",
       "      <td>2</td>\n",
       "    </tr>\n",
       "  </tbody>\n",
       "</table>\n",
       "<p>367 rows × 2 columns</p>\n",
       "</div>"
      ],
      "text/plain": [
       "    participación_clase  participación_clase_peso\n",
       "0                  Alta                         1\n",
       "1                  Alta                         1\n",
       "2                 Media                         2\n",
       "3                 Media                         2\n",
       "4                 Media                         2\n",
       "..                  ...                       ...\n",
       "362               Media                         2\n",
       "363               Media                         2\n",
       "364               Media                         2\n",
       "365                Baja                         3\n",
       "366               Media                         2\n",
       "\n",
       "[367 rows x 2 columns]"
      ]
     },
     "execution_count": 7,
     "metadata": {},
     "output_type": "execute_result"
    }
   ],
   "source": [
    "motivacion_map = {\n",
    "    'Alta': 1,\n",
    "    'Media': 2,\n",
    "    'Baja': 3\n",
    "}\n",
    "df = encoder.weight_encode(df, 'participación_clase', motivacion_map)\n",
    "df[['participación_clase', 'participación_clase_peso']]"
   ]
  },
  {
   "cell_type": "markdown",
   "metadata": {},
   "source": [
    "## Mapeo"
   ]
  },
  {
   "cell_type": "markdown",
   "metadata": {},
   "source": [
    "### Año Ingreso"
   ]
  },
  {
   "cell_type": "code",
   "execution_count": 8,
   "metadata": {},
   "outputs": [
    {
     "data": {
      "application/vnd.microsoft.datawrangler.viewer.v0+json": {
       "columns": [
        {
         "name": "index",
         "rawType": "int64",
         "type": "integer"
        },
        {
         "name": "año_ingreso",
         "rawType": "int64",
         "type": "integer"
        },
        {
         "name": "año_ingreso_peso",
         "rawType": "int64",
         "type": "integer"
        }
       ],
       "conversionMethod": "pd.DataFrame",
       "ref": "2d6f7aa2-8729-47a9-8ef9-4c573c76f996",
       "rows": [
        [
         "0",
         "2023",
         "3"
        ],
        [
         "1",
         "2023",
         "3"
        ],
        [
         "2",
         "2024",
         "2"
        ],
        [
         "3",
         "2024",
         "2"
        ],
        [
         "4",
         "2023",
         "3"
        ],
        [
         "5",
         "2023",
         "3"
        ],
        [
         "6",
         "2023",
         "3"
        ],
        [
         "7",
         "2024",
         "2"
        ],
        [
         "8",
         "2024",
         "2"
        ],
        [
         "9",
         "2023",
         "3"
        ],
        [
         "10",
         "2024",
         "2"
        ],
        [
         "11",
         "2023",
         "3"
        ],
        [
         "12",
         "2024",
         "2"
        ],
        [
         "13",
         "2024",
         "2"
        ],
        [
         "14",
         "2023",
         "3"
        ],
        [
         "15",
         "2024",
         "2"
        ],
        [
         "16",
         "2023",
         "3"
        ],
        [
         "17",
         "2024",
         "2"
        ],
        [
         "18",
         "2023",
         "3"
        ],
        [
         "19",
         "2023",
         "3"
        ],
        [
         "20",
         "2023",
         "3"
        ],
        [
         "21",
         "2023",
         "3"
        ],
        [
         "22",
         "2024",
         "2"
        ],
        [
         "23",
         "2023",
         "3"
        ],
        [
         "24",
         "2023",
         "3"
        ],
        [
         "25",
         "2024",
         "2"
        ],
        [
         "26",
         "2024",
         "2"
        ],
        [
         "27",
         "2023",
         "3"
        ],
        [
         "28",
         "2023",
         "3"
        ],
        [
         "29",
         "2023",
         "3"
        ],
        [
         "30",
         "2023",
         "3"
        ],
        [
         "31",
         "2023",
         "3"
        ],
        [
         "32",
         "2023",
         "3"
        ],
        [
         "33",
         "2023",
         "3"
        ],
        [
         "34",
         "2023",
         "3"
        ],
        [
         "35",
         "2023",
         "3"
        ],
        [
         "36",
         "2024",
         "2"
        ],
        [
         "37",
         "2024",
         "2"
        ],
        [
         "38",
         "2023",
         "3"
        ],
        [
         "39",
         "2023",
         "3"
        ],
        [
         "40",
         "2023",
         "3"
        ],
        [
         "41",
         "2023",
         "3"
        ],
        [
         "42",
         "2023",
         "3"
        ],
        [
         "43",
         "2023",
         "3"
        ],
        [
         "44",
         "2023",
         "3"
        ],
        [
         "45",
         "2024",
         "2"
        ],
        [
         "46",
         "2023",
         "3"
        ],
        [
         "47",
         "2023",
         "3"
        ],
        [
         "48",
         "2024",
         "2"
        ],
        [
         "49",
         "2023",
         "3"
        ]
       ],
       "shape": {
        "columns": 2,
        "rows": 367
       }
      },
      "text/html": [
       "<div>\n",
       "<style scoped>\n",
       "    .dataframe tbody tr th:only-of-type {\n",
       "        vertical-align: middle;\n",
       "    }\n",
       "\n",
       "    .dataframe tbody tr th {\n",
       "        vertical-align: top;\n",
       "    }\n",
       "\n",
       "    .dataframe thead th {\n",
       "        text-align: right;\n",
       "    }\n",
       "</style>\n",
       "<table border=\"1\" class=\"dataframe\">\n",
       "  <thead>\n",
       "    <tr style=\"text-align: right;\">\n",
       "      <th></th>\n",
       "      <th>año_ingreso</th>\n",
       "      <th>año_ingreso_peso</th>\n",
       "    </tr>\n",
       "  </thead>\n",
       "  <tbody>\n",
       "    <tr>\n",
       "      <th>0</th>\n",
       "      <td>2023</td>\n",
       "      <td>3</td>\n",
       "    </tr>\n",
       "    <tr>\n",
       "      <th>1</th>\n",
       "      <td>2023</td>\n",
       "      <td>3</td>\n",
       "    </tr>\n",
       "    <tr>\n",
       "      <th>2</th>\n",
       "      <td>2024</td>\n",
       "      <td>2</td>\n",
       "    </tr>\n",
       "    <tr>\n",
       "      <th>3</th>\n",
       "      <td>2024</td>\n",
       "      <td>2</td>\n",
       "    </tr>\n",
       "    <tr>\n",
       "      <th>4</th>\n",
       "      <td>2023</td>\n",
       "      <td>3</td>\n",
       "    </tr>\n",
       "    <tr>\n",
       "      <th>...</th>\n",
       "      <td>...</td>\n",
       "      <td>...</td>\n",
       "    </tr>\n",
       "    <tr>\n",
       "      <th>362</th>\n",
       "      <td>2025</td>\n",
       "      <td>1</td>\n",
       "    </tr>\n",
       "    <tr>\n",
       "      <th>363</th>\n",
       "      <td>2025</td>\n",
       "      <td>1</td>\n",
       "    </tr>\n",
       "    <tr>\n",
       "      <th>364</th>\n",
       "      <td>2025</td>\n",
       "      <td>1</td>\n",
       "    </tr>\n",
       "    <tr>\n",
       "      <th>365</th>\n",
       "      <td>2025</td>\n",
       "      <td>1</td>\n",
       "    </tr>\n",
       "    <tr>\n",
       "      <th>366</th>\n",
       "      <td>2025</td>\n",
       "      <td>1</td>\n",
       "    </tr>\n",
       "  </tbody>\n",
       "</table>\n",
       "<p>367 rows × 2 columns</p>\n",
       "</div>"
      ],
      "text/plain": [
       "     año_ingreso  año_ingreso_peso\n",
       "0           2023                 3\n",
       "1           2023                 3\n",
       "2           2024                 2\n",
       "3           2024                 2\n",
       "4           2023                 3\n",
       "..           ...               ...\n",
       "362         2025                 1\n",
       "363         2025                 1\n",
       "364         2025                 1\n",
       "365         2025                 1\n",
       "366         2025                 1\n",
       "\n",
       "[367 rows x 2 columns]"
      ]
     },
     "execution_count": 8,
     "metadata": {},
     "output_type": "execute_result"
    }
   ],
   "source": [
    "motivacion_map = {\n",
    "    2025: 1,\n",
    "    2024: 2,\n",
    "    2023: 3\n",
    "}\n",
    "df = encoder.weight_encode(df, 'año_ingreso', motivacion_map)\n",
    "df[['año_ingreso', 'año_ingreso_peso']]"
   ]
  },
  {
   "cell_type": "markdown",
   "metadata": {},
   "source": [
    "## Codificación Binaria de Variables Nominales\n",
    "Se aplicó codificación binaria a variables sin orden inherente, convirtiéndolas en valores 0 y 1"
   ]
  },
  {
   "cell_type": "markdown",
   "metadata": {},
   "source": [
    "### País de origen"
   ]
  },
  {
   "cell_type": "code",
   "execution_count": 9,
   "metadata": {},
   "outputs": [],
   "source": [
    "df = encoder.binary_encode_by_value(df, 'país_origen', 'Colombia', 'nacionalidad_colombiana')"
   ]
  },
  {
   "cell_type": "markdown",
   "metadata": {},
   "source": [
    "### Tipo de vivienda"
   ]
  },
  {
   "cell_type": "code",
   "execution_count": 10,
   "metadata": {},
   "outputs": [],
   "source": [
    "df = encoder.binary_encode_by_value(df, 'tipo_vivienda', 'Alquilada', 'alquiler')"
   ]
  },
  {
   "cell_type": "markdown",
   "metadata": {},
   "source": [
    "### Zona vivienda"
   ]
  },
  {
   "cell_type": "code",
   "execution_count": 11,
   "metadata": {},
   "outputs": [],
   "source": [
    "df = encoder.binary_encode_by_value(df, 'zona_vivienda', 'Urbana', 'zona_urbana')"
   ]
  },
  {
   "cell_type": "markdown",
   "metadata": {},
   "source": [
    "### Enfermedades"
   ]
  },
  {
   "cell_type": "code",
   "execution_count": 12,
   "metadata": {},
   "outputs": [],
   "source": [
    "df = encoder.binary_encode_by_value(df, 'enfermedades', 'Si', 'tiene_enfermedad')"
   ]
  },
  {
   "cell_type": "markdown",
   "metadata": {},
   "source": [
    "### NEE"
   ]
  },
  {
   "cell_type": "code",
   "execution_count": 13,
   "metadata": {},
   "outputs": [],
   "source": [
    "df = encoder.binary_encode_by_value(df, 'nee', 'Si', 'tiene_nee')"
   ]
  },
  {
   "cell_type": "markdown",
   "metadata": {},
   "source": [
    "### Antigüedad"
   ]
  },
  {
   "cell_type": "code",
   "execution_count": 14,
   "metadata": {},
   "outputs": [],
   "source": [
    "df = encoder.binary_encode_by_value(df, 'antigüedad', 'Si', 'antigüedad')"
   ]
  },
  {
   "cell_type": "markdown",
   "metadata": {},
   "source": [
    "### Género"
   ]
  },
  {
   "cell_type": "code",
   "execution_count": 15,
   "metadata": {},
   "outputs": [],
   "source": [
    "df = encoder.binary_encode_by_value(df, 'género', 'Masculino', 'genero_masculino')"
   ]
  },
  {
   "cell_type": "markdown",
   "metadata": {},
   "source": [
    "### Estrato"
   ]
  },
  {
   "cell_type": "markdown",
   "metadata": {},
   "source": [
    "### Medio de transporte"
   ]
  },
  {
   "cell_type": "markdown",
   "metadata": {},
   "source": [
    "### Composición Familiar"
   ]
  },
  {
   "cell_type": "markdown",
   "metadata": {},
   "source": [
    "### Proyección vocacional"
   ]
  },
  {
   "cell_type": "markdown",
   "metadata": {},
   "source": [
    "### Actividades Extrcurrículares"
   ]
  },
  {
   "cell_type": "markdown",
   "metadata": {},
   "source": [
    "## Guardado del Dataset Codificado\n",
    "Este dataset ya está listo para su uso en la fase de análisis exploratorio multivariable y entrenamiento de modelos predictivos."
   ]
  },
  {
   "cell_type": "code",
   "execution_count": null,
   "metadata": {},
   "outputs": [],
   "source": [
    "output_path = os.path.join(project_root, 'data', 'processed', 'Estudiantes_imputed_encoded.csv')\n",
    "df.to_csv(output_path, index=False)"
   ]
  }
 ],
 "metadata": {
  "kernelspec": {
   "display_name": "formar-innovar",
   "language": "python",
   "name": "python3"
  },
  "language_info": {
   "codemirror_mode": {
    "name": "ipython",
    "version": 3
   },
   "file_extension": ".py",
   "mimetype": "text/x-python",
   "name": "python",
   "nbconvert_exporter": "python",
   "pygments_lexer": "ipython3",
   "version": "3.10.14"
  }
 },
 "nbformat": 4,
 "nbformat_minor": 2
}
