{
 "cells": [
  {
   "cell_type": "markdown",
   "metadata": {},
   "source": [
    "# Limpieza y Transformación del Dataset de Estudiantes\n",
    "\n",
    "En este notebook se trabaja la limpieza de datos y categorización para dejar valores estándar en las variables categóricas, debido a los datos con valores tan variados.\n",
    "\n",
    "## Descripción del Dataset\n",
    "1. **id**: *Identificador único del estudiante en el dataset. Es es nombre completo del estudiante sin espacios concatenado con la sede. Útil para la únion de datos que no contienen el documento de identidad.*\n",
    "\n",
    "2. **sede**: *Sede educativa a la que pertenece el estudiante. Girardot o Fusagasugá*\n",
    "\n",
    "3. **nivel**: *Nivel académico (por ejemplo, primaria, secundaria, bachillerato) al momento de recibir la información año 2024.*\n",
    "\n",
    "4. **grado**: *Grado escolar específico en el que está matriculado el estudiante.*\n",
    "\n",
    "5. **orden_grado**: *Orden numérico correspondiente al grado escolar (útil para ordenar o comparar grados).*\n",
    "\n",
    "6. **año_ingreso**: *Año en que el estudiante ingresó a la institución educativa.*\n",
    "\n",
    "7. **antigüedad**: *Categoría que describe si el estudiante es “Nuevo” o “Antiguo” en la institución.*\n",
    "\n",
    "8. **género**: *Género del estudiante (masculino, femenino u otro).*\n",
    "\n",
    "9. **documento_identificación**: *Número de documento de identidad del estudiante.*\n",
    "\n",
    "10. **primer_apellido**: *Primer apellido del estudiante.*\n",
    "\n",
    "11. **segundo_apellido**: *Segundo apellido del estudiante.*\n",
    "\n",
    "12. **nombres**: *Nombres del estudiante.*\n",
    "\n",
    "13. **fecha_nacimiento**: *Fecha de nacimiento del estudiante.*\n",
    "\n",
    "14. **demuestra_confianza**: *Percepción o valoración sobre el nivel de confianza mostrado por el estudiante.*\n",
    "\n",
    "15. **país_origen**: *País de nacimiento u origen del estudiante.*\n",
    "\n",
    "16. **estrato**: *Estrato socioeconómico del estudiante (usualmente del 1 al 6 en el contexto colombiano).*\n",
    "\n",
    "17. **tipo_vivienda**: *Tipo de propiedad o vivienda donde reside el estudiante (propia, alquilada, familiar).*\n",
    "\n",
    "18. **zona_vivienda**: *Ubicación geográfica del estudiante (zona urbana o rural).*\n",
    "\n",
    "19. **dirección**: Dirección de residencia del estudiante.\n",
    "\n",
    "20. **horas_semana_estudio_casa** *Cantidad aproximada de horas semanales dedicadas al estudio en casa.*\n",
    "\n",
    "21. **interés_estudios_superiores**: *Nivel de interés que muestra el estudiante hacia continuar estudios superiores (alto, medio, bajo).*\n",
    "\n",
    "22. **medio_transporte**: *Medio utilizado por el estudiante para trasladarse hasta la institución educativa.*\n",
    "\n",
    "23. **apoyo_familiar**: *Nivel de apoyo familiar percibido en relación con el proceso educativo (alto, medio, bajo).*\n",
    "\n",
    "24. **total_hermanos**: *Número total de hermanos que tiene el estudiante.*\n",
    "\n",
    "25. **familia**: *Composición familiar con la que convive el estudiante (categorías simples como “Mamá y papá”, “Solo mamá”, etc.).*\n",
    "\n",
    "26. **actividades_extracurriculares**: *Actividades que realiza el estudiante fuera del horario escolar (deportes, artes, idiomas, tecnología, ninguna).*\n",
    "\n",
    "27. **enfermedades**: *Indica si el estudiante presenta o no alguna enfermedad diagnosticada.*\n",
    "\n",
    "28. **proyección_vocacional**: Profesión o área vocacional en la que el estudiante muestra interés o preferencia.\n",
    "\n",
    "29. **participación_clase**: *Nivel de participación en clase que tiene el estudiante (alta, media, baja).*\n",
    "\n",
    "30. **nee**: *Indica si el estudiante presenta Necesidades Educativas Especiales (Sí o No).*\n",
    "\n",
    "31. **valoración_emocional**: *Evaluación emocional general del estudiante.*\n",
    "\n",
    "32. **nivel_motivación**: *Nivel general de motivación del estudiante en relación con el estudio (alto, medio, bajo).*"
   ]
  },
  {
   "cell_type": "code",
   "execution_count": 1,
   "metadata": {},
   "outputs": [],
   "source": [
    "import sys\n",
    "import os\n",
    "import pandas as pd\n",
    "\n",
    "current_dir = os.path.dirname(os.path.abspath('__file__'))\n",
    "project_root = os.path.abspath(os.path.join(current_dir, '..', '..'))\n",
    "if project_root not in sys.path:\n",
    "    sys.path.append(project_root)\n",
    "\n",
    "from scripts.transform.data_cleaning_students import StudentsDataCleaner\n",
    "from scripts.eda_analyzer import EDAAnalyzer\n",
    "from scripts.utils.hash_utility import HashUtility"
   ]
  },
  {
   "cell_type": "code",
   "execution_count": 2,
   "metadata": {},
   "outputs": [],
   "source": [
    "df = pd.read_csv('../../data/raw/Estudiantes.csv')\n",
    "cleaner = StudentsDataCleaner(df)\n",
    "eda = EDAAnalyzer()"
   ]
  },
  {
   "cell_type": "code",
   "execution_count": 3,
   "metadata": {},
   "outputs": [
    {
     "data": {
      "text/plain": [
       "ID                                0\n",
       "sede                              0\n",
       "nivel                             0\n",
       "grado                             0\n",
       "orden_grado                       0\n",
       "año_ingreso                       0\n",
       "antigüedad                        0\n",
       "género                            0\n",
       "documento_identificación          0\n",
       "primer_apellido                   0\n",
       "segundo_apellido                  0\n",
       "nombres                           0\n",
       "fecha_nacimiento                  0\n",
       "demuestra_confianza              51\n",
       "país_origen                       0\n",
       "estrato                          86\n",
       "tipo_vivienda                    86\n",
       "zona_vivienda                     0\n",
       "dirección                        86\n",
       "horas_semana_estudio_casa        86\n",
       "interés_estudios_superiores      86\n",
       "medio_transporte                  0\n",
       "apoyo_familiar                    0\n",
       "total_hermanos                   86\n",
       "familia                          86\n",
       "actividades_extracurriculares    86\n",
       "enfermedades                      0\n",
       "proyección_vocacional            86\n",
       "participación_clase               0\n",
       "nee                               0\n",
       "valoración_emocional              0\n",
       "nivel_motivación                  0\n",
       "dtype: int64"
      ]
     },
     "execution_count": 3,
     "metadata": {},
     "output_type": "execute_result"
    }
   ],
   "source": [
    "# Conteo de valores nulos\n",
    "df.isnull().sum()"
   ]
  },
  {
   "cell_type": "code",
   "execution_count": 4,
   "metadata": {},
   "outputs": [
    {
     "data": {
      "text/html": [
       "<html>\n",
       "<head><meta charset=\"utf-8\" /></head>\n",
       "<body>\n",
       "    <div>                        <script type=\"text/javascript\">window.PlotlyConfig = {MathJaxConfig: 'local'};</script>\n",
       "        <script charset=\"utf-8\" src=\"https://cdn.plot.ly/plotly-3.0.1.min.js\"></script>                <div id=\"8d424457-fb47-4f72-930e-17e95fbf900c\" class=\"plotly-graph-div\" style=\"height:100%; width:100%;\"></div>            <script type=\"text/javascript\">                window.PLOTLYENV=window.PLOTLYENV || {};                                if (document.getElementById(\"8d424457-fb47-4f72-930e-17e95fbf900c\")) {                    Plotly.newPlot(                        \"8d424457-fb47-4f72-930e-17e95fbf900c\",                        [{\"coloraxis\":\"coloraxis\",\"name\":\"0\",\"x\":[\"demuestra_confianza\",\"estrato\",\"tipo_vivienda\",\"direcci\\u00f3n\",\"horas_semana_estudio_casa\",\"inter\\u00e9s_estudios_superiores\",\"total_hermanos\",\"familia\",\"actividades_extracurriculares\",\"proyecci\\u00f3n_vocacional\"],\"y\":{\"dtype\":\"i2\",\"bdata\":\"AAABAAIAAwAEAAUABgAHAAgACQAKAAsADAANAA4ADwAQABEAEgATABQAFQAWABcAGAAZABoAGwAcAB0AHgAfACAAIQAiACMAJAAlACYAJwAoACkAKgArACwALQAuAC8AMAAxADIAMwA0ADUANgA3ADgAOQA6ADsAPAA9AD4APwBAAEEAQgBDAEQARQBGAEcASABJAEoASwBMAE0ATgBPAFAAUQBSAFMAVABVAFYAVwBYAFkAWgBbAFwAXQBeAF8AYABhAGIAYwBkAGUAZgBnAGgAaQBqAGsAbABtAG4AbwBwAHEAcgBzAHQAdQB2AHcAeAB5AHoAewB8AH0AfgB\\u002fAIAAgQCCAIMAhACFAIYAhwCIAIkAigCLAIwAjQCOAI8AkACRAJIAkwCUAJUAlgCXAJgAmQCaAJsAnACdAJ4AnwCgAKEAogCjAKQApQCmAKcAqACpAKoAqwCsAK0ArgCvALAAsQCyALMAtAC1ALYAtwC4ALkAugC7ALwAvQC+AL8AwADBAMIAwwDEAMUAxgDHAMgAyQDKAMsAzADNAM4AzwDQANEA0gDTANQA1QDWANcA2ADZANoA2wDcAN0A3gDfAOAA4QDiAOMA5ADlAOYA5wDoAOkA6gDrAOwA7QDuAO8A8ADxAPIA8wD0APUA9gD3APgA+QD6APsA\\u002fAD9AP4A\\u002fwAAAQEBAgEDAQQBBQEGAQcBCAEJAQoBCwEMAQ0BDgEPARABEQESARMBFAEVARYBFwEYARkBGgEbARwBHQEeAR8BIAEhASIBIwEkASUBJgEnASgBKQEqASsBLAEtAS4BLwEwATEBMgEzATQBNQE2ATcBOAE5AToBOwE8AT0BPgE\\u002fAUABQQFCAUMBRAFFAUYBRwFIAUkBSgFLAUwBTQFOAU8BUAFRAVIBUwFUAVUBVgFXAVgBWQFaAVsBXAFdAV4BXwFgAWEBYgFjAWQBZQFmAWcBaAFpAWoBawFsAW0BbgE=\"},\"z\":{\"dtype\":\"i1\",\"bdata\":\"AAAAAAAAAAAAAAAAAAAAAAAAAAAAAAAAAAAAAAAAAAAAAAAAAAAAAAAAAAAAAAAAAAAAAAAAAAAAAAAAAAAAAAAAAAAAAAAAAAAAAAAAAAAAAAAAAAAAAAAAAAAAAAAAAAAAAAAAAAAAAAAAAAAAAAAAAAAAAAAAAAAAAAAAAAAAAAAAAAAAAAAAAAAAAAAAAAAAAAAAAAAAAAAAAAAAAAABAQEBAQEBAQEAAQEBAQEBAQEBAAAAAAAAAAAAAAAAAAAAAAAAAAAAAAAAAAAAAAAAAAAAAAAAAAAAAAAAAAAAAAAAAAAAAAAAAAAAAAAAAAAAAAAAAAAAAAABAQEBAQEBAQEAAAAAAAAAAAAAAAAAAAAAAAAAAAAAAAAAAAAAAAAAAAAAAAAAAAAAAAEBAQEBAQEBAQAAAAAAAAAAAAAAAAAAAAAAAAAAAAAAAAAAAAAAAAABAQEBAQEBAQEAAAAAAAAAAAAAAAEBAQEBAQEBAQABAQEBAQEBAQEAAQEBAQEBAQEBAAAAAAAAAAAAAAABAQEBAQEBAQEAAAAAAAAAAAAAAAEBAQEBAQEBAQABAQEBAQEBAQEAAAAAAAAAAAAAAAAAAAAAAAAAAAAAAAAAAAAAAAAAAAAAAAAAAAAAAAEBAQEBAQEBAQAAAAAAAAAAAAAAAQEBAQEBAQEBAAAAAAAAAAAAAAAAAAAAAAAAAAAAAQEBAQEBAQEBAAAAAAAAAAAAAAAAAAAAAAAAAAAAAAAAAAAAAAAAAAAAAAAAAAAAAAAAAAAAAAAAAAAAAAAAAAAAAAAAAAAAAAAAAAAAAAABAQEBAQEBAQEAAAAAAAAAAAAAAAEBAQEBAQEBAQABAQEBAQEBAQEAAAAAAAAAAAAAAAEBAQEBAQEBAQABAQEBAQEBAQEAAAAAAAAAAAAAAAAAAAAAAAAAAAABAQEBAQEBAQEAAQEBAQEBAQEBAAAAAAAAAAAAAAAAAAAAAAAAAAAAAAAAAAAAAAAAAAAAAAAAAAAAAAAAAAAAAAAAAAAAAQEBAQEBAQEBAAAAAAAAAAAAAAAAAAAAAAAAAAAAAAAAAAAAAAAAAAAAAAAAAAAAAAAAAAAAAAAAAAAAAAAAAAAAAAAAAAEBAQEBAQEBAQAAAAAAAAAAAAAAAQEBAQEBAQEBAAAAAAAAAAAAAAAAAAAAAAAAAAAAAAAAAAAAAAAAAAAAAAAAAAAAAAAAAAAAAAAAAAAAAAAAAAAAAAAAAAAAAAAAAAAAAAAAAAAAAAAAAAAAAAAAAAAAAAAAAAEBAQEBAQEBAQAAAAAAAAAAAAAAAAAAAAAAAAAAAAAAAAAAAAAAAAAAAAAAAAAAAAAAAAAAAAAAAAAAAAAAAAAAAAAAAAAAAAAAAAAAAAAAAQEBAQEBAQEBAAAAAAAAAAAAAAAAAAAAAAAAAAAAAAAAAAAAAAAAAAAAAAAAAAAAAAAAAAAAAAAAAAAAAAAAAAAAAAAAAAAAAAAAAAAAAAAAAAAAAAAAAAAAAQEBAQEBAQEBAAAAAAAAAAAAAAAAAAAAAAAAAAAAAQEBAQEBAQEBAAEBAQEBAQEBAQAAAAAAAAAAAAAAAAAAAAAAAAAAAAAAAAAAAAAAAAAAAAAAAAAAAAAAAAAAAAAAAAAAAAAAAAAAAAAAAAAAAAAAAAAAAAAAAAAAAAAAAAAAAAAAAAAAAAAAAAABAQEBAQEBAQEAAAAAAAAAAAAAAAAAAAAAAAAAAAAAAAAAAAAAAAAAAAAAAAAAAAAAAAAAAAAAAAAAAAAAAAAAAAAAAAAAAAAAAAAAAAAAAAAAAAAAAAAAAAABAQEBAQEBAQEAAAAAAAAAAAAAAAAAAAAAAAAAAAAAAAAAAAAAAAAAAQEBAQEBAQEBAAAAAAAAAAAAAAAAAAAAAAAAAAAAAAAAAAAAAAAAAAEBAQEBAQEBAQAAAAAAAAAAAAAAAAAAAAAAAAAAAAEBAQEBAQEBAQAAAAAAAAAAAAAAAAAAAAAAAAAAAAEBAQEBAQEBAQAAAAAAAAAAAAAAAAAAAAAAAAAAAAEBAQEBAQEBAQAAAAAAAAAAAAAAAAAAAAAAAAAAAAAAAAAAAAAAAAAAAAAAAAAAAAAAAQEBAQEBAQEBAAAAAAAAAAAAAAAAAAAAAAAAAAAAAAAAAAAAAAAAAAEBAQEBAQEBAQABAQEBAQEBAQEAAQEBAQEBAQEBAAAAAAAAAAAAAAAAAAAAAAAAAAAAAAAAAAAAAAAAAAAAAAAAAAAAAAAAAAAAAAAAAAAAAAAAAAAAAAAAAAAAAAAAAAAAAAAAAAAAAAAAAAAAAAAAAAAAAAAAAAAAAAAAAAAAAAAAAAAAAAAAAAAAAQEBAQEBAQEBAAEBAQEBAQEBAQAAAAAAAAAAAAAAAAAAAAAAAAAAAAAAAAAAAAAAAAAAAAAAAAAAAAAAAAAAAAAAAAAAAAAAAAAAAAAAAAAAAAAAAAAAAAAAAAAAAAAAAAAAAAAAAAAAAAAAAAAAAAAAAAAAAAAAAQEBAQEBAQEBAAAAAAAAAAAAAAABAQEBAQEBAQEAAAAAAAAAAAAAAAAAAAAAAAAAAAAAAAAAAAAAAAAAAAAAAAAAAAAAAAEBAQEBAQEBAQAAAAAAAAAAAAAAAAAAAAAAAAAAAAAAAAAAAAAAAAABAQEBAQEBAQEAAAAAAAAAAAAAAAAAAAAAAAAAAAAAAAAAAAAAAAAAAAAAAAAAAAAAAAAAAAAAAAAAAAAAAAAAAAAAAAAAAQEBAQEBAQEBAAAAAAAAAAAAAAAAAAAAAAAAAAAAAAAAAAAAAAAAAAAAAAAAAAAAAAAAAAAAAAAAAAAAAQEBAQEBAQEBAAAAAAAAAAAAAAAAAAAAAAAAAAAAAAAAAAAAAAAAAAAAAAAAAAAAAAAAAAAAAAAAAAAAAAAAAAAAAAAAAAAAAAAAAAAAAAAAAAAAAAAAAAAAAAAAAAAAAAAAAAEBAQEBAQEBAQAAAAAAAAAAAAAAAAAAAAAAAAAAAAAAAAAAAAAAAAABAQEBAQEBAQEAAQEBAQEBAQEBAAAAAAAAAAAAAAAAAAAAAAAAAAAAAAAAAAAAAAAAAAAAAAAAAAAAAAAAAAAAAAAAAAAAAAAAAAAAAAAAAAEBAQEBAQEBAQAAAAAAAAAAAAAAAAAAAAAAAAAAAAEBAQEBAQEBAQABAQEBAQEBAQEAAQEBAQEBAQEBAAAAAAAAAAAAAAAAAAAAAAAAAAAAAAAAAAAAAAAAAAAAAAAAAAAAAAAAAAAAAAAAAAAAAQEBAQEBAQEBAAEBAQEBAQEBAQABAQEBAQEBAQEAAQEBAQEBAQEBAAAAAAAAAAAAAAAAAAAAAAAAAAAAAAAAAAAAAAAAAAEBAQEBAQEBAQAAAAAAAAAAAAAAAAAAAAAAAAAAAAAAAAAAAAAAAAAAAAAAAAAAAAAAAAAAAAAAAAAAAAAAAAAAAAAAAAAAAAAAAAAAAAAAAQEBAQEBAQEBAAAAAAAAAAAAAAAAAAAAAAAAAAAAAQEBAQEBAQEBAAEBAQEBAQEBAQABAQEBAQEBAQEAAAAAAAAAAAAAAAAAAAAAAAAAAAABAQEBAQEBAQEAAAAAAAAAAAAAAAAAAAAAAAAAAAAAAAAAAAAAAAAAAAAAAAAAAAAAAAAAAAAAAAAAAAAAAAAAAAAAAAAAAAAAAAAAAAAAAAAAAAAAAAAAAAAAAAAAAAAAAAAAAAAAAAAAAAAAAAEBAQEBAQEBAQABAQEBAQEBAQEAAAAAAAAAAAAAAAAAAAAAAAAAAAAAAAAAAAAAAAAAAAAAAAAAAAAAAAEBAQEBAQEBAQAAAAAAAAAAAAAAAAAAAAAAAAAAAAEBAQEBAQEBAQAAAAAAAAAAAAAAAQEBAQEBAQEBAAAAAAAAAAAAAAAAAAAAAAAAAAAAAAAAAAAAAAAAAAEBAQEBAQEBAQABAQEBAQEBAQEAAAAAAAAAAAAAAAAAAAAAAAAAAAAAAAAAAAAAAAAAAAAAAAAAAAAAAAAAAAAAAAAAAAAAAAAAAAAAAAAAAQEBAQEBAQEBAAEBAQEBAQEBAQABAQEBAQEBAQEAAQEBAQEBAQEBAAEBAQEBAQEBAQABAQEBAQEBAQEAAQEBAQEBAQEBAAEBAQEBAQEBAQABAQEBAQEBAQEAAQEBAQEBAQEBAAEBAQEBAQEBAQABAQEBAQEBAQEAAQEBAQEBAQEBAAEBAQEBAQEBAQEAAAAAAAAAAAABAAAAAAAAAAAAAQAAAAAAAAAAAAEAAAAAAAAAAAABAAAAAAAAAAAAAQAAAAAAAAAAAAEAAAAAAAAAAAABAAAAAAAAAAAAAQAAAAAAAAAAAAEAAAAAAAAAAAABAAAAAAAAAAAAAQAAAAAAAAAAAAEAAAAAAAAAAAABAAAAAAAAAAAAAQAAAAAAAAAAAAEAAAAAAAAAAAABAAAAAAAAAAAAAQAAAAAAAAAAAAEAAAAAAAAAAAABAAAAAAAAAAAAAQAAAAAAAAAAAAEAAAAAAAAAAAABAAAAAAAAAAAAAQAAAAAAAAAAAAEAAAAAAAAAAAABAAAAAAAAAAAAAQAAAAAAAAAAAAEAAAAAAAAAAAABAAAAAAAAAAAAAQAAAAAAAAAAAAEAAAAAAAAAAAABAAAAAAAAAAAAAQAAAAAAAAAAAAEAAAAAAAAAAAABAAAAAAAAAAAAAQAAAAAAAAAAAAEAAAAAAAAAAAABAAAAAAAAAAAAAQAAAAAAAAAAAAEAAAAAAAAAAAABAAAAAAAAAAAAAQAAAAAAAAAAAAEAAAAAAAAAAAABAAAAAAAAAAAAAQAAAAAAAAAAAAEAAAAAAAAAAAABAAAAAAAAAAAAAQAAAAAAAAAAAAEAAAAAAAAAAAABAAAAAAAAAAAAAQAAAAAAAAAAAA==\",\"shape\":\"367, 10\"},\"type\":\"heatmap\",\"xaxis\":\"x\",\"yaxis\":\"y\",\"hovertemplate\":\"Mapa de Calor de Valores Nulos: %{x}\\u003cbr\\u003ey: %{y}\\u003cbr\\u003ecolor: %{z}\\u003cextra\\u003e\\u003c\\u002fextra\\u003e\"}],                        {\"template\":{\"data\":{\"histogram2dcontour\":[{\"type\":\"histogram2dcontour\",\"colorbar\":{\"outlinewidth\":0,\"ticks\":\"\"},\"colorscale\":[[0.0,\"#0d0887\"],[0.1111111111111111,\"#46039f\"],[0.2222222222222222,\"#7201a8\"],[0.3333333333333333,\"#9c179e\"],[0.4444444444444444,\"#bd3786\"],[0.5555555555555556,\"#d8576b\"],[0.6666666666666666,\"#ed7953\"],[0.7777777777777778,\"#fb9f3a\"],[0.8888888888888888,\"#fdca26\"],[1.0,\"#f0f921\"]]}],\"choropleth\":[{\"type\":\"choropleth\",\"colorbar\":{\"outlinewidth\":0,\"ticks\":\"\"}}],\"histogram2d\":[{\"type\":\"histogram2d\",\"colorbar\":{\"outlinewidth\":0,\"ticks\":\"\"},\"colorscale\":[[0.0,\"#0d0887\"],[0.1111111111111111,\"#46039f\"],[0.2222222222222222,\"#7201a8\"],[0.3333333333333333,\"#9c179e\"],[0.4444444444444444,\"#bd3786\"],[0.5555555555555556,\"#d8576b\"],[0.6666666666666666,\"#ed7953\"],[0.7777777777777778,\"#fb9f3a\"],[0.8888888888888888,\"#fdca26\"],[1.0,\"#f0f921\"]]}],\"heatmap\":[{\"type\":\"heatmap\",\"colorbar\":{\"outlinewidth\":0,\"ticks\":\"\"},\"colorscale\":[[0.0,\"#0d0887\"],[0.1111111111111111,\"#46039f\"],[0.2222222222222222,\"#7201a8\"],[0.3333333333333333,\"#9c179e\"],[0.4444444444444444,\"#bd3786\"],[0.5555555555555556,\"#d8576b\"],[0.6666666666666666,\"#ed7953\"],[0.7777777777777778,\"#fb9f3a\"],[0.8888888888888888,\"#fdca26\"],[1.0,\"#f0f921\"]]}],\"contourcarpet\":[{\"type\":\"contourcarpet\",\"colorbar\":{\"outlinewidth\":0,\"ticks\":\"\"}}],\"contour\":[{\"type\":\"contour\",\"colorbar\":{\"outlinewidth\":0,\"ticks\":\"\"},\"colorscale\":[[0.0,\"#0d0887\"],[0.1111111111111111,\"#46039f\"],[0.2222222222222222,\"#7201a8\"],[0.3333333333333333,\"#9c179e\"],[0.4444444444444444,\"#bd3786\"],[0.5555555555555556,\"#d8576b\"],[0.6666666666666666,\"#ed7953\"],[0.7777777777777778,\"#fb9f3a\"],[0.8888888888888888,\"#fdca26\"],[1.0,\"#f0f921\"]]}],\"surface\":[{\"type\":\"surface\",\"colorbar\":{\"outlinewidth\":0,\"ticks\":\"\"},\"colorscale\":[[0.0,\"#0d0887\"],[0.1111111111111111,\"#46039f\"],[0.2222222222222222,\"#7201a8\"],[0.3333333333333333,\"#9c179e\"],[0.4444444444444444,\"#bd3786\"],[0.5555555555555556,\"#d8576b\"],[0.6666666666666666,\"#ed7953\"],[0.7777777777777778,\"#fb9f3a\"],[0.8888888888888888,\"#fdca26\"],[1.0,\"#f0f921\"]]}],\"mesh3d\":[{\"type\":\"mesh3d\",\"colorbar\":{\"outlinewidth\":0,\"ticks\":\"\"}}],\"scatter\":[{\"fillpattern\":{\"fillmode\":\"overlay\",\"size\":10,\"solidity\":0.2},\"type\":\"scatter\"}],\"parcoords\":[{\"type\":\"parcoords\",\"line\":{\"colorbar\":{\"outlinewidth\":0,\"ticks\":\"\"}}}],\"scatterpolargl\":[{\"type\":\"scatterpolargl\",\"marker\":{\"colorbar\":{\"outlinewidth\":0,\"ticks\":\"\"}}}],\"bar\":[{\"error_x\":{\"color\":\"#2a3f5f\"},\"error_y\":{\"color\":\"#2a3f5f\"},\"marker\":{\"line\":{\"color\":\"#E5ECF6\",\"width\":0.5},\"pattern\":{\"fillmode\":\"overlay\",\"size\":10,\"solidity\":0.2}},\"type\":\"bar\"}],\"scattergeo\":[{\"type\":\"scattergeo\",\"marker\":{\"colorbar\":{\"outlinewidth\":0,\"ticks\":\"\"}}}],\"scatterpolar\":[{\"type\":\"scatterpolar\",\"marker\":{\"colorbar\":{\"outlinewidth\":0,\"ticks\":\"\"}}}],\"histogram\":[{\"marker\":{\"pattern\":{\"fillmode\":\"overlay\",\"size\":10,\"solidity\":0.2}},\"type\":\"histogram\"}],\"scattergl\":[{\"type\":\"scattergl\",\"marker\":{\"colorbar\":{\"outlinewidth\":0,\"ticks\":\"\"}}}],\"scatter3d\":[{\"type\":\"scatter3d\",\"line\":{\"colorbar\":{\"outlinewidth\":0,\"ticks\":\"\"}},\"marker\":{\"colorbar\":{\"outlinewidth\":0,\"ticks\":\"\"}}}],\"scattermap\":[{\"type\":\"scattermap\",\"marker\":{\"colorbar\":{\"outlinewidth\":0,\"ticks\":\"\"}}}],\"scattermapbox\":[{\"type\":\"scattermapbox\",\"marker\":{\"colorbar\":{\"outlinewidth\":0,\"ticks\":\"\"}}}],\"scatterternary\":[{\"type\":\"scatterternary\",\"marker\":{\"colorbar\":{\"outlinewidth\":0,\"ticks\":\"\"}}}],\"scattercarpet\":[{\"type\":\"scattercarpet\",\"marker\":{\"colorbar\":{\"outlinewidth\":0,\"ticks\":\"\"}}}],\"carpet\":[{\"aaxis\":{\"endlinecolor\":\"#2a3f5f\",\"gridcolor\":\"white\",\"linecolor\":\"white\",\"minorgridcolor\":\"white\",\"startlinecolor\":\"#2a3f5f\"},\"baxis\":{\"endlinecolor\":\"#2a3f5f\",\"gridcolor\":\"white\",\"linecolor\":\"white\",\"minorgridcolor\":\"white\",\"startlinecolor\":\"#2a3f5f\"},\"type\":\"carpet\"}],\"table\":[{\"cells\":{\"fill\":{\"color\":\"#EBF0F8\"},\"line\":{\"color\":\"white\"}},\"header\":{\"fill\":{\"color\":\"#C8D4E3\"},\"line\":{\"color\":\"white\"}},\"type\":\"table\"}],\"barpolar\":[{\"marker\":{\"line\":{\"color\":\"#E5ECF6\",\"width\":0.5},\"pattern\":{\"fillmode\":\"overlay\",\"size\":10,\"solidity\":0.2}},\"type\":\"barpolar\"}],\"pie\":[{\"automargin\":true,\"type\":\"pie\"}]},\"layout\":{\"autotypenumbers\":\"strict\",\"colorway\":[\"#636efa\",\"#EF553B\",\"#00cc96\",\"#ab63fa\",\"#FFA15A\",\"#19d3f3\",\"#FF6692\",\"#B6E880\",\"#FF97FF\",\"#FECB52\"],\"font\":{\"color\":\"#2a3f5f\"},\"hovermode\":\"closest\",\"hoverlabel\":{\"align\":\"left\"},\"paper_bgcolor\":\"white\",\"plot_bgcolor\":\"#E5ECF6\",\"polar\":{\"bgcolor\":\"#E5ECF6\",\"angularaxis\":{\"gridcolor\":\"white\",\"linecolor\":\"white\",\"ticks\":\"\"},\"radialaxis\":{\"gridcolor\":\"white\",\"linecolor\":\"white\",\"ticks\":\"\"}},\"ternary\":{\"bgcolor\":\"#E5ECF6\",\"aaxis\":{\"gridcolor\":\"white\",\"linecolor\":\"white\",\"ticks\":\"\"},\"baxis\":{\"gridcolor\":\"white\",\"linecolor\":\"white\",\"ticks\":\"\"},\"caxis\":{\"gridcolor\":\"white\",\"linecolor\":\"white\",\"ticks\":\"\"}},\"coloraxis\":{\"colorbar\":{\"outlinewidth\":0,\"ticks\":\"\"}},\"colorscale\":{\"sequential\":[[0.0,\"#0d0887\"],[0.1111111111111111,\"#46039f\"],[0.2222222222222222,\"#7201a8\"],[0.3333333333333333,\"#9c179e\"],[0.4444444444444444,\"#bd3786\"],[0.5555555555555556,\"#d8576b\"],[0.6666666666666666,\"#ed7953\"],[0.7777777777777778,\"#fb9f3a\"],[0.8888888888888888,\"#fdca26\"],[1.0,\"#f0f921\"]],\"sequentialminus\":[[0.0,\"#0d0887\"],[0.1111111111111111,\"#46039f\"],[0.2222222222222222,\"#7201a8\"],[0.3333333333333333,\"#9c179e\"],[0.4444444444444444,\"#bd3786\"],[0.5555555555555556,\"#d8576b\"],[0.6666666666666666,\"#ed7953\"],[0.7777777777777778,\"#fb9f3a\"],[0.8888888888888888,\"#fdca26\"],[1.0,\"#f0f921\"]],\"diverging\":[[0,\"#8e0152\"],[0.1,\"#c51b7d\"],[0.2,\"#de77ae\"],[0.3,\"#f1b6da\"],[0.4,\"#fde0ef\"],[0.5,\"#f7f7f7\"],[0.6,\"#e6f5d0\"],[0.7,\"#b8e186\"],[0.8,\"#7fbc41\"],[0.9,\"#4d9221\"],[1,\"#276419\"]]},\"xaxis\":{\"gridcolor\":\"white\",\"linecolor\":\"white\",\"ticks\":\"\",\"title\":{\"standoff\":15},\"zerolinecolor\":\"white\",\"automargin\":true,\"zerolinewidth\":2},\"yaxis\":{\"gridcolor\":\"white\",\"linecolor\":\"white\",\"ticks\":\"\",\"title\":{\"standoff\":15},\"zerolinecolor\":\"white\",\"automargin\":true,\"zerolinewidth\":2},\"scene\":{\"xaxis\":{\"backgroundcolor\":\"#E5ECF6\",\"gridcolor\":\"white\",\"linecolor\":\"white\",\"showbackground\":true,\"ticks\":\"\",\"zerolinecolor\":\"white\",\"gridwidth\":2},\"yaxis\":{\"backgroundcolor\":\"#E5ECF6\",\"gridcolor\":\"white\",\"linecolor\":\"white\",\"showbackground\":true,\"ticks\":\"\",\"zerolinecolor\":\"white\",\"gridwidth\":2},\"zaxis\":{\"backgroundcolor\":\"#E5ECF6\",\"gridcolor\":\"white\",\"linecolor\":\"white\",\"showbackground\":true,\"ticks\":\"\",\"zerolinecolor\":\"white\",\"gridwidth\":2}},\"shapedefaults\":{\"line\":{\"color\":\"#2a3f5f\"}},\"annotationdefaults\":{\"arrowcolor\":\"#2a3f5f\",\"arrowhead\":0,\"arrowwidth\":1},\"geo\":{\"bgcolor\":\"white\",\"landcolor\":\"#E5ECF6\",\"subunitcolor\":\"white\",\"showland\":true,\"showlakes\":true,\"lakecolor\":\"white\"},\"title\":{\"x\":0.05},\"mapbox\":{\"style\":\"light\"}}},\"xaxis\":{\"anchor\":\"y\",\"domain\":[0.0,1.0],\"scaleanchor\":\"y\",\"constrain\":\"domain\",\"title\":{\"text\":\"Mapa de Calor de Valores Nulos\"},\"side\":\"top\",\"tickangle\":-90},\"yaxis\":{\"anchor\":\"x\",\"domain\":[0.0,1.0],\"autorange\":\"reversed\",\"constrain\":\"domain\"},\"coloraxis\":{\"colorscale\":[[0.0,\"white\"],[1.0,\"#13678A\"]],\"showscale\":false},\"margin\":{\"t\":60}},                        {\"responsive\": true}                    )                };            </script>        </div>\n",
       "</body>\n",
       "</html>"
      ],
      "text/plain": [
       "<IPython.core.display.HTML object>"
      ]
     },
     "execution_count": 4,
     "metadata": {},
     "output_type": "execute_result"
    }
   ],
   "source": [
    "eda.plot_null_heatmap(df)"
   ]
  },
  {
   "cell_type": "code",
   "execution_count": 5,
   "metadata": {},
   "outputs": [
    {
     "name": "stdout",
     "output_type": "stream",
     "text": [
      "<class 'pandas.core.frame.DataFrame'>\n",
      "RangeIndex: 367 entries, 0 to 366\n",
      "Data columns (total 32 columns):\n",
      " #   Column                         Non-Null Count  Dtype  \n",
      "---  ------                         --------------  -----  \n",
      " 0   ID                             367 non-null    object \n",
      " 1   sede                           367 non-null    object \n",
      " 2   nivel                          367 non-null    object \n",
      " 3   grado                          367 non-null    object \n",
      " 4   orden_grado                    367 non-null    int64  \n",
      " 5   año_ingreso                    367 non-null    int64  \n",
      " 6   antigüedad                     367 non-null    object \n",
      " 7   género                         367 non-null    object \n",
      " 8   documento_identificación       367 non-null    int64  \n",
      " 9   primer_apellido                367 non-null    object \n",
      " 10  segundo_apellido               367 non-null    object \n",
      " 11  nombres                        367 non-null    object \n",
      " 12  fecha_nacimiento               367 non-null    object \n",
      " 13  demuestra_confianza            316 non-null    object \n",
      " 14  país_origen                    367 non-null    object \n",
      " 15  estrato                        281 non-null    float64\n",
      " 16  tipo_vivienda                  281 non-null    object \n",
      " 17  zona_vivienda                  367 non-null    object \n",
      " 18  dirección                      281 non-null    object \n",
      " 19  horas_semana_estudio_casa      281 non-null    float64\n",
      " 20  interés_estudios_superiores    281 non-null    object \n",
      " 21  medio_transporte               367 non-null    object \n",
      " 22  apoyo_familiar                 367 non-null    object \n",
      " 23  total_hermanos                 281 non-null    float64\n",
      " 24  familia                        281 non-null    object \n",
      " 25  actividades_extracurriculares  281 non-null    object \n",
      " 26  enfermedades                   367 non-null    object \n",
      " 27  proyección_vocacional          281 non-null    object \n",
      " 28  participación_clase            367 non-null    object \n",
      " 29  nee                            367 non-null    object \n",
      " 30  valoración_emocional           367 non-null    object \n",
      " 31  nivel_motivación               367 non-null    object \n",
      "dtypes: float64(3), int64(3), object(26)\n",
      "memory usage: 91.9+ KB\n"
     ]
    }
   ],
   "source": [
    "df.info()"
   ]
  },
  {
   "cell_type": "markdown",
   "metadata": {},
   "source": [
    "Definimos las columnas para trabajar, exluyendo las columnas con la información personal del estudiante"
   ]
  },
  {
   "cell_type": "code",
   "execution_count": 6,
   "metadata": {},
   "outputs": [
    {
     "name": "stdout",
     "output_type": "stream",
     "text": [
      "Valores únicos y su cantidad en cada columna:\n",
      "antigüedad: 3 valores únicos\n",
      "demuestra_confianza: 5 valores únicos\n",
      "país_origen: 5 valores únicos\n",
      "estrato: 6 valores únicos\n",
      "tipo_vivienda: 11 valores únicos\n",
      "zona_vivienda: 5 valores únicos\n",
      "horas_semana_estudio_casa: 19 valores únicos\n",
      "interés_estudios_superiores: 9 valores únicos\n",
      "medio_transporte: 11 valores únicos\n",
      "apoyo_familiar: 12 valores únicos\n",
      "total_hermanos: 8 valores únicos\n",
      "familia: 179 valores únicos\n",
      "actividades_extracurriculares: 107 valores únicos\n",
      "enfermedades: 25 valores únicos\n",
      "proyección_vocacional: 190 valores únicos\n",
      "participación_clase: 21 valores únicos\n",
      "nee: 7 valores únicos\n",
      "nivel_motivación: 12 valores únicos\n"
     ]
    }
   ],
   "source": [
    "# Excluir las columnas: sede, nivel, grado, orden_grado, año_ingreso, género, documento_identificación, primer_apellido, segundo_apellido, nombres, fecha_nacimiento, dirección, valoración_emocional\n",
    "cols_to_search = [col for col in df.columns if col not in ['ID','sede', 'nivel', 'grado', 'orden_grado', 'año_ingreso', 'género', 'documento_identificación', 'primer_apellido', 'segundo_apellido', 'nombres', 'fecha_nacimiento', 'dirección', 'valoración_emocional']]\n",
    "\n",
    "cleaner.display_unique_values(cols_to_search)\n"
   ]
  },
  {
   "cell_type": "markdown",
   "metadata": {},
   "source": [
    "## Anonimización de los datos"
   ]
  },
  {
   "cell_type": "code",
   "execution_count": 7,
   "metadata": {},
   "outputs": [],
   "source": [
    "# Aplicar hashing al documento de identificación y eliminar la columna original\n",
    "df[\"documento_identificación\"] = df[\"documento_identificación\"].apply(HashUtility.hash_stable)\n",
    "\n",
    "# Aplicar hashing a los nombres y apellidos y eliminar las columnas originales\n",
    "df[\"primer_apellido\"] = df[\"primer_apellido\"].apply(HashUtility.hash_stable)\n",
    "df[\"segundo_apellido\"] = df[\"segundo_apellido\"].apply(HashUtility.hash_stable)\n",
    "df[\"nombres\"] = df[\"nombres\"].apply(HashUtility.hash_stable)\n",
    "df[\"ID\"] = df[\"ID\"].apply(HashUtility.hash_stable)\n"
   ]
  },
  {
   "cell_type": "markdown",
   "metadata": {},
   "source": [
    "## Limpieza del texto"
   ]
  },
  {
   "cell_type": "markdown",
   "metadata": {},
   "source": [
    "### Estandarizar Antigüedad"
   ]
  },
  {
   "cell_type": "code",
   "execution_count": 8,
   "metadata": {},
   "outputs": [
    {
     "data": {
      "text/plain": [
       "array(['Antiguo', 'Nuevo', 'nuevo'], dtype=object)"
      ]
     },
     "execution_count": 8,
     "metadata": {},
     "output_type": "execute_result"
    }
   ],
   "source": [
    "cleaner.unique_values_by_column('antigüedad')"
   ]
  },
  {
   "cell_type": "code",
   "execution_count": 9,
   "metadata": {},
   "outputs": [
    {
     "data": {
      "text/plain": [
       "array(['Antiguo', 'Nuevo'], dtype=object)"
      ]
     },
     "execution_count": 9,
     "metadata": {},
     "output_type": "execute_result"
    }
   ],
   "source": [
    "cleaner.clean_column('antigüedad')\n",
    "cleaner.unique_values_by_column('antigüedad')"
   ]
  },
  {
   "cell_type": "markdown",
   "metadata": {},
   "source": [
    "### País de Origen"
   ]
  },
  {
   "cell_type": "code",
   "execution_count": 10,
   "metadata": {},
   "outputs": [
    {
     "data": {
      "text/plain": [
       "array(['Colombia', 'Colombia ', 'Argentina', 'España',\n",
       "       'República Dominicana'], dtype=object)"
      ]
     },
     "execution_count": 10,
     "metadata": {},
     "output_type": "execute_result"
    }
   ],
   "source": [
    "cleaner.unique_values_by_column('país_origen')"
   ]
  },
  {
   "cell_type": "code",
   "execution_count": 11,
   "metadata": {},
   "outputs": [
    {
     "data": {
      "text/plain": [
       "array(['Colombia', 'Argentina', 'España', 'República dominicana'],\n",
       "      dtype=object)"
      ]
     },
     "execution_count": 11,
     "metadata": {},
     "output_type": "execute_result"
    }
   ],
   "source": [
    "cleaner.clean_column('país_origen')\n",
    "cleaner.unique_values_by_column('país_origen')"
   ]
  },
  {
   "cell_type": "markdown",
   "metadata": {},
   "source": [
    "### Tipo de vivienda"
   ]
  },
  {
   "cell_type": "code",
   "execution_count": 12,
   "metadata": {},
   "outputs": [
    {
     "data": {
      "text/plain": [
       "array(['Alquilada', 'Propia', 'Alquilada  ', 'Familiar', 'Familiar ',\n",
       "       'Propia ', 'Alquilada ', ' Propia', 'Alquilada    ', 'propia',\n",
       "       'alquilada'], dtype=object)"
      ]
     },
     "execution_count": 12,
     "metadata": {},
     "output_type": "execute_result"
    }
   ],
   "source": [
    "cleaner.unique_values_by_column('tipo_vivienda')"
   ]
  },
  {
   "cell_type": "code",
   "execution_count": 13,
   "metadata": {},
   "outputs": [
    {
     "data": {
      "text/plain": [
       "array(['Alquilada', 'Propia', 'Familiar'], dtype=object)"
      ]
     },
     "execution_count": 13,
     "metadata": {},
     "output_type": "execute_result"
    }
   ],
   "source": [
    "cleaner.clean_column('tipo_vivienda')\n",
    "cleaner.unique_values_by_column('tipo_vivienda')"
   ]
  },
  {
   "cell_type": "markdown",
   "metadata": {},
   "source": [
    "### Zona de vivienda"
   ]
  },
  {
   "cell_type": "code",
   "execution_count": 14,
   "metadata": {},
   "outputs": [
    {
     "data": {
      "text/plain": [
       "array(['Urbana', 'Rural', 'Urbana ', 'RURAL', 'Urbano'], dtype=object)"
      ]
     },
     "execution_count": 14,
     "metadata": {},
     "output_type": "execute_result"
    }
   ],
   "source": [
    "cleaner.unique_values_by_column('zona_vivienda')"
   ]
  },
  {
   "cell_type": "code",
   "execution_count": 15,
   "metadata": {},
   "outputs": [
    {
     "data": {
      "text/plain": [
       "array(['Urbana', 'Rural'], dtype=object)"
      ]
     },
     "execution_count": 15,
     "metadata": {},
     "output_type": "execute_result"
    }
   ],
   "source": [
    "cleaner.clean_column('zona_vivienda')\n",
    "cleaner.unique_values_by_column('zona_vivienda')"
   ]
  },
  {
   "cell_type": "markdown",
   "metadata": {},
   "source": [
    "### Interés en estudios superiores"
   ]
  },
  {
   "cell_type": "code",
   "execution_count": 16,
   "metadata": {},
   "outputs": [
    {
     "data": {
      "text/plain": [
       "array(['Alto', 'Medio', 'Bajo', 'Alto ', 'BAJO', 'medio', 'bajo', 'MEDIO',\n",
       "       'Medio '], dtype=object)"
      ]
     },
     "execution_count": 16,
     "metadata": {},
     "output_type": "execute_result"
    }
   ],
   "source": [
    "cleaner.unique_values_by_column('interés_estudios_superiores')"
   ]
  },
  {
   "cell_type": "code",
   "execution_count": 17,
   "metadata": {},
   "outputs": [
    {
     "data": {
      "text/plain": [
       "array(['Alto', 'Medio', 'Bajo'], dtype=object)"
      ]
     },
     "execution_count": 17,
     "metadata": {},
     "output_type": "execute_result"
    }
   ],
   "source": [
    "cleaner.clean_column('interés_estudios_superiores')\n",
    "cleaner.unique_values_by_column('interés_estudios_superiores')"
   ]
  },
  {
   "cell_type": "markdown",
   "metadata": {},
   "source": [
    "### Apoyo Familiar en el proceso educativo"
   ]
  },
  {
   "cell_type": "code",
   "execution_count": 18,
   "metadata": {},
   "outputs": [
    {
     "data": {
      "text/plain": [
       "array(['Medio', 'Alta', 'Alto ', 'alto', 'Bajo', 'Alto', 'ALTO', 'medio',\n",
       "       'bajo', 'slto', 'MEDIO', 'alta'], dtype=object)"
      ]
     },
     "execution_count": 18,
     "metadata": {},
     "output_type": "execute_result"
    }
   ],
   "source": [
    "cleaner.unique_values_by_column('apoyo_familiar')"
   ]
  },
  {
   "cell_type": "code",
   "execution_count": 19,
   "metadata": {},
   "outputs": [
    {
     "data": {
      "text/plain": [
       "array(['Medio', 'Alto', 'Bajo'], dtype=object)"
      ]
     },
     "execution_count": 19,
     "metadata": {},
     "output_type": "execute_result"
    }
   ],
   "source": [
    "cleaner.clean_column('apoyo_familiar')\n",
    "cleaner.unique_values_by_column('apoyo_familiar')"
   ]
  },
  {
   "cell_type": "markdown",
   "metadata": {},
   "source": [
    "### Participación en clase"
   ]
  },
  {
   "cell_type": "code",
   "execution_count": 20,
   "metadata": {},
   "outputs": [
    {
     "data": {
      "text/plain": [
       "array(['alta', 'Alta', 'Media ', 'media', 'Media', 'Alta ', 'MEDIO',\n",
       "       'alto', 'Baja', 'bajo', 'BAJA', 'medio', 'baja', 'Alto', 'Bajo',\n",
       "       'ALTA', 'Medio', 'MEDIA', 'ALTA ', 'ALTO', 'MEDIO '], dtype=object)"
      ]
     },
     "execution_count": 20,
     "metadata": {},
     "output_type": "execute_result"
    }
   ],
   "source": [
    "cleaner.unique_values_by_column('participación_clase')"
   ]
  },
  {
   "cell_type": "code",
   "execution_count": 21,
   "metadata": {},
   "outputs": [
    {
     "data": {
      "text/plain": [
       "array(['Alta', 'Media', 'Baja'], dtype=object)"
      ]
     },
     "execution_count": 21,
     "metadata": {},
     "output_type": "execute_result"
    }
   ],
   "source": [
    "cleaner.clean_column('participación_clase')\n",
    "cleaner.unique_values_by_column('participación_clase')"
   ]
  },
  {
   "cell_type": "markdown",
   "metadata": {},
   "source": [
    "### NEE"
   ]
  },
  {
   "cell_type": "code",
   "execution_count": 22,
   "metadata": {},
   "outputs": [
    {
     "data": {
      "text/plain": [
       "array(['No', 'NO', 'No ', 'Si', 'no', 'si', 'SI'], dtype=object)"
      ]
     },
     "execution_count": 22,
     "metadata": {},
     "output_type": "execute_result"
    }
   ],
   "source": [
    "cleaner.unique_values_by_column('nee')"
   ]
  },
  {
   "cell_type": "code",
   "execution_count": 23,
   "metadata": {},
   "outputs": [
    {
     "data": {
      "text/plain": [
       "array(['No', 'Si'], dtype=object)"
      ]
     },
     "execution_count": 23,
     "metadata": {},
     "output_type": "execute_result"
    }
   ],
   "source": [
    "cleaner.clean_column('nee')\n",
    "cleaner.unique_values_by_column('nee')"
   ]
  },
  {
   "cell_type": "markdown",
   "metadata": {},
   "source": [
    "### Enfermedades"
   ]
  },
  {
   "cell_type": "code",
   "execution_count": 24,
   "metadata": {},
   "outputs": [
    {
     "data": {
      "text/plain": [
       "array(['no', 'NO', 'No ', 'No', 'SI', 'Rinitis', 'Cardiopatia congenita',\n",
       "       'rinitis', 'Si', 'Migraña', 'NO ', 'si', 'dislexia', ' no',\n",
       "       'Epilepsia', 'HIPERLAXITUD ', 'renitis', 'CIA ',\n",
       "       'Problemas en el riñon', 'asma', 'PREASMATICO Y RINITICO ALERGICO',\n",
       "       'Diabetes', 'RINITIS ', 'Riñitis', 'no '], dtype=object)"
      ]
     },
     "execution_count": 24,
     "metadata": {},
     "output_type": "execute_result"
    }
   ],
   "source": [
    "cleaner.unique_values_by_column('enfermedades')"
   ]
  },
  {
   "cell_type": "code",
   "execution_count": 25,
   "metadata": {},
   "outputs": [
    {
     "data": {
      "text/plain": [
       "array(['No', 'Si'], dtype=object)"
      ]
     },
     "execution_count": 25,
     "metadata": {},
     "output_type": "execute_result"
    }
   ],
   "source": [
    "cleaner.clean_column('enfermedades')\n",
    "cleaner.unique_values_by_column('enfermedades')"
   ]
  },
  {
   "cell_type": "markdown",
   "metadata": {},
   "source": [
    "### Medio de transporte"
   ]
  },
  {
   "cell_type": "code",
   "execution_count": 26,
   "metadata": {},
   "outputs": [
    {
     "data": {
      "text/plain": [
       "array(['Vehículo privado', 'Transporte escolar', 'Moto',\n",
       "       'Vehiculo privado', 'Motocicleta', 'A pie', 'Transporte público',\n",
       "       'Bicicleta', 'transporte publico', 'motocicleta ',\n",
       "       'Tranporte privado'], dtype=object)"
      ]
     },
     "execution_count": 26,
     "metadata": {},
     "output_type": "execute_result"
    }
   ],
   "source": [
    "cleaner.unique_values_by_column('medio_transporte')"
   ]
  },
  {
   "cell_type": "code",
   "execution_count": 27,
   "metadata": {},
   "outputs": [
    {
     "data": {
      "text/plain": [
       "array(['Vehículo privado', 'Transporte escolar', 'A pie',\n",
       "       'Transporte público', 'Bicicleta'], dtype=object)"
      ]
     },
     "execution_count": 27,
     "metadata": {},
     "output_type": "execute_result"
    }
   ],
   "source": [
    "cleaner.clean_column('medio_transporte')\n",
    "cleaner.unique_values_by_column('medio_transporte')"
   ]
  },
  {
   "cell_type": "markdown",
   "metadata": {},
   "source": [
    "### Nivel motivación"
   ]
  },
  {
   "cell_type": "code",
   "execution_count": 28,
   "metadata": {},
   "outputs": [
    {
     "data": {
      "text/plain": [
       "np.int64(0)"
      ]
     },
     "execution_count": 28,
     "metadata": {},
     "output_type": "execute_result"
    }
   ],
   "source": [
    "df['nivel_motivación'].isnull().sum()"
   ]
  },
  {
   "cell_type": "code",
   "execution_count": 29,
   "metadata": {},
   "outputs": [
    {
     "data": {
      "text/plain": [
       "array(['Alto', 'Medio', 'Bajo', 'alto', 'alta', 'Media', 'ALTO', 'media',\n",
       "       'Media ', 'Alta', 'medio', 'baja'], dtype=object)"
      ]
     },
     "execution_count": 29,
     "metadata": {},
     "output_type": "execute_result"
    }
   ],
   "source": [
    "cleaner.unique_values_by_column('nivel_motivación')"
   ]
  },
  {
   "cell_type": "code",
   "execution_count": 30,
   "metadata": {},
   "outputs": [
    {
     "data": {
      "text/plain": [
       "array(['Alto', 'Medio', 'Bajo'], dtype=object)"
      ]
     },
     "execution_count": 30,
     "metadata": {},
     "output_type": "execute_result"
    }
   ],
   "source": [
    "cleaner.clean_column('nivel_motivación')\n",
    "cleaner.unique_values_by_column('nivel_motivación')"
   ]
  },
  {
   "cell_type": "code",
   "execution_count": 31,
   "metadata": {},
   "outputs": [
    {
     "data": {
      "text/plain": [
       "np.int64(0)"
      ]
     },
     "execution_count": 31,
     "metadata": {},
     "output_type": "execute_result"
    }
   ],
   "source": [
    "df['nivel_motivación'].isnull().sum()"
   ]
  },
  {
   "cell_type": "markdown",
   "metadata": {},
   "source": [
    "### Proyección vocacional"
   ]
  },
  {
   "cell_type": "code",
   "execution_count": 32,
   "metadata": {},
   "outputs": [
    {
     "data": {
      "text/plain": [
       "array(['deportista ', 'Astronauta', 'Youtuber ', 'diseño indsutrial',\n",
       "       'Gimnasta ', 'Empresario y futbolista', 'Doctor y futbolista ',\n",
       "       'Futbolista ', 'abogado', 'Veterinaria ', 'Medicina ', 'Actor ',\n",
       "       'Doctora', 'Doctora ', 'Patinadora', 'MILITAR ', 'Futbolista',\n",
       "       'Profesora', 'Mago', 'Artista', 'Emprearia', 'yotuber',\n",
       "       'Gastronomia', 'Veterinaria', 'piloto de carreras', 'Patinador',\n",
       "       'Comunicadora Social ', 'Publicista', 'Contador Público',\n",
       "       'Militar', 'Youtober', 'Profesor ', 'Futbolista profesional',\n",
       "       'veterinario', 'Docente de deportes',\n",
       "       'negocios internacionales o diseño grafico', 'AUN NO SABE',\n",
       "       'veterinaria', 'No sabe', 'futbolista', 'diseñador grafico',\n",
       "       'youtuber', 'medicina', 'atletismo', 'Veterinario', 'doctor',\n",
       "       'Youtuber', 'Jugadora de ping pong ', 'Biologa marina',\n",
       "       'Diseñadora de modas', 'artista', 'Abogado', 'comerciante',\n",
       "       'arquitecto', 'Génetica', 'bombero', 'Ninguna',\n",
       "       'diseñadora de modas', 'pintora', 'Bailarina', 'cantante',\n",
       "       'violinista', 'Ing en sistemas', 'no definido', 'zootecnista',\n",
       "       'ingeniero de sistema', 'Chef', 'Ingeniero Forestal', 'abogada',\n",
       "       'No sabe aún', 'Cantante', 'chef', 'Medico', 'Investigadora',\n",
       "       'biologa marina', 'Reportera', 'DISEÑADORA DE MODAS', 'COCINERO',\n",
       "       'INGENIERO DE SISTEMAS', 'GASTRÓNOMO ', 'Ingeniero civil, militar',\n",
       "       'Ciclista', 'PROGRAMADOR', 'FUTBOLISTA', 'CIENTÍFICA', 'PROFESORA',\n",
       "       'ABOGADA', 'Empresaria', 'NO SABE', 'VETERINARIA POSIBLEMENTE',\n",
       "       'TENISTA', 'Diseñadora de modas o psicológa', 'Pediatria ',\n",
       "       'PALEONTÓLOGO ', 'VETERIANARIA ', 'ARQUITECTO ', 'Aún no sabe',\n",
       "       'Empresaria ', 'Economista', 'Robótica y baile',\n",
       "       'Militar o astrofísico ', 'Futbolista y youtuber',\n",
       "       'arqueologa marina', 'Artísta músical', 'Artísta ', 'Pintora',\n",
       "       'PILOTO ', 'Ingeniero o arquitecto ', 'Ingeniería de sistemas',\n",
       "       'NO', 'MÉDICO', 'No sabe aun', 'EMPRESARIO',\n",
       "       'ABOGADA/INGIERA/ MODELO', 'Artísta plástica ', 'Ingenieria',\n",
       "       'Ingenieria industrial', 'pediatra', 'Biólogo',\n",
       "       'administrado de empresas', 'Diseño industrial', 'deportista',\n",
       "       'Ingeniero mecatrónico', 'MEDICO CARDIOLOGO', 'Artes escenicas ',\n",
       "       'Karate profesional ', 'Policia ', 'Negocios Iinternacionales',\n",
       "       'CIENTIFICO', 'Cantante, policia', 'CRIMINALISTICA', 'Psicóloga',\n",
       "       'PEDIATRA', 'FUTBOLISTA ', 'Derecho o psicología ', 'bailarina',\n",
       "       'MODELO', 'Arquitecto ', 'Medicina y adm de empresas', 'Psiciloga',\n",
       "       'Medicina (Traumatología)', 'Diseño Industrial',\n",
       "       'No lo tiene definido ', 'Actriz o bailarina profesional',\n",
       "       'Azafata ', 'Derecho', 'Diseñadora de Interiores, Arquitecta',\n",
       "       'musica', 'biologia marina', 'medica o ingenieria civil',\n",
       "       'independiente', 'futbolista o veterinario', 'ACTRIZ', 'idiomas',\n",
       "       'Diseñador industrial', 'artes visulaes', 'Arquitecta',\n",
       "       'ingenieria mecanica', 'Diseñador gráfico', 'Paleontologo',\n",
       "       'Músico', 'Auxiliar de vuelo', 'Diseñadora gráfica', 'Docente',\n",
       "       'Musico', 'Empresario', 'programacion de sistemas', 'Tatuadora',\n",
       "       'actriz', 'Publicidad digital', 'Criminalista', 'Policia',\n",
       "       'VETERINARIA', 'profesor', 'taxista', 'CIENTÍFICO',\n",
       "       'Ingenieria Multimedia ', 'policia', 'enfermera', 'Cantante ',\n",
       "       'ARQUITECTCA ', 'Futbolista y policia ', 'Ingeniero de sistemas',\n",
       "       'Ingeniero', 'NO SABES ', 'Entrenadora de voleibol',\n",
       "       'Fiscal de menores', 'Pediatra', 'CHEF',\n",
       "       'Diseñadora de interiores'], dtype=object)"
      ]
     },
     "execution_count": 32,
     "metadata": {},
     "output_type": "execute_result"
    }
   ],
   "source": [
    "cleaner.unique_values_by_column('proyección_vocacional')"
   ]
  },
  {
   "cell_type": "code",
   "execution_count": 33,
   "metadata": {},
   "outputs": [
    {
     "data": {
      "text/plain": [
       "array(['Deportes', 'STEM', 'Arte y Entretenimiento',\n",
       "       'Diseño y Arquitectura', 'Sociales y Humanidades',\n",
       "       'Ciencias de la Salud', 'Seguridad y Fuerzas Armadas',\n",
       "       'Negocios y Emprendimiento', 'Indefinido o No Sabe'], dtype=object)"
      ]
     },
     "execution_count": 33,
     "metadata": {},
     "output_type": "execute_result"
    }
   ],
   "source": [
    "cleaner.clean_column('proyección_vocacional')\n",
    "cleaner.unique_values_by_column('proyección_vocacional')"
   ]
  },
  {
   "cell_type": "markdown",
   "metadata": {},
   "source": [
    "### Actividades extracurriculares"
   ]
  },
  {
   "cell_type": "code",
   "execution_count": 34,
   "metadata": {},
   "outputs": [
    {
     "data": {
      "text/plain": [
       "array(['ninguna', 'Karate', 'No ', 'ningunma', 'Patinaje', 'Futbol',\n",
       "       'futbol y cicla', 'tennis', 'Gimnasia ', 'Natación ', 'niguna',\n",
       "       'Ninguna', 'Patinaje ', 'NINGUNA', 'Fútbol, inglés',\n",
       "       'Actividades fisicas', 'Gimnasia y violin ', 'atletismo',\n",
       "       'Ciclismo y danzas', 'musica y bicicleta',\n",
       "       'Patinaje, futbol, musica', 'ningunna', 'Patinaje - Fútbol',\n",
       "       'Ciclismo', 'Fútbol', 'Ninguno.', 'tenis de mesa, futbol',\n",
       "       'Natación', 'volleyboll y danza', 'danzas y modelaje ', 'futbol',\n",
       "       'dibujo', 'natacion', 'gimnasio', 'patinaje', 'voleibol',\n",
       "       'música, inglés, tenis', 'golf, ajedrez, gimnasio', 'música',\n",
       "       'danzas', 'danzas y patinaje ', 'fútbol, piano', 'Danza', 'fútbol',\n",
       "       'natación, francés', 'Ninguno', 'patinaje, gimnasia', 'Natacion',\n",
       "       'ARTES', 'FUTBOL', 'PATINAJE', 'Montar cicla', 'CLASES DE INGLÉS',\n",
       "       'Voleibol', 'BALONCESTO', 'VOLLEYBALL', 'TENNIS',\n",
       "       'Karate, toca Violonchelo y dibuja', 'CURSO DE INGLÉS Y EJERCICIO',\n",
       "       'ACADEMIA DE BAILE', 'Gimnasio', 'Ciclismo ', 'Música', 'Piano ',\n",
       "       'fútbol ', 'NATACIÓN',\n",
       "       'Danza Urbana e Idiomas extranjeros(Inglés)', 'Tenis', 'Voleyball',\n",
       "       'futbol ', 'Aprender idiomas en duolingo', 'CAMPAMENTO ',\n",
       "       'dibujo ', 'Ninguna ', 'Dibujo', 'futbol, tenis', 'Nninguna',\n",
       "       'Tennis de campo', 'Patinaje, Clses de inglés', 'musica ',\n",
       "       'futbol y natacion ', 'CURSO DE INGLÉS Y PIANO', 'INGLÉS Y ARTES ',\n",
       "       'musica', 'Voleybol ', 'ingles', 'Diseño digital', 'Equitación',\n",
       "       'Idiomas', 'Patinaje - Básquetbol', 'Musica', 'Básquetbol',\n",
       "       'Pilates  y baile', 'Patinaje - Voleibol', 'Voleybol',\n",
       "       'Patinaje de velocidad', 'gimnasia', 'BICICLETA', 'Ninguno ',\n",
       "       'Aprender idiomas en Duolingo, patinaje', 'Taekwondo',\n",
       "       'EQUITACIÓN Y VOLLEYBALL ', 'Patinae', 'Danzas', 'MOTOCROSS',\n",
       "       'Motocross, Gimnasio', 'NInguna'], dtype=object)"
      ]
     },
     "execution_count": 34,
     "metadata": {},
     "output_type": "execute_result"
    }
   ],
   "source": [
    "cleaner.unique_values_by_column('actividades_extracurriculares')"
   ]
  },
  {
   "cell_type": "code",
   "execution_count": 35,
   "metadata": {},
   "outputs": [
    {
     "data": {
      "text/plain": [
       "array(['Ninguna', 'Deporte', 'Deporte, Idiomas', 'Artes, Deporte',\n",
       "       'Artes', 'Artes, Deporte, Idiomas', 'Idiomas', 'Artes, Idiomas',\n",
       "       'Tecnología / Diseño'], dtype=object)"
      ]
     },
     "execution_count": 35,
     "metadata": {},
     "output_type": "execute_result"
    }
   ],
   "source": [
    "cleaner.clean_column('actividades_extracurriculares')\n",
    "cleaner.unique_values_by_column('actividades_extracurriculares')"
   ]
  },
  {
   "cell_type": "markdown",
   "metadata": {},
   "source": [
    "### Familia"
   ]
  },
  {
   "cell_type": "code",
   "execution_count": 36,
   "metadata": {},
   "outputs": [
    {
     "data": {
      "text/plain": [
       "array(['mama, papa, hermana y abuela.', 'mamá y papá', 'Mamá ',\n",
       "       'mama papa hermana', 'Mamá, papá y hermana',\n",
       "       'mamá, papá y hermana ', 'Abuelos, mamá, tios',\n",
       "       'Abuelita, tio, primo y hermana ', 'Mamá y hermana ',\n",
       "       'mama, papa y hermano', 'mama y papa ',\n",
       "       'Mamá, papá y hermano, abuela', 'mamá, papá, hermano',\n",
       "       'Papá, mamá y hermano ', 'Mamá', 'Mamá y papá',\n",
       "       'Mamá. papá, hermana ', 'Mamá, papá, abuela y hermana ',\n",
       "       'Mamá, papá y hermano', '3', 'Mamá, padrastro y hermano',\n",
       "       'Mamá, papá y hemana', 'mamá, hermano', 'Mamá y hermana',\n",
       "       'Papá, hermano y abuelos', 'mam,a, aguelo, hermana',\n",
       "       'abuelo, abuela, mamá, hermano', 'Papá, mamá, hermano y abuela',\n",
       "       'mamá, papá y hermano ', 'Mamá, hermana y abuelos', 'Papá',\n",
       "       'Mamá - Papá - Abuela', 'Mamá - Papá',\n",
       "       'Mamá- Tía - Abuela - Abuelastro', 'Mamá - Hermanos',\n",
       "       'mamá´, papá y hermano ', 'Mama, papa.', 'Mamá y papá ',\n",
       "       'Mamá - Papá- Hermanos', 'mama, abuelo, abuela', 'mama',\n",
       "       'PAPA, MAMA HERMANO ', 'mamá, papá, abuela, hermano', 'Mamá, papá',\n",
       "       'papa, tio, abuela, hermana', 'mamá, papá', 'papa, mama',\n",
       "       'papa, mama, hermano', 'papa mama hermano', 'hermana, mama, papa',\n",
       "       'mamá, abuela, hermana', 'mamá, papá, hermano, tio',\n",
       "       'Mamá, papá, hermano, abuela.', 'mamá ', 'mama, papa, abuela',\n",
       "       'mamá, papá, hermana', 'Mamá, papá, hermana',\n",
       "       'abuelo, mama, hermana', 'mama, papa, hermano',\n",
       "       'Mamá, Papá  y hermano ', 'mamá, papá y abuela paterna',\n",
       "       'mamá y tía', 'papá, hermano, auelo, abuela', 'mamá, padrastro',\n",
       "       'mama, papa, abuela.', 'mamá', 'Mama y papa', 'mama, papa, tia.',\n",
       "       'mamá, papá, hermano,abuela', 'Mama, papa, hermanos.',\n",
       "       'mamá, abuela', 'mamá, papá, hermano, abuela',\n",
       "       'Mama, papa, hemana', 'Papa, mama, hermano', 'papá ', 'Mama.',\n",
       "       'papá, mamá, hermana, abuela', 'mamá, papá,hermano',\n",
       "       'Abuela y madre', 'Mama, papa, hermana, tio y abuela.',\n",
       "       'Mamá, padrastro.', 'Mamá, Papá, hermano.', 'mama, papa.',\n",
       "       'Mama, papa, hemanos', 'MAMÁ, PAPÁ Y HERMANO',\n",
       "       'MAMÁ, PAPÁ Y HERMANA', 'MAMÁ, 3 PRIMOS, ABUELA Y TÍA ',\n",
       "       'MAMÁ, HERMANO Y PAPÁ', '2', 'MAMÁ, PAPÁ , HERMANA Y ABUELA',\n",
       "       'MAMÁ , PAPÁ Y HERMANO', 'MAMÁ, HERMANO Y HERMANA', 'MAMÁ Y PAPÁ',\n",
       "       'Papá, mamá y hermana', 'MAMÁ, PAPÁ, HERMANO Y TÍA',\n",
       "       'MAMÁ, HERMANO Y ABUELOS', 'PAPÁ ',\n",
       "       'Mamá. padrastro, hermana y abuela materna',\n",
       "       'Mamá, papá y hermanos', 'Mamá, hermano y abuela materna', '6',\n",
       "       'Mamá, Abuela, Tía abuela',\n",
       "       'Mamá, papá, hermana y abuelos paternos', '5',\n",
       "       'mamá, papá y hermanos ', 'Mamá y hermano',\n",
       "       'Mamá, papá, hermana y abuela materna', 'papas y dos hermanos',\n",
       "       'Papá - Mamá - Hermana', 'Papá y hermano', 'mamá y abuela', '4',\n",
       "       'Mamá, Padrastro', 'abuelos, papá', 'abuelos',\n",
       "       'PAPA, MAMA, HERMANO Y ABUELA', 'papá, hermano, abuelo',\n",
       "       'mamá, hermana, papá', 'PAPA Y HERMANOS', 'ABUELOS',\n",
       "       'Mamá y Hermano', 'mamá y hermano ', 'Papá, mamá y hermanos',\n",
       "       'PAPA, MAMA HERMANA', 'MAMA, PAPA HERMANA', 'Papás',\n",
       "       'ABUELO, TIA, HERMANOS, PRIMO', 'MAMA Y ABUELA',\n",
       "       'MAMA, PAPA Y PRIMO', 'Mamá hermano sobrino',\n",
       "       'Mamá, papá, hermano', 'Abuelos', 'PAPA', 'papa,abuelo,tia',\n",
       "       'Mamá, papá y hermanas', 'mama papa ', 'Mamá, Padrastro, Hermana',\n",
       "       'papa mama hermana', 'mama y abuelos', 'mama papa',\n",
       "       'mama abuelo abuela padrastro', 'Mamá - Papá- Hermana',\n",
       "       'mama papa hermano', 'Mamá, Padrastro, Hermano',\n",
       "       'mama papa abuelos hermana', 'abuela abuelo mamá tio hermana',\n",
       "       'Mamá, Papá', 'Mamá, Abuela', 'Mamá, Papá, Hermana',\n",
       "       'Mamá, Papá, Hermano', 'Mamá - Papá - Hermana',\n",
       "       'Mamá, Papá, Hermana, Abuela', 'Mamá, Hermano',\n",
       "       'mama, abuelita, hermano', 'Mamá - Hermano', 'Mamá, Papá.',\n",
       "       'mamá, hermano, hermana, cuñado', 'Mamá , abuelita y hermano ',\n",
       "       'Mamá, papá y abuela materna', 'Mamá, Hermanos, Cuñada',\n",
       "       'Mamá- Papá - Hermano', 'Papá, abuelos paternos y un tío', 'MAMÁ',\n",
       "       'mama, hermano', 'mamá, hermana', 'MAMÁ Y HERMANA', 'Papá y Mamá',\n",
       "       'mama ', 'mamá, padrastro, ', 'abuela y abuelo',\n",
       "       'mama, papa y hermanos', 'mamá, papá y hermano',\n",
       "       'MAMA, PAPA HERMANOS', 'maá, papá y hermana',\n",
       "       'mamá, papá, hermano, abuelos y tia ', 'MAMA, HERMANA Y ABUELA',\n",
       "       'Mamá, Hermano, Abuela.', 'mama, abuelos.', 'abuela'], dtype=object)"
      ]
     },
     "execution_count": 36,
     "metadata": {},
     "output_type": "execute_result"
    }
   ],
   "source": [
    "cleaner.unique_values_by_column('familia')"
   ]
  },
  {
   "cell_type": "code",
   "execution_count": 37,
   "metadata": {},
   "outputs": [
    {
     "data": {
      "text/plain": [
       "array(['Mamá, papá y otros', 'Mamá y papá', 'Solo mamá',\n",
       "       'Otros familiares', 'Solo papá'], dtype=object)"
      ]
     },
     "execution_count": 37,
     "metadata": {},
     "output_type": "execute_result"
    }
   ],
   "source": [
    "cleaner.clean_column('familia')\n",
    "cleaner.unique_values_by_column('familia')"
   ]
  },
  {
   "cell_type": "code",
   "execution_count": 38,
   "metadata": {},
   "outputs": [
    {
     "name": "stdout",
     "output_type": "stream",
     "text": [
      "Valores únicos y su cantidad en cada columna:\n",
      "antigüedad: 2 valores únicos\n",
      "demuestra_confianza: 5 valores únicos\n",
      "país_origen: 4 valores únicos\n",
      "estrato: 6 valores únicos\n",
      "tipo_vivienda: 3 valores únicos\n",
      "zona_vivienda: 2 valores únicos\n",
      "horas_semana_estudio_casa: 19 valores únicos\n",
      "interés_estudios_superiores: 3 valores únicos\n",
      "medio_transporte: 5 valores únicos\n",
      "apoyo_familiar: 3 valores únicos\n",
      "total_hermanos: 8 valores únicos\n",
      "familia: 5 valores únicos\n",
      "actividades_extracurriculares: 9 valores únicos\n",
      "enfermedades: 2 valores únicos\n",
      "proyección_vocacional: 9 valores únicos\n",
      "participación_clase: 3 valores únicos\n",
      "nee: 2 valores únicos\n",
      "nivel_motivación: 3 valores únicos\n"
     ]
    }
   ],
   "source": [
    "cleaner.display_unique_values(cols_to_search)\n"
   ]
  },
  {
   "cell_type": "code",
   "execution_count": 39,
   "metadata": {},
   "outputs": [
    {
     "data": {
      "text/plain": [
       "ID                                0\n",
       "sede                              0\n",
       "nivel                             0\n",
       "grado                             0\n",
       "orden_grado                       0\n",
       "año_ingreso                       0\n",
       "antigüedad                        0\n",
       "género                            0\n",
       "documento_identificación          0\n",
       "primer_apellido                   0\n",
       "segundo_apellido                  0\n",
       "nombres                           0\n",
       "fecha_nacimiento                  0\n",
       "demuestra_confianza              51\n",
       "país_origen                       0\n",
       "estrato                          86\n",
       "tipo_vivienda                    86\n",
       "zona_vivienda                     0\n",
       "dirección                        86\n",
       "horas_semana_estudio_casa        86\n",
       "interés_estudios_superiores      86\n",
       "medio_transporte                  0\n",
       "apoyo_familiar                    0\n",
       "total_hermanos                   86\n",
       "familia                          86\n",
       "actividades_extracurriculares    86\n",
       "enfermedades                      0\n",
       "proyección_vocacional            86\n",
       "participación_clase               0\n",
       "nee                               0\n",
       "valoración_emocional              0\n",
       "nivel_motivación                  0\n",
       "dtype: int64"
      ]
     },
     "execution_count": 39,
     "metadata": {},
     "output_type": "execute_result"
    }
   ],
   "source": [
    "# conteo nulos\n",
    "df.isnull().sum()"
   ]
  },
  {
   "cell_type": "code",
   "execution_count": 40,
   "metadata": {},
   "outputs": [
    {
     "data": {
      "text/html": [
       "<html>\n",
       "<head><meta charset=\"utf-8\" /></head>\n",
       "<body>\n",
       "    <div>                        <script type=\"text/javascript\">window.PlotlyConfig = {MathJaxConfig: 'local'};</script>\n",
       "        <script charset=\"utf-8\" src=\"https://cdn.plot.ly/plotly-3.0.1.min.js\"></script>                <div id=\"7b9b2ee7-c435-4c6d-b5e6-d30b77324010\" class=\"plotly-graph-div\" style=\"height:100%; width:100%;\"></div>            <script type=\"text/javascript\">                window.PLOTLYENV=window.PLOTLYENV || {};                                if (document.getElementById(\"7b9b2ee7-c435-4c6d-b5e6-d30b77324010\")) {                    Plotly.newPlot(                        \"7b9b2ee7-c435-4c6d-b5e6-d30b77324010\",                        [{\"coloraxis\":\"coloraxis\",\"name\":\"0\",\"x\":[\"demuestra_confianza\",\"estrato\",\"tipo_vivienda\",\"direcci\\u00f3n\",\"horas_semana_estudio_casa\",\"inter\\u00e9s_estudios_superiores\",\"total_hermanos\",\"familia\",\"actividades_extracurriculares\",\"proyecci\\u00f3n_vocacional\"],\"y\":{\"dtype\":\"i2\",\"bdata\":\"AAABAAIAAwAEAAUABgAHAAgACQAKAAsADAANAA4ADwAQABEAEgATABQAFQAWABcAGAAZABoAGwAcAB0AHgAfACAAIQAiACMAJAAlACYAJwAoACkAKgArACwALQAuAC8AMAAxADIAMwA0ADUANgA3ADgAOQA6ADsAPAA9AD4APwBAAEEAQgBDAEQARQBGAEcASABJAEoASwBMAE0ATgBPAFAAUQBSAFMAVABVAFYAVwBYAFkAWgBbAFwAXQBeAF8AYABhAGIAYwBkAGUAZgBnAGgAaQBqAGsAbABtAG4AbwBwAHEAcgBzAHQAdQB2AHcAeAB5AHoAewB8AH0AfgB\\u002fAIAAgQCCAIMAhACFAIYAhwCIAIkAigCLAIwAjQCOAI8AkACRAJIAkwCUAJUAlgCXAJgAmQCaAJsAnACdAJ4AnwCgAKEAogCjAKQApQCmAKcAqACpAKoAqwCsAK0ArgCvALAAsQCyALMAtAC1ALYAtwC4ALkAugC7ALwAvQC+AL8AwADBAMIAwwDEAMUAxgDHAMgAyQDKAMsAzADNAM4AzwDQANEA0gDTANQA1QDWANcA2ADZANoA2wDcAN0A3gDfAOAA4QDiAOMA5ADlAOYA5wDoAOkA6gDrAOwA7QDuAO8A8ADxAPIA8wD0APUA9gD3APgA+QD6APsA\\u002fAD9AP4A\\u002fwAAAQEBAgEDAQQBBQEGAQcBCAEJAQoBCwEMAQ0BDgEPARABEQESARMBFAEVARYBFwEYARkBGgEbARwBHQEeAR8BIAEhASIBIwEkASUBJgEnASgBKQEqASsBLAEtAS4BLwEwATEBMgEzATQBNQE2ATcBOAE5AToBOwE8AT0BPgE\\u002fAUABQQFCAUMBRAFFAUYBRwFIAUkBSgFLAUwBTQFOAU8BUAFRAVIBUwFUAVUBVgFXAVgBWQFaAVsBXAFdAV4BXwFgAWEBYgFjAWQBZQFmAWcBaAFpAWoBawFsAW0BbgE=\"},\"z\":{\"dtype\":\"i1\",\"bdata\":\"AAAAAAAAAAAAAAAAAAAAAAAAAAAAAAAAAAAAAAAAAAAAAAAAAAAAAAAAAAAAAAAAAAAAAAAAAAAAAAAAAAAAAAAAAAAAAAAAAAAAAAAAAAAAAAAAAAAAAAAAAAAAAAAAAAAAAAAAAAAAAAAAAAAAAAAAAAAAAAAAAAAAAAAAAAAAAAAAAAAAAAAAAAAAAAAAAAAAAAAAAAAAAAAAAAAAAAABAQEBAQEBAQEAAQEBAQEBAQEBAAAAAAAAAAAAAAAAAAAAAAAAAAAAAAAAAAAAAAAAAAAAAAAAAAAAAAAAAAAAAAAAAAAAAAAAAAAAAAAAAAAAAAAAAAAAAAABAQEBAQEBAQEAAAAAAAAAAAAAAAAAAAAAAAAAAAAAAAAAAAAAAAAAAAAAAAAAAAAAAAEBAQEBAQEBAQAAAAAAAAAAAAAAAAAAAAAAAAAAAAAAAAAAAAAAAAABAQEBAQEBAQEAAAAAAAAAAAAAAAEBAQEBAQEBAQABAQEBAQEBAQEAAQEBAQEBAQEBAAAAAAAAAAAAAAABAQEBAQEBAQEAAAAAAAAAAAAAAAEBAQEBAQEBAQABAQEBAQEBAQEAAAAAAAAAAAAAAAAAAAAAAAAAAAAAAAAAAAAAAAAAAAAAAAAAAAAAAAEBAQEBAQEBAQAAAAAAAAAAAAAAAQEBAQEBAQEBAAAAAAAAAAAAAAAAAAAAAAAAAAAAAQEBAQEBAQEBAAAAAAAAAAAAAAAAAAAAAAAAAAAAAAAAAAAAAAAAAAAAAAAAAAAAAAAAAAAAAAAAAAAAAAAAAAAAAAAAAAAAAAAAAAAAAAABAQEBAQEBAQEAAAAAAAAAAAAAAAEBAQEBAQEBAQABAQEBAQEBAQEAAAAAAAAAAAAAAAEBAQEBAQEBAQABAQEBAQEBAQEAAAAAAAAAAAAAAAAAAAAAAAAAAAABAQEBAQEBAQEAAQEBAQEBAQEBAAAAAAAAAAAAAAAAAAAAAAAAAAAAAAAAAAAAAAAAAAAAAAAAAAAAAAAAAAAAAAAAAAAAAQEBAQEBAQEBAAAAAAAAAAAAAAAAAAAAAAAAAAAAAAAAAAAAAAAAAAAAAAAAAAAAAAAAAAAAAAAAAAAAAAAAAAAAAAAAAAEBAQEBAQEBAQAAAAAAAAAAAAAAAQEBAQEBAQEBAAAAAAAAAAAAAAAAAAAAAAAAAAAAAAAAAAAAAAAAAAAAAAAAAAAAAAAAAAAAAAAAAAAAAAAAAAAAAAAAAAAAAAAAAAAAAAAAAAAAAAAAAAAAAAAAAAAAAAAAAAEBAQEBAQEBAQAAAAAAAAAAAAAAAAAAAAAAAAAAAAAAAAAAAAAAAAAAAAAAAAAAAAAAAAAAAAAAAAAAAAAAAAAAAAAAAAAAAAAAAAAAAAAAAQEBAQEBAQEBAAAAAAAAAAAAAAAAAAAAAAAAAAAAAAAAAAAAAAAAAAAAAAAAAAAAAAAAAAAAAAAAAAAAAAAAAAAAAAAAAAAAAAAAAAAAAAAAAAAAAAAAAAAAAQEBAQEBAQEBAAAAAAAAAAAAAAAAAAAAAAAAAAAAAQEBAQEBAQEBAAEBAQEBAQEBAQAAAAAAAAAAAAAAAAAAAAAAAAAAAAAAAAAAAAAAAAAAAAAAAAAAAAAAAAAAAAAAAAAAAAAAAAAAAAAAAAAAAAAAAAAAAAAAAAAAAAAAAAAAAAAAAAAAAAAAAAABAQEBAQEBAQEAAAAAAAAAAAAAAAAAAAAAAAAAAAAAAAAAAAAAAAAAAAAAAAAAAAAAAAAAAAAAAAAAAAAAAAAAAAAAAAAAAAAAAAAAAAAAAAAAAAAAAAAAAAABAQEBAQEBAQEAAAAAAAAAAAAAAAAAAAAAAAAAAAAAAAAAAAAAAAAAAQEBAQEBAQEBAAAAAAAAAAAAAAAAAAAAAAAAAAAAAAAAAAAAAAAAAAEBAQEBAQEBAQAAAAAAAAAAAAAAAAAAAAAAAAAAAAEBAQEBAQEBAQAAAAAAAAAAAAAAAAAAAAAAAAAAAAEBAQEBAQEBAQAAAAAAAAAAAAAAAAAAAAAAAAAAAAEBAQEBAQEBAQAAAAAAAAAAAAAAAAAAAAAAAAAAAAAAAAAAAAAAAAAAAAAAAAAAAAAAAQEBAQEBAQEBAAAAAAAAAAAAAAAAAAAAAAAAAAAAAAAAAAAAAAAAAAEBAQEBAQEBAQABAQEBAQEBAQEAAQEBAQEBAQEBAAAAAAAAAAAAAAAAAAAAAAAAAAAAAAAAAAAAAAAAAAAAAAAAAAAAAAAAAAAAAAAAAAAAAAAAAAAAAAAAAAAAAAAAAAAAAAAAAAAAAAAAAAAAAAAAAAAAAAAAAAAAAAAAAAAAAAAAAAAAAAAAAAAAAQEBAQEBAQEBAAEBAQEBAQEBAQAAAAAAAAAAAAAAAAAAAAAAAAAAAAAAAAAAAAAAAAAAAAAAAAAAAAAAAAAAAAAAAAAAAAAAAAAAAAAAAAAAAAAAAAAAAAAAAAAAAAAAAAAAAAAAAAAAAAAAAAAAAAAAAAAAAAAAAQEBAQEBAQEBAAAAAAAAAAAAAAABAQEBAQEBAQEAAAAAAAAAAAAAAAAAAAAAAAAAAAAAAAAAAAAAAAAAAAAAAAAAAAAAAAEBAQEBAQEBAQAAAAAAAAAAAAAAAAAAAAAAAAAAAAAAAAAAAAAAAAABAQEBAQEBAQEAAAAAAAAAAAAAAAAAAAAAAAAAAAAAAAAAAAAAAAAAAAAAAAAAAAAAAAAAAAAAAAAAAAAAAAAAAAAAAAAAAQEBAQEBAQEBAAAAAAAAAAAAAAAAAAAAAAAAAAAAAAAAAAAAAAAAAAAAAAAAAAAAAAAAAAAAAAAAAAAAAQEBAQEBAQEBAAAAAAAAAAAAAAAAAAAAAAAAAAAAAAAAAAAAAAAAAAAAAAAAAAAAAAAAAAAAAAAAAAAAAAAAAAAAAAAAAAAAAAAAAAAAAAAAAAAAAAAAAAAAAAAAAAAAAAAAAAEBAQEBAQEBAQAAAAAAAAAAAAAAAAAAAAAAAAAAAAAAAAAAAAAAAAABAQEBAQEBAQEAAQEBAQEBAQEBAAAAAAAAAAAAAAAAAAAAAAAAAAAAAAAAAAAAAAAAAAAAAAAAAAAAAAAAAAAAAAAAAAAAAAAAAAAAAAAAAAEBAQEBAQEBAQAAAAAAAAAAAAAAAAAAAAAAAAAAAAEBAQEBAQEBAQABAQEBAQEBAQEAAQEBAQEBAQEBAAAAAAAAAAAAAAAAAAAAAAAAAAAAAAAAAAAAAAAAAAAAAAAAAAAAAAAAAAAAAAAAAAAAAQEBAQEBAQEBAAEBAQEBAQEBAQABAQEBAQEBAQEAAQEBAQEBAQEBAAAAAAAAAAAAAAAAAAAAAAAAAAAAAAAAAAAAAAAAAAEBAQEBAQEBAQAAAAAAAAAAAAAAAAAAAAAAAAAAAAAAAAAAAAAAAAAAAAAAAAAAAAAAAAAAAAAAAAAAAAAAAAAAAAAAAAAAAAAAAAAAAAAAAQEBAQEBAQEBAAAAAAAAAAAAAAAAAAAAAAAAAAAAAQEBAQEBAQEBAAEBAQEBAQEBAQABAQEBAQEBAQEAAAAAAAAAAAAAAAAAAAAAAAAAAAABAQEBAQEBAQEAAAAAAAAAAAAAAAAAAAAAAAAAAAAAAAAAAAAAAAAAAAAAAAAAAAAAAAAAAAAAAAAAAAAAAAAAAAAAAAAAAAAAAAAAAAAAAAAAAAAAAAAAAAAAAAAAAAAAAAAAAAAAAAAAAAAAAAEBAQEBAQEBAQABAQEBAQEBAQEAAAAAAAAAAAAAAAAAAAAAAAAAAAAAAAAAAAAAAAAAAAAAAAAAAAAAAAEBAQEBAQEBAQAAAAAAAAAAAAAAAAAAAAAAAAAAAAEBAQEBAQEBAQAAAAAAAAAAAAAAAQEBAQEBAQEBAAAAAAAAAAAAAAAAAAAAAAAAAAAAAAAAAAAAAAAAAAEBAQEBAQEBAQABAQEBAQEBAQEAAAAAAAAAAAAAAAAAAAAAAAAAAAAAAAAAAAAAAAAAAAAAAAAAAAAAAAAAAAAAAAAAAAAAAAAAAAAAAAAAAQEBAQEBAQEBAAEBAQEBAQEBAQABAQEBAQEBAQEAAQEBAQEBAQEBAAEBAQEBAQEBAQABAQEBAQEBAQEAAQEBAQEBAQEBAAEBAQEBAQEBAQABAQEBAQEBAQEAAQEBAQEBAQEBAAEBAQEBAQEBAQABAQEBAQEBAQEAAQEBAQEBAQEBAAEBAQEBAQEBAQEAAAAAAAAAAAABAAAAAAAAAAAAAQAAAAAAAAAAAAEAAAAAAAAAAAABAAAAAAAAAAAAAQAAAAAAAAAAAAEAAAAAAAAAAAABAAAAAAAAAAAAAQAAAAAAAAAAAAEAAAAAAAAAAAABAAAAAAAAAAAAAQAAAAAAAAAAAAEAAAAAAAAAAAABAAAAAAAAAAAAAQAAAAAAAAAAAAEAAAAAAAAAAAABAAAAAAAAAAAAAQAAAAAAAAAAAAEAAAAAAAAAAAABAAAAAAAAAAAAAQAAAAAAAAAAAAEAAAAAAAAAAAABAAAAAAAAAAAAAQAAAAAAAAAAAAEAAAAAAAAAAAABAAAAAAAAAAAAAQAAAAAAAAAAAAEAAAAAAAAAAAABAAAAAAAAAAAAAQAAAAAAAAAAAAEAAAAAAAAAAAABAAAAAAAAAAAAAQAAAAAAAAAAAAEAAAAAAAAAAAABAAAAAAAAAAAAAQAAAAAAAAAAAAEAAAAAAAAAAAABAAAAAAAAAAAAAQAAAAAAAAAAAAEAAAAAAAAAAAABAAAAAAAAAAAAAQAAAAAAAAAAAAEAAAAAAAAAAAABAAAAAAAAAAAAAQAAAAAAAAAAAAEAAAAAAAAAAAABAAAAAAAAAAAAAQAAAAAAAAAAAAEAAAAAAAAAAAABAAAAAAAAAAAAAQAAAAAAAAAAAA==\",\"shape\":\"367, 10\"},\"type\":\"heatmap\",\"xaxis\":\"x\",\"yaxis\":\"y\",\"hovertemplate\":\"Mapa de Calor de Valores Nulos: %{x}\\u003cbr\\u003ey: %{y}\\u003cbr\\u003ecolor: %{z}\\u003cextra\\u003e\\u003c\\u002fextra\\u003e\"}],                        {\"template\":{\"data\":{\"histogram2dcontour\":[{\"type\":\"histogram2dcontour\",\"colorbar\":{\"outlinewidth\":0,\"ticks\":\"\"},\"colorscale\":[[0.0,\"#0d0887\"],[0.1111111111111111,\"#46039f\"],[0.2222222222222222,\"#7201a8\"],[0.3333333333333333,\"#9c179e\"],[0.4444444444444444,\"#bd3786\"],[0.5555555555555556,\"#d8576b\"],[0.6666666666666666,\"#ed7953\"],[0.7777777777777778,\"#fb9f3a\"],[0.8888888888888888,\"#fdca26\"],[1.0,\"#f0f921\"]]}],\"choropleth\":[{\"type\":\"choropleth\",\"colorbar\":{\"outlinewidth\":0,\"ticks\":\"\"}}],\"histogram2d\":[{\"type\":\"histogram2d\",\"colorbar\":{\"outlinewidth\":0,\"ticks\":\"\"},\"colorscale\":[[0.0,\"#0d0887\"],[0.1111111111111111,\"#46039f\"],[0.2222222222222222,\"#7201a8\"],[0.3333333333333333,\"#9c179e\"],[0.4444444444444444,\"#bd3786\"],[0.5555555555555556,\"#d8576b\"],[0.6666666666666666,\"#ed7953\"],[0.7777777777777778,\"#fb9f3a\"],[0.8888888888888888,\"#fdca26\"],[1.0,\"#f0f921\"]]}],\"heatmap\":[{\"type\":\"heatmap\",\"colorbar\":{\"outlinewidth\":0,\"ticks\":\"\"},\"colorscale\":[[0.0,\"#0d0887\"],[0.1111111111111111,\"#46039f\"],[0.2222222222222222,\"#7201a8\"],[0.3333333333333333,\"#9c179e\"],[0.4444444444444444,\"#bd3786\"],[0.5555555555555556,\"#d8576b\"],[0.6666666666666666,\"#ed7953\"],[0.7777777777777778,\"#fb9f3a\"],[0.8888888888888888,\"#fdca26\"],[1.0,\"#f0f921\"]]}],\"contourcarpet\":[{\"type\":\"contourcarpet\",\"colorbar\":{\"outlinewidth\":0,\"ticks\":\"\"}}],\"contour\":[{\"type\":\"contour\",\"colorbar\":{\"outlinewidth\":0,\"ticks\":\"\"},\"colorscale\":[[0.0,\"#0d0887\"],[0.1111111111111111,\"#46039f\"],[0.2222222222222222,\"#7201a8\"],[0.3333333333333333,\"#9c179e\"],[0.4444444444444444,\"#bd3786\"],[0.5555555555555556,\"#d8576b\"],[0.6666666666666666,\"#ed7953\"],[0.7777777777777778,\"#fb9f3a\"],[0.8888888888888888,\"#fdca26\"],[1.0,\"#f0f921\"]]}],\"surface\":[{\"type\":\"surface\",\"colorbar\":{\"outlinewidth\":0,\"ticks\":\"\"},\"colorscale\":[[0.0,\"#0d0887\"],[0.1111111111111111,\"#46039f\"],[0.2222222222222222,\"#7201a8\"],[0.3333333333333333,\"#9c179e\"],[0.4444444444444444,\"#bd3786\"],[0.5555555555555556,\"#d8576b\"],[0.6666666666666666,\"#ed7953\"],[0.7777777777777778,\"#fb9f3a\"],[0.8888888888888888,\"#fdca26\"],[1.0,\"#f0f921\"]]}],\"mesh3d\":[{\"type\":\"mesh3d\",\"colorbar\":{\"outlinewidth\":0,\"ticks\":\"\"}}],\"scatter\":[{\"fillpattern\":{\"fillmode\":\"overlay\",\"size\":10,\"solidity\":0.2},\"type\":\"scatter\"}],\"parcoords\":[{\"type\":\"parcoords\",\"line\":{\"colorbar\":{\"outlinewidth\":0,\"ticks\":\"\"}}}],\"scatterpolargl\":[{\"type\":\"scatterpolargl\",\"marker\":{\"colorbar\":{\"outlinewidth\":0,\"ticks\":\"\"}}}],\"bar\":[{\"error_x\":{\"color\":\"#2a3f5f\"},\"error_y\":{\"color\":\"#2a3f5f\"},\"marker\":{\"line\":{\"color\":\"#E5ECF6\",\"width\":0.5},\"pattern\":{\"fillmode\":\"overlay\",\"size\":10,\"solidity\":0.2}},\"type\":\"bar\"}],\"scattergeo\":[{\"type\":\"scattergeo\",\"marker\":{\"colorbar\":{\"outlinewidth\":0,\"ticks\":\"\"}}}],\"scatterpolar\":[{\"type\":\"scatterpolar\",\"marker\":{\"colorbar\":{\"outlinewidth\":0,\"ticks\":\"\"}}}],\"histogram\":[{\"marker\":{\"pattern\":{\"fillmode\":\"overlay\",\"size\":10,\"solidity\":0.2}},\"type\":\"histogram\"}],\"scattergl\":[{\"type\":\"scattergl\",\"marker\":{\"colorbar\":{\"outlinewidth\":0,\"ticks\":\"\"}}}],\"scatter3d\":[{\"type\":\"scatter3d\",\"line\":{\"colorbar\":{\"outlinewidth\":0,\"ticks\":\"\"}},\"marker\":{\"colorbar\":{\"outlinewidth\":0,\"ticks\":\"\"}}}],\"scattermap\":[{\"type\":\"scattermap\",\"marker\":{\"colorbar\":{\"outlinewidth\":0,\"ticks\":\"\"}}}],\"scattermapbox\":[{\"type\":\"scattermapbox\",\"marker\":{\"colorbar\":{\"outlinewidth\":0,\"ticks\":\"\"}}}],\"scatterternary\":[{\"type\":\"scatterternary\",\"marker\":{\"colorbar\":{\"outlinewidth\":0,\"ticks\":\"\"}}}],\"scattercarpet\":[{\"type\":\"scattercarpet\",\"marker\":{\"colorbar\":{\"outlinewidth\":0,\"ticks\":\"\"}}}],\"carpet\":[{\"aaxis\":{\"endlinecolor\":\"#2a3f5f\",\"gridcolor\":\"white\",\"linecolor\":\"white\",\"minorgridcolor\":\"white\",\"startlinecolor\":\"#2a3f5f\"},\"baxis\":{\"endlinecolor\":\"#2a3f5f\",\"gridcolor\":\"white\",\"linecolor\":\"white\",\"minorgridcolor\":\"white\",\"startlinecolor\":\"#2a3f5f\"},\"type\":\"carpet\"}],\"table\":[{\"cells\":{\"fill\":{\"color\":\"#EBF0F8\"},\"line\":{\"color\":\"white\"}},\"header\":{\"fill\":{\"color\":\"#C8D4E3\"},\"line\":{\"color\":\"white\"}},\"type\":\"table\"}],\"barpolar\":[{\"marker\":{\"line\":{\"color\":\"#E5ECF6\",\"width\":0.5},\"pattern\":{\"fillmode\":\"overlay\",\"size\":10,\"solidity\":0.2}},\"type\":\"barpolar\"}],\"pie\":[{\"automargin\":true,\"type\":\"pie\"}]},\"layout\":{\"autotypenumbers\":\"strict\",\"colorway\":[\"#636efa\",\"#EF553B\",\"#00cc96\",\"#ab63fa\",\"#FFA15A\",\"#19d3f3\",\"#FF6692\",\"#B6E880\",\"#FF97FF\",\"#FECB52\"],\"font\":{\"color\":\"#2a3f5f\"},\"hovermode\":\"closest\",\"hoverlabel\":{\"align\":\"left\"},\"paper_bgcolor\":\"white\",\"plot_bgcolor\":\"#E5ECF6\",\"polar\":{\"bgcolor\":\"#E5ECF6\",\"angularaxis\":{\"gridcolor\":\"white\",\"linecolor\":\"white\",\"ticks\":\"\"},\"radialaxis\":{\"gridcolor\":\"white\",\"linecolor\":\"white\",\"ticks\":\"\"}},\"ternary\":{\"bgcolor\":\"#E5ECF6\",\"aaxis\":{\"gridcolor\":\"white\",\"linecolor\":\"white\",\"ticks\":\"\"},\"baxis\":{\"gridcolor\":\"white\",\"linecolor\":\"white\",\"ticks\":\"\"},\"caxis\":{\"gridcolor\":\"white\",\"linecolor\":\"white\",\"ticks\":\"\"}},\"coloraxis\":{\"colorbar\":{\"outlinewidth\":0,\"ticks\":\"\"}},\"colorscale\":{\"sequential\":[[0.0,\"#0d0887\"],[0.1111111111111111,\"#46039f\"],[0.2222222222222222,\"#7201a8\"],[0.3333333333333333,\"#9c179e\"],[0.4444444444444444,\"#bd3786\"],[0.5555555555555556,\"#d8576b\"],[0.6666666666666666,\"#ed7953\"],[0.7777777777777778,\"#fb9f3a\"],[0.8888888888888888,\"#fdca26\"],[1.0,\"#f0f921\"]],\"sequentialminus\":[[0.0,\"#0d0887\"],[0.1111111111111111,\"#46039f\"],[0.2222222222222222,\"#7201a8\"],[0.3333333333333333,\"#9c179e\"],[0.4444444444444444,\"#bd3786\"],[0.5555555555555556,\"#d8576b\"],[0.6666666666666666,\"#ed7953\"],[0.7777777777777778,\"#fb9f3a\"],[0.8888888888888888,\"#fdca26\"],[1.0,\"#f0f921\"]],\"diverging\":[[0,\"#8e0152\"],[0.1,\"#c51b7d\"],[0.2,\"#de77ae\"],[0.3,\"#f1b6da\"],[0.4,\"#fde0ef\"],[0.5,\"#f7f7f7\"],[0.6,\"#e6f5d0\"],[0.7,\"#b8e186\"],[0.8,\"#7fbc41\"],[0.9,\"#4d9221\"],[1,\"#276419\"]]},\"xaxis\":{\"gridcolor\":\"white\",\"linecolor\":\"white\",\"ticks\":\"\",\"title\":{\"standoff\":15},\"zerolinecolor\":\"white\",\"automargin\":true,\"zerolinewidth\":2},\"yaxis\":{\"gridcolor\":\"white\",\"linecolor\":\"white\",\"ticks\":\"\",\"title\":{\"standoff\":15},\"zerolinecolor\":\"white\",\"automargin\":true,\"zerolinewidth\":2},\"scene\":{\"xaxis\":{\"backgroundcolor\":\"#E5ECF6\",\"gridcolor\":\"white\",\"linecolor\":\"white\",\"showbackground\":true,\"ticks\":\"\",\"zerolinecolor\":\"white\",\"gridwidth\":2},\"yaxis\":{\"backgroundcolor\":\"#E5ECF6\",\"gridcolor\":\"white\",\"linecolor\":\"white\",\"showbackground\":true,\"ticks\":\"\",\"zerolinecolor\":\"white\",\"gridwidth\":2},\"zaxis\":{\"backgroundcolor\":\"#E5ECF6\",\"gridcolor\":\"white\",\"linecolor\":\"white\",\"showbackground\":true,\"ticks\":\"\",\"zerolinecolor\":\"white\",\"gridwidth\":2}},\"shapedefaults\":{\"line\":{\"color\":\"#2a3f5f\"}},\"annotationdefaults\":{\"arrowcolor\":\"#2a3f5f\",\"arrowhead\":0,\"arrowwidth\":1},\"geo\":{\"bgcolor\":\"white\",\"landcolor\":\"#E5ECF6\",\"subunitcolor\":\"white\",\"showland\":true,\"showlakes\":true,\"lakecolor\":\"white\"},\"title\":{\"x\":0.05},\"mapbox\":{\"style\":\"light\"}}},\"xaxis\":{\"anchor\":\"y\",\"domain\":[0.0,1.0],\"scaleanchor\":\"y\",\"constrain\":\"domain\",\"title\":{\"text\":\"Mapa de Calor de Valores Nulos\"},\"side\":\"top\",\"tickangle\":-90},\"yaxis\":{\"anchor\":\"x\",\"domain\":[0.0,1.0],\"autorange\":\"reversed\",\"constrain\":\"domain\"},\"coloraxis\":{\"colorscale\":[[0.0,\"white\"],[1.0,\"#13678A\"]],\"showscale\":false},\"margin\":{\"t\":60}},                        {\"responsive\": true}                    )                };            </script>        </div>\n",
       "</body>\n",
       "</html>"
      ],
      "text/plain": [
       "<IPython.core.display.HTML object>"
      ]
     },
     "execution_count": 40,
     "metadata": {},
     "output_type": "execute_result"
    }
   ],
   "source": [
    "eda.plot_null_heatmap(df)"
   ]
  },
  {
   "cell_type": "markdown",
   "metadata": {},
   "source": [
    "Guardar el archivo"
   ]
  },
  {
   "cell_type": "code",
   "execution_count": 41,
   "metadata": {},
   "outputs": [],
   "source": [
    "df.to_csv('../../data/raw/Estudiantes_clean.csv', index=False)"
   ]
  }
 ],
 "metadata": {
  "kernelspec": {
   "display_name": "formar-innovar",
   "language": "python",
   "name": "python3"
  },
  "language_info": {
   "codemirror_mode": {
    "name": "ipython",
    "version": 3
   },
   "file_extension": ".py",
   "mimetype": "text/x-python",
   "name": "python",
   "nbconvert_exporter": "python",
   "pygments_lexer": "ipython3",
   "version": "3.10.14"
  }
 },
 "nbformat": 4,
 "nbformat_minor": 2
}
