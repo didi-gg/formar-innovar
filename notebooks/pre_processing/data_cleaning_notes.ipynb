{
 "cells": [
  {
   "cell_type": "markdown",
   "id": "eabf7bb6",
   "metadata": {},
   "source": [
    "# 1.Limpieza y Transformación del Dataset de Calificaciones\n",
    "\n",
    "Este notebook describe el proceso de limpieza y transformación del dataset de calificaciones.\n",
    "\n",
    "El objetivo es garantizar que los datos sean **consistentes, estandarizados, anónimos y útiles** para el análisis posterior y la construcción de modelos de machine learning."
   ]
  },
  {
   "cell_type": "markdown",
   "id": "a1bc732d",
   "metadata": {},
   "source": [
    "## 1.1. Definición de Variables - Dataset de Calificaciones\n",
    "\n",
    "| Variable                  | Descripción                                                                 | Tipo de Dato         |\n",
    "|---------------------------|-----------------------------------------------------------------------------|----------------------|\n",
    "| `Sede`                    | Nombre de la sede o campus donde estudia el estudiante                     | `str` (texto)        |\n",
    "| `Estudiante`              | Nombre completo del estudiante                                              | `str` (texto)        |\n",
    "| `Documento de identidad`  | Identificador único del estudiante                                          | `str` (texto, hasheado) |\n",
    "| `Grado`                   | Grado académico que cursa el estudiante (ej. 1, 2, 3...)                    | `int` (entero)       |\n",
    "| `Grupo`                   | Letra o código del grupo del estudiante dentro del grado                   | `str` (texto)        |\n",
    "| `Periodo`                 | Periodo académico (ej. I, II, III, IV)                                      | `str` (texto)        |\n",
    "| `Año`                     | Año académico                                                               | `int` (entero)       |\n",
    "| `Intensidad Horaria`      | Número de horas dedicadas a la asignatura                                   | `int` (entero)       |\n",
    "| `Asignatura`              | Nombre de la materia evaluada (ej. Matemáticas, Inglés)                    | `str` (texto)        |\n",
    "| `Cognitiva`               | Nota del componente cognitivo (conocimiento teórico)                        | `float` (decimal)    |\n",
    "| `Procedimental`           | Nota del componente procedimental (habilidades prácticas)                   | `float` (decimal)    |\n",
    "| `Actitudinal`             | Nota del componente actitudinal (comportamiento, participación)             | `float` (decimal)    |\n",
    "| `Axiologica`              | Nota del componente axiológico (valores, ética)                             | `float` (decimal)    |\n",
    "| `Docente`                 | Nombre del docente que reporta la calificación                              | `str` (texto)        |\n",
    "| `Resultado`               | Nota final integrada de la asignatura                                       | `float` (decimal)    |\n",
    "| `Nivel`                   | Nivel de desempeño asignado (ej. Bajo, Básico, Alto, Superior)              | `str` (texto)        |\n"
   ]
  },
  {
   "cell_type": "code",
   "execution_count": 1,
   "id": "31405150",
   "metadata": {},
   "outputs": [],
   "source": [
    "import sys\n",
    "import os\n",
    "import pandas as pd\n",
    "from dotenv import load_dotenv\n",
    "load_dotenv()\n",
    "\n",
    "current_dir = os.path.dirname(os.path.abspath('__file__'))\n",
    "project_root = os.path.abspath(os.path.join(current_dir, '..', '..'))\n",
    "if project_root not in sys.path:\n",
    "    sys.path.append(project_root)\n",
    "\n",
    "from scripts.transform.data_cleaning_notes import NotesDataCleaner\n",
    "from scripts.utils.hash_utility import HashUtility"
   ]
  },
  {
   "cell_type": "code",
   "execution_count": 2,
   "id": "2a716c68",
   "metadata": {},
   "outputs": [
    {
     "name": "stdout",
     "output_type": "stream",
     "text": [
      "['__class__', '__delattr__', '__dict__', '__dir__', '__doc__', '__eq__', '__format__', '__ge__', '__getattribute__', '__getstate__', '__gt__', '__hash__', '__init__', '__init_subclass__', '__le__', '__lt__', '__module__', '__ne__', '__new__', '__reduce__', '__reduce_ex__', '__repr__', '__setattr__', '__sizeof__', '__str__', '__subclasshook__', '__weakref__', 'codificar_periodos', 'limpiar_columnas_numericas', 'load_and_clean_data']\n"
     ]
    }
   ],
   "source": [
    "# comprobar que el metodo de limpieza existe\n",
    "# y que se puede importar correctamente\n",
    "from scripts.transform.data_cleaning_notes import NotesDataCleaner\n",
    "print(dir(NotesDataCleaner))"
   ]
  },
  {
   "cell_type": "markdown",
   "id": "ab394236",
   "metadata": {},
   "source": [
    "## 1.2. Carga de dataset de Calificaciones\n",
    "\n",
    "- Cargar fuente original de datos de calificaciones  \n",
    "    - dataset de notas 2021-2022 limpio\n",
    "    - dataset de notas 2023-2025 para limpiar\n"
   ]
  },
  {
   "cell_type": "code",
   "execution_count": 2,
   "id": "9953b7b9",
   "metadata": {},
   "outputs": [
    {
     "data": {
      "text/plain": [
       "'df_2021_2022 = pd.read_csv(\"../../data/raw/calificaciones-clean-2021-2022.csv\")\\n\\ndf_2021_2022.info()\\n# Conteo de valores nulos\\ndf_2021_2022.isnull().sum()\\n'"
      ]
     },
     "execution_count": 2,
     "metadata": {},
     "output_type": "execute_result"
    }
   ],
   "source": [
    "#hacer apend con las notas de los años anteriores\n",
    "\n",
    "'''df_2021_2022 = pd.read_csv(\"../../data/raw/calificaciones-clean-2021-2022.csv\")\n",
    "\n",
    "df_2021_2022.info()\n",
    "# Conteo de valores nulos\n",
    "df_2021_2022.isnull().sum()\n",
    "'''"
   ]
  },
  {
   "cell_type": "code",
   "execution_count": 3,
   "id": "55faca64",
   "metadata": {},
   "outputs": [],
   "source": [
    "## consolidar csv guardados\n",
    "carpeta_pdf = os.path.abspath('../../data/raw/calificaciones')\n",
    "df = pd.DataFrame()\n",
    "for root, _, files in os.walk(carpeta_pdf):\n",
    "    for archivo in files:\n",
    "        if archivo.endswith(\".csv\"):\n",
    "            csv_path = os.path.join(root, archivo)\n",
    "            df_temp = pd.read_csv(csv_path)\n",
    "            df = pd.concat([df, df_temp], ignore_index=True)\n",
    "        \n",
    "df.to_csv(os.path.join(carpeta_pdf, 'calificaciones-raw-2023-2024-2025.csv'), index=False)\n"
   ]
  },
  {
   "cell_type": "code",
   "execution_count": 4,
   "id": "b64a19f3",
   "metadata": {},
   "outputs": [
    {
     "name": "stdout",
     "output_type": "stream",
     "text": [
      "<class 'pandas.core.frame.DataFrame'>\n",
      "RangeIndex: 32676 entries, 0 to 32675\n",
      "Data columns (total 16 columns):\n",
      " #   Column                  Non-Null Count  Dtype  \n",
      "---  ------                  --------------  -----  \n",
      " 0   Sede                    32676 non-null  object \n",
      " 1   Estudiante              32676 non-null  object \n",
      " 2   Documento de identidad  32676 non-null  int64  \n",
      " 3   Grado                   32676 non-null  int64  \n",
      " 4   Grupo                   32676 non-null  object \n",
      " 5   Periodo                 32676 non-null  object \n",
      " 6   Año                     32676 non-null  int64  \n",
      " 7   Intensidad Horaria      32676 non-null  int64  \n",
      " 8   Asignatura              32676 non-null  object \n",
      " 9   Cognitiva               32571 non-null  float64\n",
      " 10  Procedimental           32571 non-null  float64\n",
      " 11  Actitudinal             32676 non-null  object \n",
      " 12  Axiologica              32676 non-null  int64  \n",
      " 13  Docente                 32660 non-null  object \n",
      " 14  Resultado               32676 non-null  int64  \n",
      " 15  Nivel                   32676 non-null  object \n",
      "dtypes: float64(2), int64(6), object(8)\n",
      "memory usage: 4.0+ MB\n"
     ]
    },
    {
     "data": {
      "text/plain": [
       "Sede                        0\n",
       "Estudiante                  0\n",
       "Documento de identidad      0\n",
       "Grado                       0\n",
       "Grupo                       0\n",
       "Periodo                     0\n",
       "Año                         0\n",
       "Intensidad Horaria          0\n",
       "Asignatura                  0\n",
       "Cognitiva                 105\n",
       "Procedimental             105\n",
       "Actitudinal                 0\n",
       "Axiologica                  0\n",
       "Docente                    16\n",
       "Resultado                   0\n",
       "Nivel                       0\n",
       "dtype: int64"
      ]
     },
     "execution_count": 4,
     "metadata": {},
     "output_type": "execute_result"
    }
   ],
   "source": [
    "df_2023_2025 = pd.read_csv(\"../../data/raw/calificaciones/calificaciones-raw-2023-2024-2025.csv\")\n",
    "\n",
    "df_2023_2025.info()\n",
    "# Conteo de valores nulos\n",
    "df_2023_2025.isnull().sum()"
   ]
  },
  {
   "cell_type": "markdown",
   "id": "e9779896",
   "metadata": {},
   "source": [
    "## 1.3. Normalizar nombres de columnas"
   ]
  },
  {
   "cell_type": "code",
   "execution_count": 5,
   "id": "79cef467",
   "metadata": {},
   "outputs": [
    {
     "name": "stdout",
     "output_type": "stream",
     "text": [
      "Index(['Sede', 'Estudiante', 'Documento de identidad', 'Grado', 'Grupo',\n",
      "       'Periodo', 'Año', 'Intensidad Horaria', 'Asignatura', 'Cognitiva',\n",
      "       'Procedimental', 'Actitudinal', 'Axiologica', 'Docente', 'Resultado',\n",
      "       'Nivel'],\n",
      "      dtype='object')\n"
     ]
    }
   ],
   "source": [
    "#imprimir nombres de columnas\n",
    "print(df_2023_2025.columns)\n",
    "##print(df_2021_2022.columns)"
   ]
  },
  {
   "cell_type": "markdown",
   "id": "c9cb71b2",
   "metadata": {},
   "source": [
    "### - Eliminar caracteres especiales y letras de columna\n"
   ]
  },
  {
   "cell_type": "code",
   "execution_count": 6,
   "id": "33eb6a61",
   "metadata": {},
   "outputs": [],
   "source": [
    "cleaner = NotesDataCleaner(df_2023_2025)"
   ]
  },
  {
   "cell_type": "code",
   "execution_count": 7,
   "id": "4816304e",
   "metadata": {},
   "outputs": [
    {
     "name": "stdout",
     "output_type": "stream",
     "text": [
      "Valores modificados por columna:\n",
      "- Actitudinal: 105 valores corregidos\n"
     ]
    }
   ],
   "source": [
    "columnas_a_limpieza = [ \"Actitudinal\"]\n",
    "df_2023_2025 = cleaner.limpiar_columnas_numericas( columnas_a_limpieza)"
   ]
  },
  {
   "cell_type": "code",
   "execution_count": 8,
   "id": "0fa76888",
   "metadata": {},
   "outputs": [
    {
     "name": "stdout",
     "output_type": "stream",
     "text": [
      "<class 'pandas.core.frame.DataFrame'>\n",
      "RangeIndex: 32676 entries, 0 to 32675\n",
      "Data columns (total 16 columns):\n",
      " #   Column                  Non-Null Count  Dtype  \n",
      "---  ------                  --------------  -----  \n",
      " 0   Sede                    32676 non-null  object \n",
      " 1   Estudiante              32676 non-null  object \n",
      " 2   Documento de identidad  32676 non-null  int64  \n",
      " 3   Grado                   32676 non-null  int64  \n",
      " 4   Grupo                   32676 non-null  object \n",
      " 5   Periodo                 32676 non-null  object \n",
      " 6   Año                     32676 non-null  int64  \n",
      " 7   Intensidad Horaria      32676 non-null  int64  \n",
      " 8   Asignatura              32676 non-null  object \n",
      " 9   Cognitiva               32571 non-null  float64\n",
      " 10  Procedimental           32571 non-null  float64\n",
      " 11  Actitudinal             32676 non-null  int64  \n",
      " 12  Axiologica              32676 non-null  int64  \n",
      " 13  Docente                 32660 non-null  object \n",
      " 14  Resultado               32676 non-null  int64  \n",
      " 15  Nivel                   32676 non-null  object \n",
      "dtypes: float64(2), int64(7), object(7)\n",
      "memory usage: 4.0+ MB\n"
     ]
    },
    {
     "data": {
      "text/plain": [
       "Sede                        0\n",
       "Estudiante                  0\n",
       "Documento de identidad      0\n",
       "Grado                       0\n",
       "Grupo                       0\n",
       "Periodo                     0\n",
       "Año                         0\n",
       "Intensidad Horaria          0\n",
       "Asignatura                  0\n",
       "Cognitiva                 105\n",
       "Procedimental             105\n",
       "Actitudinal                 0\n",
       "Axiologica                  0\n",
       "Docente                    16\n",
       "Resultado                   0\n",
       "Nivel                       0\n",
       "dtype: int64"
      ]
     },
     "execution_count": 8,
     "metadata": {},
     "output_type": "execute_result"
    }
   ],
   "source": [
    "df_2023_2025.info()\n",
    "# Conteo de valores nulos\n",
    "df_2023_2025.isnull().sum()"
   ]
  },
  {
   "cell_type": "code",
   "execution_count": 10,
   "id": "db09e500",
   "metadata": {},
   "outputs": [],
   "source": [
    "#cambiar el nombre de la columna \"id\" a \"id_calificacion\"\n",
    "#df_2023_2025.rename(columns={\"Resultado\": \"Prom\"}, inplace=True)\n",
    "\n",
    "df_2023_2025.rename(columns={\"Cognitiva\": \"Cog\"}, inplace=True)\n",
    "df_2023_2025.rename(columns={\"Procedimental\": \"Proc\"}, inplace=True)\n",
    "df_2023_2025.rename(columns={\"Actitudinal\": \"Act\"}, inplace=True)\n",
    "df_2023_2025.rename(columns={\"Axiologica\": \"Axi\"}, inplace=True)\n"
   ]
  },
  {
   "cell_type": "code",
   "execution_count": 11,
   "id": "9ebc9820",
   "metadata": {},
   "outputs": [
    {
     "name": "stdout",
     "output_type": "stream",
     "text": [
      "<class 'pandas.core.frame.DataFrame'>\n",
      "RangeIndex: 32676 entries, 0 to 32675\n",
      "Data columns (total 16 columns):\n",
      " #   Column                  Non-Null Count  Dtype  \n",
      "---  ------                  --------------  -----  \n",
      " 0   Sede                    32676 non-null  object \n",
      " 1   Estudiante              32676 non-null  object \n",
      " 2   Documento de identidad  32676 non-null  int64  \n",
      " 3   Grado                   32676 non-null  int64  \n",
      " 4   Grupo                   32676 non-null  object \n",
      " 5   Periodo                 32676 non-null  object \n",
      " 6   Año                     32676 non-null  int64  \n",
      " 7   Intensidad Horaria      32676 non-null  int64  \n",
      " 8   Asignatura              32676 non-null  object \n",
      " 9   Cog                     32571 non-null  float64\n",
      " 10  Proc                    32571 non-null  float64\n",
      " 11  Act                     32676 non-null  int64  \n",
      " 12  Axi                     32676 non-null  int64  \n",
      " 13  Docente                 32660 non-null  object \n",
      " 14  Resultado               32676 non-null  int64  \n",
      " 15  Nivel                   32676 non-null  object \n",
      "dtypes: float64(2), int64(7), object(7)\n",
      "memory usage: 4.0+ MB\n"
     ]
    },
    {
     "data": {
      "text/plain": [
       "Sede                        0\n",
       "Estudiante                  0\n",
       "Documento de identidad      0\n",
       "Grado                       0\n",
       "Grupo                       0\n",
       "Periodo                     0\n",
       "Año                         0\n",
       "Intensidad Horaria          0\n",
       "Asignatura                  0\n",
       "Cog                       105\n",
       "Proc                      105\n",
       "Act                         0\n",
       "Axi                         0\n",
       "Docente                    16\n",
       "Resultado                   0\n",
       "Nivel                       0\n",
       "dtype: int64"
      ]
     },
     "execution_count": 11,
     "metadata": {},
     "output_type": "execute_result"
    }
   ],
   "source": [
    "df_2023_2025.info()\n",
    "# Conteo de valores nulos       \n",
    "df_2023_2025.isnull().sum()"
   ]
  },
  {
   "cell_type": "markdown",
   "id": "7e1fb2e5",
   "metadata": {},
   "source": [
    "## 1.4. Limpieza de los datos\n",
    "Realiza limpieza básica solo a df_2023_2025 ya que :ese proceso se corrio previamente para df_2021_2022\n",
    "- Quita espacios de nombres de columnas  \n",
    "- Convierte columnas de notas a numérico  \n",
    "- Convierte texto a mayúsculas  "
   ]
  },
  {
   "cell_type": "code",
   "execution_count": 12,
   "id": "52d5cf65",
   "metadata": {},
   "outputs": [
    {
     "name": "stdout",
     "output_type": "stream",
     "text": [
      "<class 'pandas.core.frame.DataFrame'>\n",
      "RangeIndex: 32676 entries, 0 to 32675\n",
      "Data columns (total 16 columns):\n",
      " #   Column                  Non-Null Count  Dtype  \n",
      "---  ------                  --------------  -----  \n",
      " 0   Sede                    32676 non-null  object \n",
      " 1   Estudiante              32676 non-null  object \n",
      " 2   Documento_de_identidad  32676 non-null  int64  \n",
      " 3   Grado                   32676 non-null  object \n",
      " 4   Grupo                   32676 non-null  object \n",
      " 5   Periodo                 32676 non-null  object \n",
      " 6   Año                     32676 non-null  object \n",
      " 7   Intensidad_Horaria      32676 non-null  int64  \n",
      " 8   Asignatura              32676 non-null  object \n",
      " 9   Cog                     32571 non-null  float64\n",
      " 10  Proc                    32571 non-null  float64\n",
      " 11  Act                     32676 non-null  int64  \n",
      " 12  Axi                     32676 non-null  int64  \n",
      " 13  Docente                 32676 non-null  object \n",
      " 14  Resultado               32676 non-null  int64  \n",
      " 15  Nivel                   32676 non-null  object \n",
      "dtypes: float64(2), int64(5), object(9)\n",
      "memory usage: 4.0+ MB\n"
     ]
    },
    {
     "data": {
      "text/plain": [
       "Sede                        0\n",
       "Estudiante                  0\n",
       "Documento_de_identidad      0\n",
       "Grado                       0\n",
       "Grupo                       0\n",
       "Periodo                     0\n",
       "Año                         0\n",
       "Intensidad_Horaria          0\n",
       "Asignatura                  0\n",
       "Cog                       105\n",
       "Proc                      105\n",
       "Act                         0\n",
       "Axi                         0\n",
       "Docente                     0\n",
       "Resultado                   0\n",
       "Nivel                       0\n",
       "dtype: int64"
      ]
     },
     "execution_count": 12,
     "metadata": {},
     "output_type": "execute_result"
    }
   ],
   "source": [
    "\n",
    "df_2023_2025 = cleaner.load_and_clean_data()\n",
    "df_2023_2025.info()\n",
    "df_2023_2025.isnull().sum()"
   ]
  },
  {
   "cell_type": "markdown",
   "id": "c91f871b",
   "metadata": {},
   "source": [
    "## 1.5. Anonimización de los datos\n",
    "\n",
    "Se aplicó **hashing seguro** a las variables sensibles:\n",
    "\n",
    "- `id` se reemplaza con hashing \n",
    "- `Estudiante` (identificador único basado en nombre y sede) y aplica hashing\n",
    "\n",
    "Estas columnas fueron eliminadas posteriormente para preservar la privacidad de los estudiantes.\n",
    "\n",
    "- Se aplica funcion para codificar periodos"
   ]
  },
  {
   "cell_type": "code",
   "execution_count": null,
   "id": "d5c52c6b",
   "metadata": {},
   "outputs": [],
   "source": [
    "# Aplicar hashing al documento de identificación y eliminar la columna original\n",
    "df_2023_2025[\"Identificación\"] = df_2023_2025[\"Documento_de_identidad\"].apply(HashUtility.hash_stable)\n",
    "df_2023_2025.drop(columns=[\"Documento_de_identidad\"], inplace=True)\n",
    "# Aplicar hashing a los nombres y apellidos y eliminar la columna original\n",
    "df_2023_2025[\"Estudiante\"] = df_2023_2025[\"Estudiante\"].replace(\" \", \"\")+df_2023_2025[\"Sede\"].astype(str)\n",
    "df_2023_2025[\"Estudiante\"] = df_2023_2025[\"Estudiante\"].apply(HashUtility.hash_stable)\n",
    "# Mapear Docentes\n",
    "df['Docente'] = df['Docente'].replace('INVESTIGACIÓNNICOLÁS CONTRERAS ANAVE', 'NICOLÁS CONTRERAS ANAVE')\n",
    "\n"
   ]
  },
  {
   "cell_type": "code",
   "execution_count": 14,
   "id": "1673301f",
   "metadata": {},
   "outputs": [],
   "source": [
    "df_2023_2025= cleaner.codificar_periodos(df_2023_2025) "
   ]
  },
  {
   "cell_type": "markdown",
   "id": "8424e523",
   "metadata": {},
   "source": [
    "## 1.6. Unificar todos los dataframes de notas"
   ]
  },
  {
   "cell_type": "code",
   "execution_count": 13,
   "id": "7b7f7ee1",
   "metadata": {},
   "outputs": [],
   "source": [
    "# Concatena los DataFrames\n",
    "## df_append = pd.concat([df_2023_2025, df_2021_2022], ignore_index=True)\n"
   ]
  },
  {
   "cell_type": "code",
   "execution_count": 14,
   "id": "00471fd7",
   "metadata": {},
   "outputs": [],
   "source": [
    "## df_append.info()\n",
    "# Conteo de valores nulos\n",
    "## df_append.isnull().sum()"
   ]
  },
  {
   "cell_type": "code",
   "execution_count": 15,
   "id": "9db9dd51",
   "metadata": {},
   "outputs": [
    {
     "name": "stdout",
     "output_type": "stream",
     "text": [
      "<class 'pandas.core.frame.DataFrame'>\n",
      "Index: 0 entries\n",
      "Data columns (total 16 columns):\n",
      " #   Column              Non-Null Count  Dtype  \n",
      "---  ------              --------------  -----  \n",
      " 0   Sede                0 non-null      object \n",
      " 1   Estudiante          0 non-null      object \n",
      " 2   Grado               0 non-null      object \n",
      " 3   Grupo               0 non-null      object \n",
      " 4   Periodo             0 non-null      object \n",
      " 5   Año                 0 non-null      object \n",
      " 6   Intensidad_Horaria  0 non-null      int64  \n",
      " 7   Asignatura          0 non-null      object \n",
      " 8   Cog                 0 non-null      float64\n",
      " 9   Proc                0 non-null      float64\n",
      " 10  Act                 0 non-null      int64  \n",
      " 11  Axi                 0 non-null      int64  \n",
      " 12  Docente             0 non-null      object \n",
      " 13  Resultado           0 non-null      int64  \n",
      " 14  Nivel               0 non-null      object \n",
      " 15  Identificación      0 non-null      object \n",
      "dtypes: float64(2), int64(4), object(10)\n",
      "memory usage: 0.0+ bytes\n"
     ]
    }
   ],
   "source": [
    "##BORRAR DUPLICADOS\n",
    "duplicados = df_2023_2025[df_2023_2025.duplicated(subset=[\"Estudiante\", \"Identificación\", \"Grado\", \"Grupo\", \"Periodo\", \"Año\", \"Asignatura\"], keep=False)]\n",
    "df_2023_2025.drop_duplicates(subset=[\"Estudiante\", \"Identificación\", \"Grado\", \"Grupo\", \"Periodo\", \"Año\", \"Asignatura\"], keep='first', inplace=True)\n",
    "duplicados.info()\n"
   ]
  },
  {
   "cell_type": "code",
   "execution_count": 16,
   "id": "53d43291",
   "metadata": {},
   "outputs": [
    {
     "name": "stdout",
     "output_type": "stream",
     "text": [
      "<class 'pandas.core.frame.DataFrame'>\n",
      "RangeIndex: 32676 entries, 0 to 32675\n",
      "Data columns (total 16 columns):\n",
      " #   Column              Non-Null Count  Dtype  \n",
      "---  ------              --------------  -----  \n",
      " 0   Sede                32676 non-null  object \n",
      " 1   Estudiante          32676 non-null  object \n",
      " 2   Grado               32676 non-null  object \n",
      " 3   Grupo               32676 non-null  object \n",
      " 4   Periodo             32676 non-null  object \n",
      " 5   Año                 32676 non-null  object \n",
      " 6   Intensidad_Horaria  32676 non-null  int64  \n",
      " 7   Asignatura          32676 non-null  object \n",
      " 8   Cog                 32571 non-null  float64\n",
      " 9   Proc                32571 non-null  float64\n",
      " 10  Act                 32676 non-null  int64  \n",
      " 11  Axi                 32676 non-null  int64  \n",
      " 12  Docente             32676 non-null  object \n",
      " 13  Resultado           32676 non-null  int64  \n",
      " 14  Nivel               32676 non-null  object \n",
      " 15  Identificación      32676 non-null  object \n",
      "dtypes: float64(2), int64(4), object(10)\n",
      "memory usage: 4.0+ MB\n"
     ]
    },
    {
     "data": {
      "text/plain": [
       "Sede                    0\n",
       "Estudiante              0\n",
       "Grado                   0\n",
       "Grupo                   0\n",
       "Periodo                 0\n",
       "Año                     0\n",
       "Intensidad_Horaria      0\n",
       "Asignatura              0\n",
       "Cog                   105\n",
       "Proc                  105\n",
       "Act                     0\n",
       "Axi                     0\n",
       "Docente                 0\n",
       "Resultado               0\n",
       "Nivel                   0\n",
       "Identificación          0\n",
       "dtype: int64"
      ]
     },
     "execution_count": 16,
     "metadata": {},
     "output_type": "execute_result"
    }
   ],
   "source": [
    "df_2023_2025.info()\n",
    "# Conteo de valores nulos\n",
    "df_2023_2025.isnull().sum()\n"
   ]
  },
  {
   "cell_type": "code",
   "execution_count": 17,
   "id": "e3bac9a4",
   "metadata": {},
   "outputs": [
    {
     "data": {
      "text/html": [
       "<div>\n",
       "<style scoped>\n",
       "    .dataframe tbody tr th:only-of-type {\n",
       "        vertical-align: middle;\n",
       "    }\n",
       "\n",
       "    .dataframe tbody tr th {\n",
       "        vertical-align: top;\n",
       "    }\n",
       "\n",
       "    .dataframe thead th {\n",
       "        text-align: right;\n",
       "    }\n",
       "</style>\n",
       "<table border=\"1\" class=\"dataframe\">\n",
       "  <thead>\n",
       "    <tr style=\"text-align: right;\">\n",
       "      <th></th>\n",
       "      <th>Sede</th>\n",
       "      <th>Estudiante</th>\n",
       "      <th>Grado</th>\n",
       "      <th>Grupo</th>\n",
       "      <th>Periodo</th>\n",
       "      <th>Año</th>\n",
       "      <th>Intensidad_Horaria</th>\n",
       "      <th>Asignatura</th>\n",
       "      <th>Cog</th>\n",
       "      <th>Proc</th>\n",
       "      <th>Act</th>\n",
       "      <th>Axi</th>\n",
       "      <th>Docente</th>\n",
       "      <th>Resultado</th>\n",
       "      <th>Nivel</th>\n",
       "      <th>Identificación</th>\n",
       "    </tr>\n",
       "  </thead>\n",
       "  <tbody>\n",
       "    <tr>\n",
       "      <th>5321</th>\n",
       "      <td>FUSAGASUGÁ</td>\n",
       "      <td>8cf0fb07aadef5177adbf880eb6ca8e54788743edbd887...</td>\n",
       "      <td>2</td>\n",
       "      <td>A</td>\n",
       "      <td>1</td>\n",
       "      <td>2023</td>\n",
       "      <td>1</td>\n",
       "      <td>ARTES</td>\n",
       "      <td>84.0</td>\n",
       "      <td>84.0</td>\n",
       "      <td>90</td>\n",
       "      <td>80</td>\n",
       "      <td>SANDRA SANTISTEBAN OSTOS</td>\n",
       "      <td>85</td>\n",
       "      <td>ALTO</td>\n",
       "      <td>82958b72de4fa0a2367c63e25a7c3786fd4d6370678f47...</td>\n",
       "    </tr>\n",
       "    <tr>\n",
       "      <th>16988</th>\n",
       "      <td>FUSAGASUGÁ</td>\n",
       "      <td>72f8badcfeab59cc212a41ceb4ea6b843f552c035b3008...</td>\n",
       "      <td>1</td>\n",
       "      <td>A</td>\n",
       "      <td>2</td>\n",
       "      <td>2024</td>\n",
       "      <td>3</td>\n",
       "      <td>CIENCIAS SOCIALES</td>\n",
       "      <td>93.0</td>\n",
       "      <td>93.0</td>\n",
       "      <td>93</td>\n",
       "      <td>94</td>\n",
       "      <td>JIMENA GÓMEZ ARÉVALO</td>\n",
       "      <td>93</td>\n",
       "      <td>ALTO</td>\n",
       "      <td>4f5975d3d87715276f1500db20f5febb50583de862b26a...</td>\n",
       "    </tr>\n",
       "    <tr>\n",
       "      <th>25737</th>\n",
       "      <td>GIRARDOT</td>\n",
       "      <td>9c0704dcdaea28fd7fd4e92c792f09a5147d6bdd6a9cd0...</td>\n",
       "      <td>5</td>\n",
       "      <td>A</td>\n",
       "      <td>2</td>\n",
       "      <td>2024</td>\n",
       "      <td>3</td>\n",
       "      <td>LENGUA CASTELLANA</td>\n",
       "      <td>77.0</td>\n",
       "      <td>78.0</td>\n",
       "      <td>87</td>\n",
       "      <td>87</td>\n",
       "      <td>VALENTINA SARABIA VARGAS</td>\n",
       "      <td>80</td>\n",
       "      <td>ALTO</td>\n",
       "      <td>d529e142c0a86bc3311b2efcb6206465530d74aa80de42...</td>\n",
       "    </tr>\n",
       "    <tr>\n",
       "      <th>26876</th>\n",
       "      <td>GIRARDOT</td>\n",
       "      <td>8e59eb14e486acf1c624acc4aea530c7007d4d81f1967c...</td>\n",
       "      <td>3</td>\n",
       "      <td>A</td>\n",
       "      <td>1</td>\n",
       "      <td>2024</td>\n",
       "      <td>3</td>\n",
       "      <td>LENGUA CASTELLANA</td>\n",
       "      <td>74.0</td>\n",
       "      <td>73.0</td>\n",
       "      <td>90</td>\n",
       "      <td>96</td>\n",
       "      <td>PILAR RODRÍGUEZ ISAZA</td>\n",
       "      <td>80</td>\n",
       "      <td>ALTO</td>\n",
       "      <td>65f0e53fa2b06691cacb4361307df1bbd242e9c0fe98bb...</td>\n",
       "    </tr>\n",
       "    <tr>\n",
       "      <th>30007</th>\n",
       "      <td>FUSAGASUGÁ</td>\n",
       "      <td>e88b9c444406cb0e41d00ef3cd6de1379ab094434d396c...</td>\n",
       "      <td>3</td>\n",
       "      <td>A</td>\n",
       "      <td>1</td>\n",
       "      <td>2025</td>\n",
       "      <td>3</td>\n",
       "      <td>EDUCACIÓN FÍSICA</td>\n",
       "      <td>94.0</td>\n",
       "      <td>94.0</td>\n",
       "      <td>95</td>\n",
       "      <td>98</td>\n",
       "      <td>STEVEN BARRERO BUITRAGO</td>\n",
       "      <td>94</td>\n",
       "      <td>ALTO</td>\n",
       "      <td>b6f6f0de1cb6006c0c5ab9b2dc5c22cdd1a44ea999b8e2...</td>\n",
       "    </tr>\n",
       "  </tbody>\n",
       "</table>\n",
       "</div>"
      ],
      "text/plain": [
       "             Sede                                         Estudiante Grado  \\\n",
       "5321   FUSAGASUGÁ  8cf0fb07aadef5177adbf880eb6ca8e54788743edbd887...     2   \n",
       "16988  FUSAGASUGÁ  72f8badcfeab59cc212a41ceb4ea6b843f552c035b3008...     1   \n",
       "25737    GIRARDOT  9c0704dcdaea28fd7fd4e92c792f09a5147d6bdd6a9cd0...     5   \n",
       "26876    GIRARDOT  8e59eb14e486acf1c624acc4aea530c7007d4d81f1967c...     3   \n",
       "30007  FUSAGASUGÁ  e88b9c444406cb0e41d00ef3cd6de1379ab094434d396c...     3   \n",
       "\n",
       "      Grupo Periodo   Año  Intensidad_Horaria         Asignatura   Cog  Proc  \\\n",
       "5321      A       1  2023                   1              ARTES  84.0  84.0   \n",
       "16988     A       2  2024                   3  CIENCIAS SOCIALES  93.0  93.0   \n",
       "25737     A       2  2024                   3  LENGUA CASTELLANA  77.0  78.0   \n",
       "26876     A       1  2024                   3  LENGUA CASTELLANA  74.0  73.0   \n",
       "30007     A       1  2025                   3   EDUCACIÓN FÍSICA  94.0  94.0   \n",
       "\n",
       "       Act  Axi                   Docente  Resultado Nivel  \\\n",
       "5321    90   80  SANDRA SANTISTEBAN OSTOS         85  ALTO   \n",
       "16988   93   94      JIMENA GÓMEZ ARÉVALO         93  ALTO   \n",
       "25737   87   87  VALENTINA SARABIA VARGAS         80  ALTO   \n",
       "26876   90   96     PILAR RODRÍGUEZ ISAZA         80  ALTO   \n",
       "30007   95   98   STEVEN BARRERO BUITRAGO         94  ALTO   \n",
       "\n",
       "                                          Identificación  \n",
       "5321   82958b72de4fa0a2367c63e25a7c3786fd4d6370678f47...  \n",
       "16988  4f5975d3d87715276f1500db20f5febb50583de862b26a...  \n",
       "25737  d529e142c0a86bc3311b2efcb6206465530d74aa80de42...  \n",
       "26876  65f0e53fa2b06691cacb4361307df1bbd242e9c0fe98bb...  \n",
       "30007  b6f6f0de1cb6006c0c5ab9b2dc5c22cdd1a44ea999b8e2...  "
      ]
     },
     "execution_count": 17,
     "metadata": {},
     "output_type": "execute_result"
    }
   ],
   "source": [
    "df_2023_2025.sample(5)"
   ]
  },
  {
   "cell_type": "code",
   "execution_count": 18,
   "id": "77ae59d1",
   "metadata": {},
   "outputs": [],
   "source": [
    "#reemplace nombres de valores de asignaturas\n",
    "df_2023_2025[\"Asignatura\"] = df_2023_2025[\"Asignatura\"].replace({\n",
    "    \"ENGLISH\": \"INGLÉS\",\n",
    "    \"FRANÇAIS\": \"FRANCÉS\"})\n"
   ]
  },
  {
   "cell_type": "code",
   "execution_count": 19,
   "id": "3767b0cc",
   "metadata": {},
   "outputs": [
    {
     "data": {
      "text/plain": [
       "Sede                    0\n",
       "Estudiante              0\n",
       "Grado                   0\n",
       "Grupo                   0\n",
       "Periodo                 0\n",
       "Año                     0\n",
       "Intensidad_Horaria      0\n",
       "Asignatura              0\n",
       "Cog                   105\n",
       "Proc                  105\n",
       "Act                     0\n",
       "Axi                     0\n",
       "Docente                 0\n",
       "Resultado               0\n",
       "Nivel                   0\n",
       "Identificación          0\n",
       "dtype: int64"
      ]
     },
     "execution_count": 19,
     "metadata": {},
     "output_type": "execute_result"
    }
   ],
   "source": [
    "df\n",
    "df_2023_2025.isnull().sum()"
   ]
  },
  {
   "cell_type": "code",
   "execution_count": 20,
   "id": "b154ebce",
   "metadata": {},
   "outputs": [],
   "source": [
    "df_2023_2025.to_csv(\"../../data/processed/data_clean_notes_2023_2025.csv\", index=False)"
   ]
  }
 ],
 "metadata": {
  "kernelspec": {
   "display_name": "Python 3",
   "language": "python",
   "name": "python3"
  },
  "language_info": {
   "codemirror_mode": {
    "name": "ipython",
    "version": 3
   },
   "file_extension": ".py",
   "mimetype": "text/x-python",
   "name": "python",
   "nbconvert_exporter": "python",
   "pygments_lexer": "ipython3",
   "version": "3.12.4"
  }
 },
 "nbformat": 4,
 "nbformat_minor": 5
}
