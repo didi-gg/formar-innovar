{
 "cells": [
  {
   "cell_type": "markdown",
   "id": "eabf7bb6",
   "metadata": {},
   "source": [
    "# 1.Limpieza y Transformación del Dataset de Calificaciones\n",
    "\n",
    "Este notebook describe el proceso de limpieza y transformación del dataset de calificaciones.\n",
    "\n",
    "El objetivo es garantizar que los datos sean **consistentes, estandarizados, anónimos y útiles** para el análisis posterior y la construcción de modelos de machine learning."
   ]
  },
  {
   "cell_type": "markdown",
   "id": "a1bc732d",
   "metadata": {},
   "source": [
    "## 1.1. Definición de Variables - Dataset de Calificaciones\n",
    "\n",
    "| Variable                  | Descripción                                                                 | Tipo de Dato         |\n",
    "|---------------------------|-----------------------------------------------------------------------------|----------------------|\n",
    "| `Sede`                    | Nombre de la sede o campus donde estudia el estudiante                     | `str` (texto)        |\n",
    "| `Estudiante`              | Nombre completo del estudiante                                              | `str` (texto)        |\n",
    "| `Documento de identidad`  | Identificador único del estudiante                                          | `str` (texto, hasheado) |\n",
    "| `Grado`                   | Grado académico que cursa el estudiante (ej. 1, 2, 3...)                    | `int` (entero)       |\n",
    "| `Grupo`                   | Letra o código del grupo del estudiante dentro del grado                   | `str` (texto)        |\n",
    "| `Periodo`                 | Periodo académico (ej. I, II, III, IV)                                      | `str` (texto)        |\n",
    "| `Año`                     | Año académico                                                               | `int` (entero)       |\n",
    "| `Intensidad Horaria`      | Número de horas dedicadas a la asignatura                                   | `int` (entero)       |\n",
    "| `Asignatura`              | Nombre de la materia evaluada (ej. Matemáticas, Inglés)                    | `str` (texto)        |\n",
    "| `Cognitiva`               | Nota del componente cognitivo (conocimiento teórico)                        | `float` (decimal)    |\n",
    "| `Procedimental`           | Nota del componente procedimental (habilidades prácticas)                   | `float` (decimal)    |\n",
    "| `Actitudinal`             | Nota del componente actitudinal (comportamiento, participación)             | `float` (decimal)    |\n",
    "| `Axiologica`              | Nota del componente axiológico (valores, ética)                             | `float` (decimal)    |\n",
    "| `Docente`                 | Nombre del docente que reporta la calificación                              | `str` (texto)        |\n",
    "| `Resultado`               | Nota final integrada de la asignatura                                       | `float` (decimal)    |\n",
    "| `Nivel`                   | Nivel de desempeño asignado (ej. Bajo, Básico, Alto, Superior)              | `str` (texto)        |\n"
   ]
  },
  {
   "cell_type": "code",
   "execution_count": 1,
   "id": "31405150",
   "metadata": {},
   "outputs": [],
   "source": [
    "import sys\n",
    "import os\n",
    "import pandas as pd\n",
    "from dotenv import load_dotenv\n",
    "load_dotenv()\n",
    "\n",
    "current_dir = os.path.dirname(os.path.abspath('__file__'))\n",
    "project_root = os.path.abspath(os.path.join(current_dir, '..', '..'))\n",
    "if project_root not in sys.path:\n",
    "    sys.path.append(project_root)\n",
    "\n",
    "from scripts.transform.data_cleaning_notes import NotesDataCleaner\n",
    "from scripts.utils.hash_utility import HashUtility"
   ]
  },
  {
   "cell_type": "markdown",
   "id": "ab394236",
   "metadata": {},
   "source": [
    "## 1.2. Carga de dataset de Calificaciones\n",
    "\n",
    "Cargar fuente original de datos de calificaciones\n"
   ]
  },
  {
   "cell_type": "code",
   "execution_count": 2,
   "id": "b64a19f3",
   "metadata": {},
   "outputs": [],
   "source": [
    "df = pd.read_csv(\"../../data/raw/calificaciones-raw-2023-2024-2025.csv\")"
   ]
  },
  {
   "cell_type": "code",
   "execution_count": 3,
   "id": "00471fd7",
   "metadata": {},
   "outputs": [
    {
     "name": "stdout",
     "output_type": "stream",
     "text": [
      "<class 'pandas.core.frame.DataFrame'>\n",
      "RangeIndex: 32681 entries, 0 to 32680\n",
      "Data columns (total 16 columns):\n",
      " #   Column                  Non-Null Count  Dtype \n",
      "---  ------                  --------------  ----- \n",
      " 0   Sede                    32681 non-null  object\n",
      " 1   Estudiante              32681 non-null  object\n",
      " 2   Documento de identidad  32681 non-null  int64 \n",
      " 3   Grado                   32681 non-null  int64 \n",
      " 4   Grupo                   32681 non-null  object\n",
      " 5   Periodo                 32681 non-null  object\n",
      " 6   Año                     32681 non-null  int64 \n",
      " 7   Intensidad Horaria      32681 non-null  int64 \n",
      " 8   Asignatura              32681 non-null  object\n",
      " 9   Cognitiva               32681 non-null  int64 \n",
      " 10  Procedimental           32681 non-null  int64 \n",
      " 11  Actitudinal             32681 non-null  int64 \n",
      " 12  Axiologica              32681 non-null  int64 \n",
      " 13  Docente                 32681 non-null  object\n",
      " 14  Resultado               32681 non-null  int64 \n",
      " 15  Nivel                   32681 non-null  object\n",
      "dtypes: int64(9), object(7)\n",
      "memory usage: 4.0+ MB\n"
     ]
    },
    {
     "data": {
      "text/plain": [
       "Sede                      0\n",
       "Estudiante                0\n",
       "Documento de identidad    0\n",
       "Grado                     0\n",
       "Grupo                     0\n",
       "Periodo                   0\n",
       "Año                       0\n",
       "Intensidad Horaria        0\n",
       "Asignatura                0\n",
       "Cognitiva                 0\n",
       "Procedimental             0\n",
       "Actitudinal               0\n",
       "Axiologica                0\n",
       "Docente                   0\n",
       "Resultado                 0\n",
       "Nivel                     0\n",
       "dtype: int64"
      ]
     },
     "execution_count": 3,
     "metadata": {},
     "output_type": "execute_result"
    }
   ],
   "source": [
    "df.info()\n",
    "# Conteo de valores nulos\n",
    "df.isnull().sum()"
   ]
  },
  {
   "cell_type": "markdown",
   "id": "7e1fb2e5",
   "metadata": {},
   "source": [
    "## 1.3. Limpieza de los datos\n",
    "Realiza limpieza básica:  \n",
    "- Quita espacios de nombres de columnas  \n",
    "- Convierte columnas de notas a numérico  \n",
    "- Convierte texto a mayúsculas  "
   ]
  },
  {
   "cell_type": "code",
   "execution_count": 4,
   "id": "2a716c68",
   "metadata": {},
   "outputs": [
    {
     "name": "stdout",
     "output_type": "stream",
     "text": [
      "['__class__', '__delattr__', '__dict__', '__dir__', '__doc__', '__eq__', '__format__', '__ge__', '__getattribute__', '__getstate__', '__gt__', '__hash__', '__init__', '__init_subclass__', '__le__', '__lt__', '__module__', '__ne__', '__new__', '__reduce__', '__reduce_ex__', '__repr__', '__setattr__', '__sizeof__', '__str__', '__subclasshook__', '__weakref__', 'codificar_periodos', 'load_and_clean_data']\n"
     ]
    }
   ],
   "source": [
    "# comprobar que el metodo de limpieza existe\n",
    "# y que se puede importar correctamente\n",
    "from scripts.transform.data_cleaning_notes import NotesDataCleaner\n",
    "print(dir(NotesDataCleaner))"
   ]
  },
  {
   "cell_type": "code",
   "execution_count": 5,
   "id": "52d5cf65",
   "metadata": {},
   "outputs": [
    {
     "name": "stdout",
     "output_type": "stream",
     "text": [
      "<class 'pandas.core.frame.DataFrame'>\n",
      "RangeIndex: 32681 entries, 0 to 32680\n",
      "Data columns (total 16 columns):\n",
      " #   Column                  Non-Null Count  Dtype \n",
      "---  ------                  --------------  ----- \n",
      " 0   Sede                    32681 non-null  object\n",
      " 1   Estudiante              32681 non-null  object\n",
      " 2   Documento_de_identidad  32681 non-null  object\n",
      " 3   Grado                   32681 non-null  object\n",
      " 4   Grupo                   32681 non-null  object\n",
      " 5   Periodo                 32681 non-null  object\n",
      " 6   Año                     32681 non-null  object\n",
      " 7   Intensidad_Horaria      32681 non-null  int64 \n",
      " 8   Asignatura              32681 non-null  object\n",
      " 9   Cognitiva               32681 non-null  int64 \n",
      " 10  Procedimental           32681 non-null  int64 \n",
      " 11  Actitudinal             32681 non-null  int64 \n",
      " 12  Axiologica              32681 non-null  int64 \n",
      " 13  Docente                 32681 non-null  object\n",
      " 14  Resultado               32681 non-null  int64 \n",
      " 15  Nivel                   32681 non-null  object\n",
      "dtypes: int64(6), object(10)\n",
      "memory usage: 4.0+ MB\n"
     ]
    },
    {
     "data": {
      "text/plain": [
       "Sede                      0\n",
       "Estudiante                0\n",
       "Documento_de_identidad    0\n",
       "Grado                     0\n",
       "Grupo                     0\n",
       "Periodo                   0\n",
       "Año                       0\n",
       "Intensidad_Horaria        0\n",
       "Asignatura                0\n",
       "Cognitiva                 0\n",
       "Procedimental             0\n",
       "Actitudinal               0\n",
       "Axiologica                0\n",
       "Docente                   0\n",
       "Resultado                 0\n",
       "Nivel                     0\n",
       "dtype: int64"
      ]
     },
     "execution_count": 5,
     "metadata": {},
     "output_type": "execute_result"
    }
   ],
   "source": [
    "cleaner = NotesDataCleaner(df)\n",
    "df_limpio = cleaner.load_and_clean_data()\n",
    "df_limpio.info()\n",
    "df_limpio.isnull().sum()"
   ]
  },
  {
   "cell_type": "markdown",
   "id": "7791cc4b",
   "metadata": {},
   "source": [
    "## 1.4. Anonimización de los datos\n",
    "\n",
    "Se aplicó **hashing seguro** a las variables sensibles:\n",
    "\n",
    "- `Documento_de_identidad` se reemplaza luego de hashing por 'Identificacion'\n",
    "- `Estudiante` (identificador único basado en nombre y sede) y aplica hashing\n",
    "\n",
    "Estas columnas fueron eliminadas posteriormente para preservar la privacidad de los estudiantes.\n",
    "\n",
    "- Se aplica funcion para codificar periodos"
   ]
  },
  {
   "cell_type": "code",
   "execution_count": 6,
   "id": "d5c52c6b",
   "metadata": {},
   "outputs": [],
   "source": [
    "# Aplicar hashing al documento de identificación y eliminar la columna original\n",
    "df_limpio[\"Identificacion\"] = df_limpio[\"Documento_de_identidad\"].apply(HashUtility.hash_stable)\n",
    "\n",
    "# Aplicar hashing a los nombres y apellidos y eliminar la columna original\n",
    "df_limpio[\"Estudiante\"] = df_limpio[\"Estudiante\"].replace(\" \", \"\")+df_limpio[\"Sede\"].astype(str)\n",
    "df_limpio[\"Estudiante\"] = df_limpio[\"Estudiante\"].apply(HashUtility.hash_stable)\n",
    "df_limpio.drop(columns=[\"Documento_de_identidad\"], inplace=True)\n"
   ]
  },
  {
   "cell_type": "code",
   "execution_count": 7,
   "id": "1673301f",
   "metadata": {},
   "outputs": [],
   "source": [
    "df_limpio= cleaner.codificar_periodos(df_limpio) "
   ]
  },
  {
   "cell_type": "code",
   "execution_count": 8,
   "id": "e3bac9a4",
   "metadata": {},
   "outputs": [
    {
     "data": {
      "text/html": [
       "<div>\n",
       "<style scoped>\n",
       "    .dataframe tbody tr th:only-of-type {\n",
       "        vertical-align: middle;\n",
       "    }\n",
       "\n",
       "    .dataframe tbody tr th {\n",
       "        vertical-align: top;\n",
       "    }\n",
       "\n",
       "    .dataframe thead th {\n",
       "        text-align: right;\n",
       "    }\n",
       "</style>\n",
       "<table border=\"1\" class=\"dataframe\">\n",
       "  <thead>\n",
       "    <tr style=\"text-align: right;\">\n",
       "      <th></th>\n",
       "      <th>Sede</th>\n",
       "      <th>Estudiante</th>\n",
       "      <th>Grado</th>\n",
       "      <th>Grupo</th>\n",
       "      <th>Periodo</th>\n",
       "      <th>Año</th>\n",
       "      <th>Intensidad_Horaria</th>\n",
       "      <th>Asignatura</th>\n",
       "      <th>Cognitiva</th>\n",
       "      <th>Procedimental</th>\n",
       "      <th>Actitudinal</th>\n",
       "      <th>Axiologica</th>\n",
       "      <th>Docente</th>\n",
       "      <th>Resultado</th>\n",
       "      <th>Nivel</th>\n",
       "      <th>Identificacion</th>\n",
       "    </tr>\n",
       "  </thead>\n",
       "  <tbody>\n",
       "    <tr>\n",
       "      <th>1929</th>\n",
       "      <td>FUSAGASUGÁ</td>\n",
       "      <td>2d153c45c903ca7b97e2059bacf8226605e9e1c6991bb0...</td>\n",
       "      <td>7</td>\n",
       "      <td>A</td>\n",
       "      <td>3</td>\n",
       "      <td>2023</td>\n",
       "      <td>1</td>\n",
       "      <td>ARTES</td>\n",
       "      <td>92</td>\n",
       "      <td>92</td>\n",
       "      <td>80</td>\n",
       "      <td>95</td>\n",
       "      <td>SANDRA SANTISTEBAN OSTOS</td>\n",
       "      <td>90</td>\n",
       "      <td>ALTO</td>\n",
       "      <td>86dd6a3b1244d86ead1d62d74662214173aa988b3799bc...</td>\n",
       "    </tr>\n",
       "    <tr>\n",
       "      <th>10823</th>\n",
       "      <td>GIRARDOT</td>\n",
       "      <td>e0e4aa62f72e975b6fa93b86ffc7fada60a821109e7a7b...</td>\n",
       "      <td>6</td>\n",
       "      <td>A</td>\n",
       "      <td>3</td>\n",
       "      <td>2023</td>\n",
       "      <td>2</td>\n",
       "      <td>LECTURA CRÍTICA</td>\n",
       "      <td>83</td>\n",
       "      <td>83</td>\n",
       "      <td>80</td>\n",
       "      <td>86</td>\n",
       "      <td>VALENTINA SARABIA VARGAS</td>\n",
       "      <td>83</td>\n",
       "      <td>ALTO</td>\n",
       "      <td>615a5329a84e561ba1f1b51c0d8bf7b5064d517d9989a0...</td>\n",
       "    </tr>\n",
       "    <tr>\n",
       "      <th>5037</th>\n",
       "      <td>FUSAGASUGÁ</td>\n",
       "      <td>45c77601c962007a4c1b9656b6e9f9f58e50df36682ac7...</td>\n",
       "      <td>1</td>\n",
       "      <td>B</td>\n",
       "      <td>1</td>\n",
       "      <td>2023</td>\n",
       "      <td>5</td>\n",
       "      <td>MATEMÁTICAS</td>\n",
       "      <td>86</td>\n",
       "      <td>87</td>\n",
       "      <td>90</td>\n",
       "      <td>91</td>\n",
       "      <td>TATIANA GONZÁLEZ MORENO</td>\n",
       "      <td>87</td>\n",
       "      <td>ALTO</td>\n",
       "      <td>52fca00601a459f83487aa43ec2ddb401a3d79edc17e41...</td>\n",
       "    </tr>\n",
       "    <tr>\n",
       "      <th>801</th>\n",
       "      <td>FUSAGASUGÁ</td>\n",
       "      <td>8c95cfa1c74bb292b1d2a49fa907ce5b96f0efb6241577...</td>\n",
       "      <td>3</td>\n",
       "      <td>A</td>\n",
       "      <td>3</td>\n",
       "      <td>2023</td>\n",
       "      <td>3</td>\n",
       "      <td>EDUCACIÓN FÍSICA</td>\n",
       "      <td>96</td>\n",
       "      <td>96</td>\n",
       "      <td>100</td>\n",
       "      <td>100</td>\n",
       "      <td>STEVEN BARRERO BUITRAGO</td>\n",
       "      <td>97</td>\n",
       "      <td>SUPERIOR</td>\n",
       "      <td>027a0fbd79f37997ede4b9315d858a9cd3d9f4fdf345ac...</td>\n",
       "    </tr>\n",
       "    <tr>\n",
       "      <th>30371</th>\n",
       "      <td>FUSAGASUGÁ</td>\n",
       "      <td>7b64cc25ff8446bf1ab014106b133aa4a2824e6018900f...</td>\n",
       "      <td>5</td>\n",
       "      <td>A</td>\n",
       "      <td>1</td>\n",
       "      <td>2025</td>\n",
       "      <td>1</td>\n",
       "      <td>INTEGRALIDAD</td>\n",
       "      <td>83</td>\n",
       "      <td>83</td>\n",
       "      <td>80</td>\n",
       "      <td>88</td>\n",
       "      <td>CAROLINA BORDA FLECHAS</td>\n",
       "      <td>83</td>\n",
       "      <td>ALTO</td>\n",
       "      <td>ec1e60fb1a01bc9f580d69ba2a1eab6b1d560c866f1c88...</td>\n",
       "    </tr>\n",
       "  </tbody>\n",
       "</table>\n",
       "</div>"
      ],
      "text/plain": [
       "             Sede                                         Estudiante Grado  \\\n",
       "1929   FUSAGASUGÁ  2d153c45c903ca7b97e2059bacf8226605e9e1c6991bb0...     7   \n",
       "10823    GIRARDOT  e0e4aa62f72e975b6fa93b86ffc7fada60a821109e7a7b...     6   \n",
       "5037   FUSAGASUGÁ  45c77601c962007a4c1b9656b6e9f9f58e50df36682ac7...     1   \n",
       "801    FUSAGASUGÁ  8c95cfa1c74bb292b1d2a49fa907ce5b96f0efb6241577...     3   \n",
       "30371  FUSAGASUGÁ  7b64cc25ff8446bf1ab014106b133aa4a2824e6018900f...     5   \n",
       "\n",
       "      Grupo Periodo   Año  Intensidad_Horaria        Asignatura  Cognitiva  \\\n",
       "1929      A       3  2023                   1             ARTES         92   \n",
       "10823     A       3  2023                   2   LECTURA CRÍTICA         83   \n",
       "5037      B       1  2023                   5       MATEMÁTICAS         86   \n",
       "801       A       3  2023                   3  EDUCACIÓN FÍSICA         96   \n",
       "30371     A       1  2025                   1      INTEGRALIDAD         83   \n",
       "\n",
       "       Procedimental  Actitudinal  Axiologica                   Docente  \\\n",
       "1929              92           80          95  SANDRA SANTISTEBAN OSTOS   \n",
       "10823             83           80          86  VALENTINA SARABIA VARGAS   \n",
       "5037              87           90          91   TATIANA GONZÁLEZ MORENO   \n",
       "801               96          100         100   STEVEN BARRERO BUITRAGO   \n",
       "30371             83           80          88    CAROLINA BORDA FLECHAS   \n",
       "\n",
       "       Resultado     Nivel                                     Identificacion  \n",
       "1929          90      ALTO  86dd6a3b1244d86ead1d62d74662214173aa988b3799bc...  \n",
       "10823         83      ALTO  615a5329a84e561ba1f1b51c0d8bf7b5064d517d9989a0...  \n",
       "5037          87      ALTO  52fca00601a459f83487aa43ec2ddb401a3d79edc17e41...  \n",
       "801           97  SUPERIOR  027a0fbd79f37997ede4b9315d858a9cd3d9f4fdf345ac...  \n",
       "30371         83      ALTO  ec1e60fb1a01bc9f580d69ba2a1eab6b1d560c866f1c88...  "
      ]
     },
     "execution_count": 8,
     "metadata": {},
     "output_type": "execute_result"
    }
   ],
   "source": [
    "df_limpio.sample(5)"
   ]
  },
  {
   "cell_type": "code",
   "execution_count": 9,
   "id": "b154ebce",
   "metadata": {},
   "outputs": [],
   "source": [
    "df_limpio.to_csv(\"../../data/processed/data_clean_notes_2023_2024_2025.csv\", index=False)"
   ]
  }
 ],
 "metadata": {
  "kernelspec": {
   "display_name": "Python 3",
   "language": "python",
   "name": "python3"
  },
  "language_info": {
   "codemirror_mode": {
    "name": "ipython",
    "version": 3
   },
   "file_extension": ".py",
   "mimetype": "text/x-python",
   "name": "python",
   "nbconvert_exporter": "python",
   "pygments_lexer": "ipython3",
   "version": "3.12.4"
  }
 },
 "nbformat": 4,
 "nbformat_minor": 5
}
