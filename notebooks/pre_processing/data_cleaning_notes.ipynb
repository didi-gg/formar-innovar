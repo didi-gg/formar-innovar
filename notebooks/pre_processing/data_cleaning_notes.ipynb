{
 "cells": [
  {
   "cell_type": "markdown",
   "id": "eabf7bb6",
   "metadata": {},
   "source": [
    "# 1.Limpieza y Transformación del Dataset de Calificaciones\n",
    "\n",
    "Este notebook describe el proceso de limpieza y transformación del dataset de calificaciones.\n",
    "\n",
    "El objetivo es garantizar que los datos sean **consistentes, estandarizados, anónimos y útiles** para el análisis posterior y la construcción de modelos de machine learning."
   ]
  },
  {
   "cell_type": "markdown",
   "id": "a1bc732d",
   "metadata": {},
   "source": [
    "## 1.1. Definición de Variables - Dataset de Calificaciones\n",
    "\n",
    "| Variable                  | Descripción                                                                 | Tipo de Dato         |\n",
    "|---------------------------|-----------------------------------------------------------------------------|----------------------|\n",
    "| `Sede`                    | Nombre de la sede o campus donde estudia el estudiante                     | `str` (texto)        |\n",
    "| `Estudiante`              | Nombre completo del estudiante                                              | `str` (texto)        |\n",
    "| `Documento de identidad`  | Identificador único del estudiante                                          | `str` (texto, hasheado) |\n",
    "| `Grado`                   | Grado académico que cursa el estudiante (ej. 1, 2, 3...)                    | `int` (entero)       |\n",
    "| `Grupo`                   | Letra o código del grupo del estudiante dentro del grado                   | `str` (texto)        |\n",
    "| `Periodo`                 | Periodo académico (ej. I, II, III, IV)                                      | `str` (texto)        |\n",
    "| `Año`                     | Año académico                                                               | `int` (entero)       |\n",
    "| `Intensidad Horaria`      | Número de horas dedicadas a la asignatura                                   | `int` (entero)       |\n",
    "| `Asignatura`              | Nombre de la materia evaluada (ej. Matemáticas, Inglés)                    | `str` (texto)        |\n",
    "| `Cognitiva`               | Nota del componente cognitivo (conocimiento teórico)                        | `float` (decimal)    |\n",
    "| `Procedimental`           | Nota del componente procedimental (habilidades prácticas)                   | `float` (decimal)    |\n",
    "| `Actitudinal`             | Nota del componente actitudinal (comportamiento, participación)             | `float` (decimal)    |\n",
    "| `Axiologica`              | Nota del componente axiológico (valores, ética)                             | `float` (decimal)    |\n",
    "| `Docente`                 | Nombre del docente que reporta la calificación                              | `str` (texto)        |\n",
    "| `Resultado`               | Nota final integrada de la asignatura                                       | `float` (decimal)    |\n",
    "| `Nivel`                   | Nivel de desempeño asignado (ej. Bajo, Básico, Alto, Superior)              | `str` (texto)        |\n"
   ]
  },
  {
   "cell_type": "code",
   "execution_count": 1,
   "id": "31405150",
   "metadata": {},
   "outputs": [],
   "source": [
    "import sys\n",
    "import os\n",
    "import pandas as pd\n",
    "from dotenv import load_dotenv\n",
    "load_dotenv()\n",
    "\n",
    "current_dir = os.path.dirname(os.path.abspath('__file__'))\n",
    "project_root = os.path.abspath(os.path.join(current_dir, '..', '..'))\n",
    "if project_root not in sys.path:\n",
    "    sys.path.append(project_root)\n",
    "\n",
    "from scripts.transform.data_cleaning_notes import NotesDataCleaner\n",
    "from scripts.utils.hash_utility import HashUtility"
   ]
  },
  {
   "cell_type": "markdown",
   "id": "ab394236",
   "metadata": {},
   "source": [
    "## 1.2. Carga de dataset de Calificaciones\n",
    "\n",
    "- Cargar fuente original de datos de calificaciones  \n",
    "    - dataset de notas 2021-2022 limpio\n",
    "    - dataset de notas 2023-2025 para limpiar\n"
   ]
  },
  {
   "cell_type": "code",
   "execution_count": 2,
   "id": "9953b7b9",
   "metadata": {},
   "outputs": [
    {
     "name": "stdout",
     "output_type": "stream",
     "text": [
      "<class 'pandas.core.frame.DataFrame'>\n",
      "RangeIndex: 16623 entries, 0 to 16622\n",
      "Data columns (total 13 columns):\n",
      " #   Column          Non-Null Count  Dtype  \n",
      "---  ------          --------------  -----  \n",
      " 0   Sede            16623 non-null  object \n",
      " 1   Año             16623 non-null  int64  \n",
      " 2   Periodo         16623 non-null  int64  \n",
      " 3   Grado           16623 non-null  int64  \n",
      " 4   Identificación  16623 non-null  object \n",
      " 5   Estudiante      16623 non-null  object \n",
      " 6   Asignatura      16623 non-null  object \n",
      " 7   Cog             16579 non-null  float64\n",
      " 8   Proc            16578 non-null  float64\n",
      " 9   Axi             16575 non-null  float64\n",
      " 10  Act             16576 non-null  float64\n",
      " 11  Com             16576 non-null  float64\n",
      " 12  Prom            16622 non-null  float64\n",
      "dtypes: float64(6), int64(3), object(4)\n",
      "memory usage: 1.6+ MB\n"
     ]
    },
    {
     "data": {
      "text/plain": [
       "Sede               0\n",
       "Año                0\n",
       "Periodo            0\n",
       "Grado              0\n",
       "Identificación     0\n",
       "Estudiante         0\n",
       "Asignatura         0\n",
       "Cog               44\n",
       "Proc              45\n",
       "Axi               48\n",
       "Act               47\n",
       "Com               47\n",
       "Prom               1\n",
       "dtype: int64"
      ]
     },
     "execution_count": 2,
     "metadata": {},
     "output_type": "execute_result"
    }
   ],
   "source": [
    "#hacer apend con las notas de los años anteriores\n",
    "df_2021_2022 = pd.read_csv(\"../../data/raw/calificaciones-clean-2021-2022.csv\")\n",
    "\n",
    "df_2021_2022.info()\n",
    "# Conteo de valores nulos\n",
    "df_2021_2022.isnull().sum()"
   ]
  },
  {
   "cell_type": "code",
   "execution_count": 3,
   "id": "b64a19f3",
   "metadata": {},
   "outputs": [
    {
     "name": "stdout",
     "output_type": "stream",
     "text": [
      "<class 'pandas.core.frame.DataFrame'>\n",
      "RangeIndex: 32669 entries, 0 to 32668\n",
      "Data columns (total 16 columns):\n",
      " #   Column                  Non-Null Count  Dtype \n",
      "---  ------                  --------------  ----- \n",
      " 0   Sede                    32669 non-null  object\n",
      " 1   Estudiante              32669 non-null  object\n",
      " 2   Documento de identidad  32669 non-null  int64 \n",
      " 3   Grado                   32669 non-null  int64 \n",
      " 4   Grupo                   32669 non-null  object\n",
      " 5   Periodo                 32669 non-null  object\n",
      " 6   Año                     32669 non-null  int64 \n",
      " 7   Intensidad Horaria      32669 non-null  int64 \n",
      " 8   Asignatura              32669 non-null  object\n",
      " 9   Cognitiva               32669 non-null  int64 \n",
      " 10  Procedimental           32669 non-null  int64 \n",
      " 11  Actitudinal             32669 non-null  int64 \n",
      " 12  Axiologica              32669 non-null  int64 \n",
      " 13  Docente                 32669 non-null  object\n",
      " 14  Resultado               32669 non-null  int64 \n",
      " 15  Nivel                   32669 non-null  object\n",
      "dtypes: int64(9), object(7)\n",
      "memory usage: 4.0+ MB\n"
     ]
    },
    {
     "data": {
      "text/plain": [
       "Sede                      0\n",
       "Estudiante                0\n",
       "Documento de identidad    0\n",
       "Grado                     0\n",
       "Grupo                     0\n",
       "Periodo                   0\n",
       "Año                       0\n",
       "Intensidad Horaria        0\n",
       "Asignatura                0\n",
       "Cognitiva                 0\n",
       "Procedimental             0\n",
       "Actitudinal               0\n",
       "Axiologica                0\n",
       "Docente                   0\n",
       "Resultado                 0\n",
       "Nivel                     0\n",
       "dtype: int64"
      ]
     },
     "execution_count": 3,
     "metadata": {},
     "output_type": "execute_result"
    }
   ],
   "source": [
    "df_2023_2025 = pd.read_csv(\"../../data/raw/calificaciones-raw-2023-2024-2025.csv\")\n",
    "\n",
    "df_2023_2025.info()\n",
    "# Conteo de valores nulos\n",
    "df_2023_2025.isnull().sum()"
   ]
  },
  {
   "cell_type": "markdown",
   "id": "e9779896",
   "metadata": {},
   "source": [
    "## 1.3. Normalizar nombres de columnas"
   ]
  },
  {
   "cell_type": "code",
   "execution_count": 4,
   "id": "79cef467",
   "metadata": {},
   "outputs": [
    {
     "name": "stdout",
     "output_type": "stream",
     "text": [
      "Index(['Sede', 'Estudiante', 'Documento de identidad', 'Grado', 'Grupo',\n",
      "       'Periodo', 'Año', 'Intensidad Horaria', 'Asignatura', 'Cognitiva',\n",
      "       'Procedimental', 'Actitudinal', 'Axiologica', 'Docente', 'Resultado',\n",
      "       'Nivel'],\n",
      "      dtype='object')\n",
      "Index(['Sede', 'Año', 'Periodo', 'Grado', 'Identificación', 'Estudiante',\n",
      "       'Asignatura', 'Cog', 'Proc', 'Axi', 'Act', 'Com', 'Prom'],\n",
      "      dtype='object')\n"
     ]
    }
   ],
   "source": [
    "#imprimir nombres de columnas\n",
    "print(df_2023_2025.columns)\n",
    "print(df_2021_2022.columns)"
   ]
  },
  {
   "cell_type": "code",
   "execution_count": 5,
   "id": "db09e500",
   "metadata": {},
   "outputs": [],
   "source": [
    "#cambiar el nombre de la columna \"id\" a \"id_calificacion\"\n",
    "df_2021_2022.rename(columns={\"Prom\": \"Resultado\"}, inplace=True)\n",
    "\n",
    "df_2023_2025.rename(columns={\"Cognitiva\": \"Cog\"}, inplace=True)\n",
    "df_2023_2025.rename(columns={\"Procedimental\": \"Proc\"}, inplace=True)\n",
    "df_2023_2025.rename(columns={\"Actitudinal\": \"Act\"}, inplace=True)\n",
    "df_2023_2025.rename(columns={\"Axiologica\": \"Axi\"}, inplace=True)\n"
   ]
  },
  {
   "cell_type": "markdown",
   "id": "7e1fb2e5",
   "metadata": {},
   "source": [
    "## 1.4. Limpieza de los datos\n",
    "Realiza limpieza básica solo a df_2023_2025 ya que :ese proceso se corrio previamente para df_2021_2022\n",
    "- Quita espacios de nombres de columnas  \n",
    "- Convierte columnas de notas a numérico  \n",
    "- Convierte texto a mayúsculas  "
   ]
  },
  {
   "cell_type": "code",
   "execution_count": 6,
   "id": "2a716c68",
   "metadata": {},
   "outputs": [
    {
     "name": "stdout",
     "output_type": "stream",
     "text": [
      "['__class__', '__delattr__', '__dict__', '__dir__', '__doc__', '__eq__', '__format__', '__ge__', '__getattribute__', '__getstate__', '__gt__', '__hash__', '__init__', '__init_subclass__', '__le__', '__lt__', '__module__', '__ne__', '__new__', '__reduce__', '__reduce_ex__', '__repr__', '__setattr__', '__sizeof__', '__str__', '__subclasshook__', '__weakref__', 'codificar_periodos', 'load_and_clean_data']\n"
     ]
    }
   ],
   "source": [
    "# comprobar que el metodo de limpieza existe\n",
    "# y que se puede importar correctamente\n",
    "from scripts.transform.data_cleaning_notes import NotesDataCleaner\n",
    "print(dir(NotesDataCleaner))"
   ]
  },
  {
   "cell_type": "code",
   "execution_count": 7,
   "id": "52d5cf65",
   "metadata": {},
   "outputs": [
    {
     "name": "stdout",
     "output_type": "stream",
     "text": [
      "<class 'pandas.core.frame.DataFrame'>\n",
      "RangeIndex: 32669 entries, 0 to 32668\n",
      "Data columns (total 16 columns):\n",
      " #   Column                  Non-Null Count  Dtype \n",
      "---  ------                  --------------  ----- \n",
      " 0   Sede                    32669 non-null  object\n",
      " 1   Estudiante              32669 non-null  object\n",
      " 2   Documento_de_identidad  32669 non-null  int64 \n",
      " 3   Grado                   32669 non-null  object\n",
      " 4   Grupo                   32669 non-null  object\n",
      " 5   Periodo                 32669 non-null  object\n",
      " 6   Año                     32669 non-null  object\n",
      " 7   Intensidad_Horaria      32669 non-null  int64 \n",
      " 8   Asignatura              32669 non-null  object\n",
      " 9   Cog                     32669 non-null  int64 \n",
      " 10  Proc                    32669 non-null  int64 \n",
      " 11  Act                     32669 non-null  int64 \n",
      " 12  Axi                     32669 non-null  int64 \n",
      " 13  Docente                 32669 non-null  object\n",
      " 14  Resultado               32669 non-null  int64 \n",
      " 15  Nivel                   32669 non-null  object\n",
      "dtypes: int64(7), object(9)\n",
      "memory usage: 4.0+ MB\n"
     ]
    },
    {
     "data": {
      "text/plain": [
       "Sede                      0\n",
       "Estudiante                0\n",
       "Documento_de_identidad    0\n",
       "Grado                     0\n",
       "Grupo                     0\n",
       "Periodo                   0\n",
       "Año                       0\n",
       "Intensidad_Horaria        0\n",
       "Asignatura                0\n",
       "Cog                       0\n",
       "Proc                      0\n",
       "Act                       0\n",
       "Axi                       0\n",
       "Docente                   0\n",
       "Resultado                 0\n",
       "Nivel                     0\n",
       "dtype: int64"
      ]
     },
     "execution_count": 7,
     "metadata": {},
     "output_type": "execute_result"
    }
   ],
   "source": [
    "cleaner = NotesDataCleaner(df_2023_2025)\n",
    "df_2023_2025 = cleaner.load_and_clean_data()\n",
    "df_2023_2025.info()\n",
    "df_2023_2025.isnull().sum()"
   ]
  },
  {
   "cell_type": "markdown",
   "id": "c91f871b",
   "metadata": {},
   "source": [
    "## 1.5. Anonimización de los datos\n",
    "\n",
    "Se aplicó **hashing seguro** a las variables sensibles:\n",
    "\n",
    "- `id` se reemplaza con hashing \n",
    "- `Estudiante` (identificador único basado en nombre y sede) y aplica hashing\n",
    "\n",
    "Estas columnas fueron eliminadas posteriormente para preservar la privacidad de los estudiantes.\n",
    "\n",
    "- Se aplica funcion para codificar periodos"
   ]
  },
  {
   "cell_type": "code",
   "execution_count": 9,
   "id": "d5c52c6b",
   "metadata": {},
   "outputs": [],
   "source": [
    "# Aplicar hashing al documento de identificación y eliminar la columna original\n",
    "df_2023_2025[\"Identificación\"] = df_2023_2025[\"Documento_de_identidad\"].apply(HashUtility.hash_stable)\n",
    "df_2023_2025.drop(columns=[\"Documento_de_identidad\"], inplace=True)\n",
    "# Aplicar hashing a los nombres y apellidos y eliminar la columna original\n",
    "df_2023_2025[\"Estudiante\"] = df_2023_2025[\"Estudiante\"].replace(\" \", \"\")+df_2023_2025[\"Sede\"].astype(str)\n",
    "df_2023_2025[\"Estudiante\"] = df_2023_2025[\"Estudiante\"].apply(HashUtility.hash_stable)\n"
   ]
  },
  {
   "cell_type": "code",
   "execution_count": 10,
   "id": "1673301f",
   "metadata": {},
   "outputs": [],
   "source": [
    "df_2023_2025= cleaner.codificar_periodos(df_2023_2025) "
   ]
  },
  {
   "cell_type": "markdown",
   "id": "8424e523",
   "metadata": {},
   "source": [
    "## 1.6. Unificar todos los dataframes de notas"
   ]
  },
  {
   "cell_type": "code",
   "execution_count": 11,
   "id": "7b7f7ee1",
   "metadata": {},
   "outputs": [],
   "source": [
    "# Concatena los DataFrames\n",
    "df_append = pd.concat([df_2023_2025, df_2021_2022], ignore_index=True)\n"
   ]
  },
  {
   "cell_type": "code",
   "execution_count": 12,
   "id": "00471fd7",
   "metadata": {},
   "outputs": [
    {
     "name": "stdout",
     "output_type": "stream",
     "text": [
      "<class 'pandas.core.frame.DataFrame'>\n",
      "RangeIndex: 49292 entries, 0 to 49291\n",
      "Data columns (total 17 columns):\n",
      " #   Column              Non-Null Count  Dtype  \n",
      "---  ------              --------------  -----  \n",
      " 0   Sede                49292 non-null  object \n",
      " 1   Estudiante          49292 non-null  object \n",
      " 2   Grado               49292 non-null  object \n",
      " 3   Grupo               32669 non-null  object \n",
      " 4   Periodo             49292 non-null  object \n",
      " 5   Año                 49292 non-null  object \n",
      " 6   Intensidad_Horaria  32669 non-null  float64\n",
      " 7   Asignatura          49292 non-null  object \n",
      " 8   Cog                 49248 non-null  float64\n",
      " 9   Proc                49247 non-null  float64\n",
      " 10  Act                 49245 non-null  float64\n",
      " 11  Axi                 49244 non-null  float64\n",
      " 12  Docente             32669 non-null  object \n",
      " 13  Resultado           49291 non-null  float64\n",
      " 14  Nivel               32669 non-null  object \n",
      " 15  Identificación      49292 non-null  object \n",
      " 16  Com                 16576 non-null  float64\n",
      "dtypes: float64(7), object(10)\n",
      "memory usage: 6.4+ MB\n"
     ]
    },
    {
     "data": {
      "text/plain": [
       "Sede                      0\n",
       "Estudiante                0\n",
       "Grado                     0\n",
       "Grupo                 16623\n",
       "Periodo                   0\n",
       "Año                       0\n",
       "Intensidad_Horaria    16623\n",
       "Asignatura                0\n",
       "Cog                      44\n",
       "Proc                     45\n",
       "Act                      47\n",
       "Axi                      48\n",
       "Docente               16623\n",
       "Resultado                 1\n",
       "Nivel                 16623\n",
       "Identificación            0\n",
       "Com                   32716\n",
       "dtype: int64"
      ]
     },
     "execution_count": 12,
     "metadata": {},
     "output_type": "execute_result"
    }
   ],
   "source": [
    "df_append.info()\n",
    "# Conteo de valores nulos\n",
    "df_append.isnull().sum()"
   ]
  },
  {
   "cell_type": "code",
   "execution_count": 14,
   "id": "9db9dd51",
   "metadata": {},
   "outputs": [
    {
     "name": "stdout",
     "output_type": "stream",
     "text": [
      "<class 'pandas.core.frame.DataFrame'>\n",
      "Index: 0 entries\n",
      "Data columns (total 17 columns):\n",
      " #   Column              Non-Null Count  Dtype  \n",
      "---  ------              --------------  -----  \n",
      " 0   Sede                0 non-null      object \n",
      " 1   Estudiante          0 non-null      object \n",
      " 2   Grado               0 non-null      object \n",
      " 3   Grupo               0 non-null      object \n",
      " 4   Periodo             0 non-null      object \n",
      " 5   Año                 0 non-null      object \n",
      " 6   Intensidad_Horaria  0 non-null      float64\n",
      " 7   Asignatura          0 non-null      object \n",
      " 8   Cog                 0 non-null      float64\n",
      " 9   Proc                0 non-null      float64\n",
      " 10  Act                 0 non-null      float64\n",
      " 11  Axi                 0 non-null      float64\n",
      " 12  Docente             0 non-null      object \n",
      " 13  Resultado           0 non-null      float64\n",
      " 14  Nivel               0 non-null      object \n",
      " 15  Identificación      0 non-null      object \n",
      " 16  Com                 0 non-null      float64\n",
      "dtypes: float64(7), object(10)\n",
      "memory usage: 0.0+ bytes\n"
     ]
    }
   ],
   "source": [
    "##IMPRIMIR DUPLICADOS\n",
    "duplicados = df_append[df_append.duplicated(subset=[\"Estudiante\", \"Identificación\", \"Grado\", \"Grupo\", \"Periodo\", \"Año\", \"Asignatura\"], keep=False)]\n",
    "df_append.drop_duplicates(subset=[\"Estudiante\", \"Identificación\", \"Grado\", \"Grupo\", \"Periodo\", \"Año\", \"Asignatura\"], keep='first', inplace=True)\n",
    "duplicados.info()\n"
   ]
  },
  {
   "cell_type": "code",
   "execution_count": 15,
   "id": "53d43291",
   "metadata": {},
   "outputs": [
    {
     "name": "stdout",
     "output_type": "stream",
     "text": [
      "<class 'pandas.core.frame.DataFrame'>\n",
      "RangeIndex: 49292 entries, 0 to 49291\n",
      "Data columns (total 17 columns):\n",
      " #   Column              Non-Null Count  Dtype  \n",
      "---  ------              --------------  -----  \n",
      " 0   Sede                49292 non-null  object \n",
      " 1   Estudiante          49292 non-null  object \n",
      " 2   Grado               49292 non-null  object \n",
      " 3   Grupo               32669 non-null  object \n",
      " 4   Periodo             49292 non-null  object \n",
      " 5   Año                 49292 non-null  object \n",
      " 6   Intensidad_Horaria  32669 non-null  float64\n",
      " 7   Asignatura          49292 non-null  object \n",
      " 8   Cog                 49248 non-null  float64\n",
      " 9   Proc                49247 non-null  float64\n",
      " 10  Act                 49245 non-null  float64\n",
      " 11  Axi                 49244 non-null  float64\n",
      " 12  Docente             32669 non-null  object \n",
      " 13  Resultado           49291 non-null  float64\n",
      " 14  Nivel               32669 non-null  object \n",
      " 15  Identificación      49292 non-null  object \n",
      " 16  Com                 16576 non-null  float64\n",
      "dtypes: float64(7), object(10)\n",
      "memory usage: 6.4+ MB\n"
     ]
    },
    {
     "data": {
      "text/plain": [
       "Sede                      0\n",
       "Estudiante                0\n",
       "Grado                     0\n",
       "Grupo                 16623\n",
       "Periodo                   0\n",
       "Año                       0\n",
       "Intensidad_Horaria    16623\n",
       "Asignatura                0\n",
       "Cog                      44\n",
       "Proc                     45\n",
       "Act                      47\n",
       "Axi                      48\n",
       "Docente               16623\n",
       "Resultado                 1\n",
       "Nivel                 16623\n",
       "Identificación            0\n",
       "Com                   32716\n",
       "dtype: int64"
      ]
     },
     "execution_count": 15,
     "metadata": {},
     "output_type": "execute_result"
    }
   ],
   "source": [
    "df_append.info()\n",
    "# Conteo de valores nulos\n",
    "df_append.isnull().sum()\n"
   ]
  },
  {
   "cell_type": "code",
   "execution_count": 16,
   "id": "e3bac9a4",
   "metadata": {},
   "outputs": [
    {
     "data": {
      "text/html": [
       "<div>\n",
       "<style scoped>\n",
       "    .dataframe tbody tr th:only-of-type {\n",
       "        vertical-align: middle;\n",
       "    }\n",
       "\n",
       "    .dataframe tbody tr th {\n",
       "        vertical-align: top;\n",
       "    }\n",
       "\n",
       "    .dataframe thead th {\n",
       "        text-align: right;\n",
       "    }\n",
       "</style>\n",
       "<table border=\"1\" class=\"dataframe\">\n",
       "  <thead>\n",
       "    <tr style=\"text-align: right;\">\n",
       "      <th></th>\n",
       "      <th>Sede</th>\n",
       "      <th>Estudiante</th>\n",
       "      <th>Grado</th>\n",
       "      <th>Grupo</th>\n",
       "      <th>Periodo</th>\n",
       "      <th>Año</th>\n",
       "      <th>Intensidad_Horaria</th>\n",
       "      <th>Asignatura</th>\n",
       "      <th>Cog</th>\n",
       "      <th>Proc</th>\n",
       "      <th>Act</th>\n",
       "      <th>Axi</th>\n",
       "      <th>Docente</th>\n",
       "      <th>Resultado</th>\n",
       "      <th>Nivel</th>\n",
       "      <th>Identificación</th>\n",
       "      <th>Com</th>\n",
       "    </tr>\n",
       "  </thead>\n",
       "  <tbody>\n",
       "    <tr>\n",
       "      <th>17536</th>\n",
       "      <td>FUSAGASUGÁ</td>\n",
       "      <td>90e1283eb582ed5619cabcd9ee332cffef82677032c0da...</td>\n",
       "      <td>2</td>\n",
       "      <td>A</td>\n",
       "      <td>2</td>\n",
       "      <td>2024</td>\n",
       "      <td>4.0</td>\n",
       "      <td>CIENCIAS NATURALES</td>\n",
       "      <td>91.0</td>\n",
       "      <td>94.0</td>\n",
       "      <td>94.0</td>\n",
       "      <td>100.0</td>\n",
       "      <td>ALEJANDRA LEÓN DICELIS</td>\n",
       "      <td>94.0</td>\n",
       "      <td>ALTO</td>\n",
       "      <td>365756628ae1424bc0862865e23ea33891575313cc45c4...</td>\n",
       "      <td>NaN</td>\n",
       "    </tr>\n",
       "    <tr>\n",
       "      <th>14867</th>\n",
       "      <td>FUSAGASUGÁ</td>\n",
       "      <td>da6b59d150b7a256b9575f8507186180d616d42191767d...</td>\n",
       "      <td>10</td>\n",
       "      <td>A</td>\n",
       "      <td>3</td>\n",
       "      <td>2024</td>\n",
       "      <td>1.0</td>\n",
       "      <td>LECTURA CRÍTICA</td>\n",
       "      <td>93.0</td>\n",
       "      <td>95.0</td>\n",
       "      <td>92.0</td>\n",
       "      <td>95.0</td>\n",
       "      <td>ARMANDO ÁVILA CONTRERAS</td>\n",
       "      <td>94.0</td>\n",
       "      <td>ALTO</td>\n",
       "      <td>ce66a313d6f71f78a8de5a85d19251743853b367dc8451...</td>\n",
       "      <td>NaN</td>\n",
       "    </tr>\n",
       "    <tr>\n",
       "      <th>10051</th>\n",
       "      <td>GIRARDOT</td>\n",
       "      <td>95e91145426ff51181bfb537a0ef6d1e74021feba3e502...</td>\n",
       "      <td>2</td>\n",
       "      <td>A</td>\n",
       "      <td>3</td>\n",
       "      <td>2023</td>\n",
       "      <td>3.0</td>\n",
       "      <td>EDUCACIÓN FÍSICA</td>\n",
       "      <td>94.0</td>\n",
       "      <td>94.0</td>\n",
       "      <td>93.0</td>\n",
       "      <td>94.0</td>\n",
       "      <td>FELIPE SÁNCHEZ SALDARRIAGA</td>\n",
       "      <td>94.0</td>\n",
       "      <td>ALTO</td>\n",
       "      <td>d50fbaaeb7e99a928cd8cb8ed22ecb7c80c9c3a07636d7...</td>\n",
       "      <td>NaN</td>\n",
       "    </tr>\n",
       "    <tr>\n",
       "      <th>18990</th>\n",
       "      <td>FUSAGASUGÁ</td>\n",
       "      <td>08ab0a29f140a4f6bd69ae927c3b0afce186253d9dc817...</td>\n",
       "      <td>9</td>\n",
       "      <td>A</td>\n",
       "      <td>2</td>\n",
       "      <td>2024</td>\n",
       "      <td>1.0</td>\n",
       "      <td>ARTES</td>\n",
       "      <td>79.0</td>\n",
       "      <td>79.0</td>\n",
       "      <td>80.0</td>\n",
       "      <td>80.0</td>\n",
       "      <td>XIOMARA LANZA TOLOSA</td>\n",
       "      <td>80.0</td>\n",
       "      <td>ALTO</td>\n",
       "      <td>095dc92b271953ffd13d7622841a9ed8cb9ae82ac6cca5...</td>\n",
       "      <td>NaN</td>\n",
       "    </tr>\n",
       "    <tr>\n",
       "      <th>18868</th>\n",
       "      <td>FUSAGASUGÁ</td>\n",
       "      <td>2b409f748e08152ac4629499b29d634afdd1714dd357b1...</td>\n",
       "      <td>8</td>\n",
       "      <td>A</td>\n",
       "      <td>2</td>\n",
       "      <td>2024</td>\n",
       "      <td>1.0</td>\n",
       "      <td>INNOVACIÓN Y EMPRENDIMIENTO</td>\n",
       "      <td>91.0</td>\n",
       "      <td>92.0</td>\n",
       "      <td>95.0</td>\n",
       "      <td>95.0</td>\n",
       "      <td>TATIANA RAMOS NOVA</td>\n",
       "      <td>92.0</td>\n",
       "      <td>ALTO</td>\n",
       "      <td>d42a967ec93c7782b43efd0a8dbc8dbd52457d0e8fc7f8...</td>\n",
       "      <td>NaN</td>\n",
       "    </tr>\n",
       "  </tbody>\n",
       "</table>\n",
       "</div>"
      ],
      "text/plain": [
       "             Sede                                         Estudiante Grado  \\\n",
       "17536  FUSAGASUGÁ  90e1283eb582ed5619cabcd9ee332cffef82677032c0da...     2   \n",
       "14867  FUSAGASUGÁ  da6b59d150b7a256b9575f8507186180d616d42191767d...    10   \n",
       "10051    GIRARDOT  95e91145426ff51181bfb537a0ef6d1e74021feba3e502...     2   \n",
       "18990  FUSAGASUGÁ  08ab0a29f140a4f6bd69ae927c3b0afce186253d9dc817...     9   \n",
       "18868  FUSAGASUGÁ  2b409f748e08152ac4629499b29d634afdd1714dd357b1...     8   \n",
       "\n",
       "      Grupo Periodo   Año  Intensidad_Horaria                   Asignatura  \\\n",
       "17536     A       2  2024                 4.0           CIENCIAS NATURALES   \n",
       "14867     A       3  2024                 1.0              LECTURA CRÍTICA   \n",
       "10051     A       3  2023                 3.0             EDUCACIÓN FÍSICA   \n",
       "18990     A       2  2024                 1.0                        ARTES   \n",
       "18868     A       2  2024                 1.0  INNOVACIÓN Y EMPRENDIMIENTO   \n",
       "\n",
       "        Cog  Proc   Act    Axi                     Docente  Resultado Nivel  \\\n",
       "17536  91.0  94.0  94.0  100.0      ALEJANDRA LEÓN DICELIS       94.0  ALTO   \n",
       "14867  93.0  95.0  92.0   95.0     ARMANDO ÁVILA CONTRERAS       94.0  ALTO   \n",
       "10051  94.0  94.0  93.0   94.0  FELIPE SÁNCHEZ SALDARRIAGA       94.0  ALTO   \n",
       "18990  79.0  79.0  80.0   80.0        XIOMARA LANZA TOLOSA       80.0  ALTO   \n",
       "18868  91.0  92.0  95.0   95.0          TATIANA RAMOS NOVA       92.0  ALTO   \n",
       "\n",
       "                                          Identificación  Com  \n",
       "17536  365756628ae1424bc0862865e23ea33891575313cc45c4...  NaN  \n",
       "14867  ce66a313d6f71f78a8de5a85d19251743853b367dc8451...  NaN  \n",
       "10051  d50fbaaeb7e99a928cd8cb8ed22ecb7c80c9c3a07636d7...  NaN  \n",
       "18990  095dc92b271953ffd13d7622841a9ed8cb9ae82ac6cca5...  NaN  \n",
       "18868  d42a967ec93c7782b43efd0a8dbc8dbd52457d0e8fc7f8...  NaN  "
      ]
     },
     "execution_count": 16,
     "metadata": {},
     "output_type": "execute_result"
    }
   ],
   "source": [
    "df_append.sample(5)"
   ]
  },
  {
   "cell_type": "code",
   "execution_count": 17,
   "id": "77ae59d1",
   "metadata": {},
   "outputs": [],
   "source": [
    "#reemplace nombres de valores de asignaturas\n",
    "df_append[\"Asignatura\"] = df_append[\"Asignatura\"].replace({\n",
    "    \"ENGLISH\": \"INGLÉS\",\n",
    "    \"FRANÇAIS\": \"FRANCÉS\"})\n"
   ]
  },
  {
   "cell_type": "code",
   "execution_count": 18,
   "id": "b154ebce",
   "metadata": {},
   "outputs": [],
   "source": [
    "df_append.to_csv(\"../../data/processed/data_clean_notes_2021_2025.csv\", index=False)"
   ]
  }
 ],
 "metadata": {
  "kernelspec": {
   "display_name": "Python 3",
   "language": "python",
   "name": "python3"
  },
  "language_info": {
   "codemirror_mode": {
    "name": "ipython",
    "version": 3
   },
   "file_extension": ".py",
   "mimetype": "text/x-python",
   "name": "python",
   "nbconvert_exporter": "python",
   "pygments_lexer": "ipython3",
   "version": "3.12.4"
  }
 },
 "nbformat": 4,
 "nbformat_minor": 5
}
