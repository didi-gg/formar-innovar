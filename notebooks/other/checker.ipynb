{
 "cells": [
  {
   "cell_type": "markdown",
   "id": "58faa385",
   "metadata": {},
   "source": [
    "# Data Checker\n",
    "\n",
    "El propósito de este notebook es realizar unas verificaciones de los datos para tener la seguridad que que los datos son consistentes"
   ]
  },
  {
   "cell_type": "markdown",
   "id": "4eae7e6e",
   "metadata": {},
   "source": [
    "## Verificación de estudiantes inscritos en archivos raw"
   ]
  },
  {
   "cell_type": "code",
   "execution_count": 1,
   "id": "51a27ee9",
   "metadata": {},
   "outputs": [],
   "source": [
    "expected_students_fusa_2024 = {\n",
    "    '1': 15,\n",
    "    '2': 15,\n",
    "    '3': 15,\n",
    "    '4': 22,\n",
    "    '5': 17,\n",
    "    '6': 20,\n",
    "    '7': 22,\n",
    "    '8': 17,\n",
    "    '9': 16,\n",
    "    '10': 17,\n",
    "    '11': 13,\n",
    "}\n",
    "\n",
    "expected_students_girardot_2024 = {\n",
    "    '1': 17,\n",
    "    '2': 7,\n",
    "    '3': 17,\n",
    "    '4': 18,\n",
    "    '5': 10,\n",
    "    '6': 16,\n",
    "    '7': 16,\n",
    "    '8': 12,\n",
    "}\n",
    "\n",
    "expected_students_fusa_2025 = {\n",
    "    '1': 10,\n",
    "    '2': 9,\n",
    "    '3': 15,\n",
    "    '4': 16,\n",
    "    '5': 24,\n",
    "    '6': 18,\n",
    "    '7': 21,\n",
    "    '8': 21,\n",
    "    '9': 18,\n",
    "    '10': 14,\n",
    "    '11': 13,\n",
    "}\n",
    "\n",
    "expected_students_girardot_2025 = {\n",
    "    '1': 8,\n",
    "    '2': 16,\n",
    "    '3': 4,\n",
    "    '4': 20,\n",
    "    '5': 15,\n",
    "    '6': 7,\n",
    "    '7': 15,\n",
    "    '8': 12,\n",
    "    '9': 4\n",
    "}\n",
    "\n",
    "students_2024 = sum(expected_students_fusa_2024.values()) + sum(expected_students_girardot_2024.values())\n",
    "students_2025 = sum(expected_students_fusa_2025.values()) + sum(expected_students_girardot_2025.values())\n",
    "# Sumar los valores de cada grado (llave) entre Fusa y Girardot para 2024\n",
    "total_students_by_grade_2024 = {}\n",
    "all_grades = set(expected_students_fusa_2024.keys()).union(expected_students_girardot_2024.keys())\n",
    "for grade in all_grades:\n",
    "    fusa_count = expected_students_fusa_2024.get(grade, 0)\n",
    "    girardot_count = expected_students_girardot_2024.get(grade, 0)\n",
    "    total_students_by_grade_2024[grade] = fusa_count + girardot_count\n",
    "\n",
    "# Sumar los valores de cada grado (llave) entre Fusa y Girardot para 2025\n",
    "total_students_by_grade_2025 = {}\n",
    "all_grades = set(expected_students_fusa_2025.keys()).union(expected_students_girardot_2025.keys())\n",
    "for grade in all_grades:\n",
    "    fusa_count = expected_students_fusa_2025.get(grade, 0)\n",
    "    girardot_count = expected_students_girardot_2025.get(grade, 0)\n",
    "    total_students_by_grade_2025[grade] = fusa_count + girardot_count"
   ]
  },
  {
   "cell_type": "code",
   "execution_count": 2,
   "id": "2251feba",
   "metadata": {},
   "outputs": [
    {
     "data": {
      "text/plain": [
       "{'7': 38,\n",
       " '8': 29,\n",
       " '9': 16,\n",
       " '3': 32,\n",
       " '10': 17,\n",
       " '11': 13,\n",
       " '1': 32,\n",
       " '5': 27,\n",
       " '4': 40,\n",
       " '6': 36,\n",
       " '2': 22}"
      ]
     },
     "execution_count": 2,
     "metadata": {},
     "output_type": "execute_result"
    }
   ],
   "source": [
    "total_students_by_grade_2024"
   ]
  },
  {
   "cell_type": "code",
   "execution_count": 3,
   "id": "39155dfb",
   "metadata": {},
   "outputs": [
    {
     "data": {
      "text/plain": [
       "{'7': 36,\n",
       " '8': 33,\n",
       " '9': 22,\n",
       " '3': 19,\n",
       " '10': 14,\n",
       " '11': 13,\n",
       " '1': 18,\n",
       " '5': 39,\n",
       " '4': 36,\n",
       " '6': 25,\n",
       " '2': 25}"
      ]
     },
     "execution_count": 3,
     "metadata": {},
     "output_type": "execute_result"
    }
   ],
   "source": [
    "total_students_by_grade_2025"
   ]
  },
  {
   "cell_type": "code",
   "execution_count": 4,
   "id": "f2444310",
   "metadata": {},
   "outputs": [],
   "source": [
    "import pandas as pd\n",
    "import os\n",
    "import sys\n",
    "import duckdb\n",
    "\n",
    "project_root = os.path.abspath(os.path.join(os.path.dirname('__file__'), '..', '..'))\n",
    "os.chdir(project_root)\n",
    "\n",
    "# Añadir el directorio raíz al path de Python\n",
    "if project_root not in sys.path:\n",
    "    sys.path.append(project_root)\n",
    "\n",
    "from scripts.utils.hash_utility import HashUtility"
   ]
  },
  {
   "cell_type": "code",
   "execution_count": 5,
   "id": "689a6a19",
   "metadata": {},
   "outputs": [],
   "source": [
    "con = duckdb.connect()"
   ]
  },
  {
   "cell_type": "code",
   "execution_count": 6,
   "id": "04a1057e",
   "metadata": {},
   "outputs": [],
   "source": [
    "# Read pandas files\n",
    "students_2024_df = pd.read_csv('data/raw/estudiantes/estudiantes_2024.csv')\n",
    "students_2025_df = pd.read_csv('data/raw/estudiantes/estudiantes_2025.csv')\n",
    "\n",
    "\n",
    "students_2024_df = students_2024_df[\n",
    "    (~students_2024_df['grado'].isin(['Prejardín', 'Jardín', 'Transición']))\n",
    "]\n",
    "\n",
    "students_2025_df = students_2025_df[\n",
    "    (~students_2025_df['grado'].isin(['Prejardín', 'Jardín', 'Transición']))\n",
    "]\n"
   ]
  },
  {
   "cell_type": "code",
   "execution_count": 7,
   "id": "46dcf13e",
   "metadata": {},
   "outputs": [],
   "source": [
    "girardot_count_2024 = students_2024_df[students_2024_df['sede'] == 'Girardot'].shape[0]\n",
    "fusa_count_2024 = students_2024_df[students_2024_df['sede'] == 'Fusagasugá'].shape[0]\n",
    "\n",
    "# Asserting the counts\n",
    "assert girardot_count_2024 == sum(expected_students_girardot_2024.values()), \"Count mismatch for Girardot 2024\"\n",
    "assert fusa_count_2024 == sum(expected_students_fusa_2024.values()), \"Count mismatch for Fusa 2024\""
   ]
  },
  {
   "cell_type": "code",
   "execution_count": 8,
   "id": "479d4c6a",
   "metadata": {},
   "outputs": [],
   "source": [
    "girardot_count_2025 = students_2025_df[students_2025_df['sede'] == 'Girardot'].shape[0]\n",
    "fusa_count_2025 = students_2025_df[students_2025_df['sede'] == 'Fusagasugá'].shape[0]\n",
    "\n",
    "# Asserting the counts\n",
    "assert girardot_count_2025 == sum(expected_students_girardot_2025.values()), \"Count mismatch for Girardot 2025\"\n",
    "assert fusa_count_2025 == sum(expected_students_fusa_2025.values()), \"Count mismatch for Fusa 2025\""
   ]
  },
  {
   "cell_type": "code",
   "execution_count": 9,
   "id": "e2060196",
   "metadata": {},
   "outputs": [],
   "source": [
    "girardot_count_2024_by_grade = (\n",
    "    students_2024_df[students_2024_df['sede'] == 'Girardot']\n",
    "    .groupby('grado')\n",
    "    .size()\n",
    "    .to_dict()\n",
    ")\n",
    "assert girardot_count_2024_by_grade == expected_students_girardot_2024, \"Grade count mismatch for Girardot 2024\"\n",
    "\n",
    "fusa_count_2024_by_grade = (\n",
    "    students_2024_df[students_2024_df['sede'] == 'Fusagasugá']\n",
    "    .groupby('grado')\n",
    "    .size()\n",
    "    .to_dict()\n",
    ")\n",
    "assert fusa_count_2024_by_grade == expected_students_fusa_2024, \"Grade count mismatch for Fusagasugá 2024\""
   ]
  },
  {
   "cell_type": "code",
   "execution_count": 10,
   "id": "70d535c6",
   "metadata": {},
   "outputs": [],
   "source": [
    "girardot_count_2025_by_grade = (\n",
    "    students_2025_df[students_2025_df['sede'] == 'Girardot']\n",
    "    .groupby('grado')\n",
    "    .size()\n",
    "    .to_dict()\n",
    ")\n",
    "# Convert keys to string\n",
    "girardot_count_2025_by_grade = {str(k): v for k, v in girardot_count_2025_by_grade.items()}\n",
    "assert girardot_count_2025_by_grade == expected_students_girardot_2025\n",
    "\n",
    "\n",
    "fusa_count_2025_by_grade = (\n",
    "    students_2025_df[students_2025_df['sede'] == 'Fusagasugá']\n",
    "    .groupby('grado')\n",
    "    .size()\n",
    "    .to_dict()\n",
    ")\n",
    "fusa_count_2025_by_grade = {str(k): v for k, v in fusa_count_2025_by_grade.items()}\n",
    "assert fusa_count_2025_by_grade == expected_students_fusa_2025\n"
   ]
  },
  {
   "cell_type": "code",
   "execution_count": 11,
   "id": "3689763b",
   "metadata": {},
   "outputs": [],
   "source": [
    "total_count_2025_by_grade = (\n",
    "    students_2025_df\n",
    "    .groupby('grado')\n",
    "    .size()\n",
    "    .to_dict()\n",
    ")\n",
    "total_count_2025_by_grade = {str(k): v for k, v in total_count_2025_by_grade.items()}\n",
    "assert total_students_by_grade_2025 == total_count_2025_by_grade\n"
   ]
  },
  {
   "cell_type": "code",
   "execution_count": 12,
   "id": "4d818b31",
   "metadata": {},
   "outputs": [],
   "source": [
    "total_count_2024_by_grade = (\n",
    "    students_2024_df\n",
    "    .groupby('grado')\n",
    "    .size()\n",
    "    .to_dict()\n",
    ")\n",
    "total_count_2024_by_grade = {str(k): v for k, v in total_count_2024_by_grade.items()}\n",
    "assert total_students_by_grade_2024 == total_count_2024_by_grade"
   ]
  },
  {
   "cell_type": "markdown",
   "id": "72558fc8",
   "metadata": {},
   "source": [
    "## Verificar que para cada estudiante de 2024 y 2025 estén los datos"
   ]
  },
  {
   "cell_type": "code",
   "execution_count": 13,
   "id": "ca100391",
   "metadata": {},
   "outputs": [],
   "source": [
    "students_2025_2025 = pd.read_csv('data/raw/estudiantes/estudiantes_2024_2025.csv')\n",
    "docs_2024_2025 = set(students_2025_2025['documento_identificación'])"
   ]
  },
  {
   "cell_type": "code",
   "execution_count": 14,
   "id": "50c4c453",
   "metadata": {},
   "outputs": [],
   "source": [
    "not_in_all_df = students_2024_df[~students_2024_df['documento_identificación'].isin(docs_2024_2025)]\n",
    "assert not_in_all_df.empty, \"Hay estudiantes de 2024 que no están en el archivo de todos los estudiantes de 2024 y 2025\""
   ]
  },
  {
   "cell_type": "markdown",
   "id": "ac126e0e",
   "metadata": {},
   "source": [
    "## Excepción\n",
    "\n",
    "Hay un estudiante que tiene documento de identificación diferente en año 2024 y 2025 (1023942729,1031833774)"
   ]
  },
  {
   "cell_type": "code",
   "execution_count": 15,
   "id": "07034051",
   "metadata": {},
   "outputs": [],
   "source": [
    "not_in_all_df = students_2025_df[~students_2025_df['documento_identificación'].isin(docs_2024_2025)]\n",
    "\n",
    "# Remove from not_in_all_df the student with document 1031833774\n",
    "not_in_all_df = not_in_all_df[not_in_all_df['documento_identificación'] != 1031833774]\n",
    "\n",
    "assert not_in_all_df.empty, \"Hay estudiantes de 2025 que no están en el archivo de todos los estudiantes de 2024 y 2025\""
   ]
  },
  {
   "cell_type": "markdown",
   "id": "a87ba056",
   "metadata": {},
   "source": [
    "## Verificación con moodle"
   ]
  },
  {
   "cell_type": "code",
   "execution_count": 16,
   "id": "55832dc6",
   "metadata": {},
   "outputs": [],
   "source": [
    "parquet_users_path=\"data/raw/moodle/2024/Users/mdlvf_user.parquet\"\n",
    "parquet_user_info_path=\"data/raw/moodle/2024/Users/mdlvf_user_info_data.parquet\"\n",
    "\n",
    "sql = f\"\"\"\n",
    "SELECT \n",
    "    u.id AS UserID,\n",
    "    u.idnumber AS documento_identificación,\n",
    "    CONCAT(u.firstname, ' ', u.lastname) AS \"Nombre Completo\",\n",
    "    u.city AS Sede,\n",
    "    to_timestamp(u.firstaccess) AS \"Fecha Primer Acceso\",\n",
    "    to_timestamp(u.lastaccess) AS \"Feha Último Acceso\",\n",
    "    to_timestamp(u.lastlogin) AS \"Fecha Último Inicio de Sesión\",\n",
    "    to_timestamp(u.timecreated) AS \"Fecha Creación\"\n",
    "FROM \n",
    "    '{parquet_users_path}' u\n",
    "JOIN \n",
    "    '{parquet_user_info_path}' uid \n",
    "    ON u.id = uid.userid\n",
    "WHERE \n",
    "    uid.data = 'Estudiante'\n",
    "    AND u.idnumber <> ''\n",
    "    AND u.deleted = 0;\n",
    "\"\"\"\n",
    "df_2024 = con.execute(sql).df()\n",
    "df_2024[\"documento_identificación\"] = df_2024[\"documento_identificación\"].astype(str).str.replace(r\"\\s+\", \"\", regex=True)\n",
    "df_2024[\"documento_identificación_hash\"] = df_2024[\"documento_identificación\"].apply(HashUtility.hash_stable)"
   ]
  },
  {
   "cell_type": "code",
   "execution_count": 17,
   "id": "dbd8e8eb",
   "metadata": {},
   "outputs": [],
   "source": [
    "missing_in_moodle_2024 = students_2024_df[~students_2024_df['documento_identificación'].astype(str).isin(df_2024['documento_identificación'])]\n",
    "assert missing_in_moodle_2024.empty, \"Hay estudiantes de 2024 que no están en el moodle 2024\""
   ]
  },
  {
   "cell_type": "code",
   "execution_count": 18,
   "id": "88fc3f4e",
   "metadata": {},
   "outputs": [],
   "source": [
    "parquet_users_path=\"data/raw/moodle/2025/Users/mdlvf_user.parquet\"\n",
    "parquet_user_info_path=\"data/raw/moodle/2025/Users/mdlvf_user_info_data.parquet\"\n",
    "\n",
    "sql = f\"\"\"\n",
    "SELECT \n",
    "    u.id AS UserID,\n",
    "    u.idnumber AS documento_identificación,\n",
    "    CONCAT(u.firstname, ' ', u.lastname) AS \"Nombre Completo\",\n",
    "    u.city AS Sede,\n",
    "    to_timestamp(u.firstaccess) AS \"Fecha Primer Acceso\",\n",
    "    to_timestamp(u.lastaccess) AS \"Feha Último Acceso\",\n",
    "    to_timestamp(u.lastlogin) AS \"Fecha Último Inicio de Sesión\",\n",
    "    to_timestamp(u.timecreated) AS \"Fecha Creación\"\n",
    "FROM \n",
    "    '{parquet_users_path}' u\n",
    "JOIN \n",
    "    '{parquet_user_info_path}' uid \n",
    "    ON u.id = uid.userid\n",
    "WHERE \n",
    "    uid.data = 'Estudiante'\n",
    "    AND u.idnumber <> ''\n",
    "    AND u.deleted = 0;\n",
    "\"\"\"\n",
    "df_2025 = con.execute(sql).df()\n",
    "df_2025[\"documento_identificación\"] = df_2025[\"documento_identificación\"].astype(str).str.replace(r\"\\s+\", \"\", regex=True)\n",
    "df_2025[\"documento_identificación_hash\"] = df_2025[\"documento_identificación\"].apply(HashUtility.hash_stable)"
   ]
  },
  {
   "cell_type": "code",
   "execution_count": 19,
   "id": "5e307370",
   "metadata": {},
   "outputs": [],
   "source": [
    "missing_in_moodle_2025 = students_2025_df[~students_2025_df['documento_identificación'].astype(str).isin(df_2025['documento_identificación'])]\n",
    "assert missing_in_moodle_2025.empty, \"Hay estudiantes de 2025 que no están en el moodle 2025\""
   ]
  },
  {
   "cell_type": "markdown",
   "id": "9241ecc2",
   "metadata": {},
   "source": [
    "## Verificación con Edukrea"
   ]
  },
  {
   "cell_type": "code",
   "execution_count": 46,
   "id": "35e19136",
   "metadata": {},
   "outputs": [],
   "source": [
    "df_user_edukrea = pd.read_parquet('data/raw/moodle/Edukrea/Users/mdl_user.parquet')"
   ]
  },
  {
   "cell_type": "code",
   "execution_count": 47,
   "id": "bef193e2",
   "metadata": {},
   "outputs": [],
   "source": [
    "missing_in_edukrea_2025 = students_2025_df[\n",
    "    ~students_2025_df['documento_identificación'].astype(str).isin(df_user_edukrea['idnumber'].astype(str))\n",
    "]\n",
    "assert missing_in_edukrea_2025.empty, \"Hay estudiantes de 2025 que no están en el Edukrea\""
   ]
  },
  {
   "cell_type": "markdown",
   "id": "4ed24183",
   "metadata": {},
   "source": [
    "## Verificación de estudiantes inscritos en archivos interim"
   ]
  },
  {
   "cell_type": "code",
   "execution_count": 20,
   "id": "a1156bc9",
   "metadata": {},
   "outputs": [],
   "source": [
    "students_2024_hashed = pd.read_csv('data/interim/estudiantes/estudiantes_2024_hashed.csv')\n",
    "students_2025_hashed = pd.read_csv('data/interim/estudiantes/estudiantes_2025_hashed.csv')\n",
    "students_clean = pd.read_csv('data/interim/estudiantes/estudiantes_clean.csv')\n",
    "students_imputed_encoded = pd.read_csv('data/interim/estudiantes/estudiantes_imputed_encoded.csv')\n",
    "students_imputed = pd.read_csv('data/interim/estudiantes/estudiantes_imputed.csv')"
   ]
  },
  {
   "cell_type": "code",
   "execution_count": 21,
   "id": "c8c8e0c1",
   "metadata": {},
   "outputs": [],
   "source": [
    "students_2024_hashed = students_2024_hashed[\n",
    "    (~students_2024_hashed['grado'].isin(['Prejardín', 'Jardín', 'Transición']))\n",
    "]\n",
    "\n",
    "students_2025_hashed = students_2025_hashed[\n",
    "    (~students_2025_hashed['grado'].isin(['Prejardín', 'Jardín', 'Transición']))\n",
    "]"
   ]
  },
  {
   "cell_type": "code",
   "execution_count": 22,
   "id": "4b9007cf",
   "metadata": {},
   "outputs": [],
   "source": [
    "# Apply hash to raw files to match the hashed files\n",
    "students_2024_df['documento_identificación_hash'] = students_2024_df['documento_identificación'].apply(HashUtility.hash_stable)\n",
    "students_2025_df['documento_identificación_hash'] = students_2025_df['documento_identificación'].apply(HashUtility.hash_stable)\n",
    "students_2025_2025['documento_identificación_hash'] = students_2025_2025['documento_identificación'].apply(HashUtility.hash_stable)"
   ]
  },
  {
   "cell_type": "code",
   "execution_count": 23,
   "id": "bd2346b2",
   "metadata": {},
   "outputs": [],
   "source": [
    "missing_in_students_2024_hashed = students_2024_hashed[~students_2024_hashed['documento_identificación'].astype(str).isin(students_2024_df['documento_identificación_hash'])]\n",
    "assert missing_in_students_2024_hashed.empty, \"Hay estudiantes de 2024 hash que no están en el archivo de estudiantes 2024 hasheados\""
   ]
  },
  {
   "cell_type": "code",
   "execution_count": 24,
   "id": "8ae0f03e",
   "metadata": {},
   "outputs": [],
   "source": [
    "missing_in_students_2025_hashed = students_2025_hashed[~students_2025_hashed['documento_identificación'].astype(str).isin(students_2025_df['documento_identificación_hash'])]\n",
    "assert missing_in_students_2025_hashed.empty, \"Hay estudiantes de 2025 hash que no están en el archivo de estudiantes 2025 hasheados\""
   ]
  },
  {
   "cell_type": "code",
   "execution_count": 25,
   "id": "a8cd10a2",
   "metadata": {},
   "outputs": [],
   "source": [
    "missing_in_students_clean = students_clean[~students_clean['documento_identificación'].astype(str).isin(students_2025_2025['documento_identificación_hash'])]\n",
    "assert missing_in_students_clean.empty, \"Hay estudiantes de hash que no están en el archivo de estudiantes hasheados\""
   ]
  },
  {
   "cell_type": "code",
   "execution_count": 28,
   "id": "acead8b5",
   "metadata": {},
   "outputs": [],
   "source": [
    "missing_in_students_imputed = students_imputed[~students_imputed['documento_identificación'].astype(str).isin(students_2025_2025['documento_identificación_hash'])]\n",
    "assert missing_in_students_imputed.empty, \"Hay estudiantes de hash que no están en el archivo de estudiantes hasheados\""
   ]
  },
  {
   "cell_type": "code",
   "execution_count": 26,
   "id": "7f53cea2",
   "metadata": {},
   "outputs": [],
   "source": [
    "missing_in_students_imputed_encoded = students_imputed_encoded[~students_imputed_encoded['documento_identificación'].astype(str).isin(students_2025_2025['documento_identificación_hash'])]\n",
    "assert missing_in_students_imputed_encoded.empty, \"Hay estudiantes de hash que no están en el archivo de estudiantes hasheados\""
   ]
  },
  {
   "cell_type": "markdown",
   "id": "f6749790",
   "metadata": {},
   "source": [
    "## Verificación con enrollments"
   ]
  },
  {
   "cell_type": "code",
   "execution_count": 30,
   "id": "3bfe5705",
   "metadata": {},
   "outputs": [],
   "source": [
    "enrollments = pd.read_csv('data/interim/estudiantes/enrollments.csv')\n",
    "\n",
    "enrollments_2024 = enrollments[enrollments['year'] == 2024]\n",
    "enrollments_2025 = enrollments[enrollments['year'] == 2025]"
   ]
  },
  {
   "cell_type": "code",
   "execution_count": 35,
   "id": "31fe0139",
   "metadata": {},
   "outputs": [],
   "source": [
    "assert len(students_2025_df) == students_2025, f\"El número de filas en students_2025_df ({len(students_2025_df)}) no coincide con students_2025 ({students_2025})\"\n",
    "assert len(students_2024_df) == students_2024, f\"El número de filas en students_2024_df ({len(students_2024_df)}) no coincide con students_2024 ({students_2024})\""
   ]
  },
  {
   "cell_type": "code",
   "execution_count": null,
   "id": "11c50d22",
   "metadata": {
    "vscode": {
     "languageId": "ruby"
    }
   },
   "outputs": [],
   "source": [
    "# Verificar que el conteo de filas por grado coincida entre students_2025_df y enrollments_2025\n",
    "# Agrupar y contar por grado en students_2025_df\n",
    "students_2025_by_grade = students_2025_df.groupby('grado').size().sort_index()\n",
    "# Agrupar y contar por id_grado en enrollments_2025\n",
    "enrollments_2025_by_grade = enrollments_2025.groupby('id_grado').size().sort_index()\n",
    "# Convertir los índices a string para asegurar la comparación\n",
    "students_2025_by_grade.index = students_2025_by_grade.index.astype(str)\n",
    "enrollments_2025_by_grade.index = enrollments_2025_by_grade.index.astype(str)\n",
    "# Comparar ambos conteos\n",
    "assert students_2025_by_grade.equals(enrollments_2025_by_grade), \"Los conteos por grado no coinciden entre students_2025_df y enrollments_2025\""
   ]
  },
  {
   "cell_type": "code",
   "execution_count": 42,
   "id": "b650eca3",
   "metadata": {
    "vscode": {
     "languageId": "ruby"
    }
   },
   "outputs": [],
   "source": [
    "# Verificar que el conteo de filas por grado coincida entre students_2024_df y enrollments_2024\n",
    "# Agrupar y contar por grado en students_2024_df\n",
    "students_2024_by_grade = students_2024_df.groupby('grado').size().sort_index()\n",
    "# Agrupar y contar por id_grado en enrollments_2024\n",
    "enrollments_2024_by_grade = enrollments_2024.groupby('id_grado').size().sort_index()\n",
    "# Convertir los índices a string para asegurar la comparación\n",
    "students_2024_by_grade.index = students_2024_by_grade.index.astype(str)\n",
    "enrollments_2024_by_grade.index = enrollments_2024_by_grade.index.astype(str)\n",
    "\n",
    "# Ordenar los conteos por grado\n",
    "students_2024_by_grade = students_2024_by_grade.sort_index()\n",
    "enrollments_2024_by_grade = enrollments_2024_by_grade.sort_index()\n",
    "\n",
    "# Comparar ambos conteos\n",
    "assert students_2024_by_grade.equals(enrollments_2024_by_grade), \"Los conteos por grado no coinciden entre students_2024_df y enrollments_2024\""
   ]
  },
  {
   "cell_type": "markdown",
   "id": "106bd7a6",
   "metadata": {},
   "source": [
    "## Verificación de cursos"
   ]
  },
  {
   "cell_type": "code",
   "execution_count": 48,
   "id": "ad84eb8c",
   "metadata": {
    "vscode": {
     "languageId": "ruby"
    }
   },
   "outputs": [],
   "source": [
    "students_courses = pd.read_csv('data/interim/moodle/student_moodle_courses.csv')\n",
    "students_courses_2025 = students_courses[students_courses['year'] == 2025]\n",
    "students_courses_2024 = students_courses[students_courses['year'] == 2024]"
   ]
  },
  {
   "cell_type": "code",
   "execution_count": 49,
   "id": "2e108558",
   "metadata": {
    "vscode": {
     "languageId": "ruby"
    }
   },
   "outputs": [],
   "source": [
    "# Diccionario para guardar los resultados por grado\n",
    "inconsistencias_por_grado = {}\n",
    "\n",
    "for grado in range(1, 12):  # Del 1 al 11 inclusive\n",
    "    filtro = (students_courses['id_grado'] == grado) & (~students_courses['course_name'].str.contains(str(grado)))\n",
    "    inconsistencias = students_courses[filtro]\n",
    "    \n",
    "    if not inconsistencias.empty:\n",
    "        inconsistencias_por_grado[grado] = inconsistencias"
   ]
  },
  {
   "cell_type": "code",
   "execution_count": 50,
   "id": "a4dd6914",
   "metadata": {
    "vscode": {
     "languageId": "ruby"
    }
   },
   "outputs": [],
   "source": [
    "for grado, df in inconsistencias_por_grado.items():\n",
    "    print(f\"\\nInconsistencias para grado {grado}:\")\n",
    "    print(df[['documento_identificación', 'course_name']].head())"
   ]
  },
  {
   "cell_type": "code",
   "execution_count": 51,
   "id": "64fc20d7",
   "metadata": {
    "vscode": {
     "languageId": "ruby"
    }
   },
   "outputs": [],
   "source": [
    "students_courses = pd.read_csv('data/interim/moodle/student_edukrea_courses.csv')"
   ]
  },
  {
   "cell_type": "code",
   "execution_count": 52,
   "id": "bd9bc47a",
   "metadata": {
    "vscode": {
     "languageId": "ruby"
    }
   },
   "outputs": [],
   "source": [
    "# Diccionario para guardar los resultados por grado\n",
    "inconsistencias_por_grado = {}\n",
    "\n",
    "for grado in range(1, 12):  # Del 1 al 11 inclusive\n",
    "    filtro = (students_courses['id_grado'] == grado) & (~students_courses['course_name'].str.contains(str(grado)))\n",
    "    inconsistencias = students_courses[filtro]\n",
    "    \n",
    "    if not inconsistencias.empty:\n",
    "        inconsistencias_por_grado[grado] = inconsistencias"
   ]
  },
  {
   "cell_type": "code",
   "execution_count": 53,
   "id": "1f0a13c4",
   "metadata": {
    "vscode": {
     "languageId": "ruby"
    }
   },
   "outputs": [
    {
     "name": "stdout",
     "output_type": "stream",
     "text": [
      "\n",
      "Inconsistencias para grado 3:\n",
      "                               documento_identificación           course_name\n",
      "175   cf6b81c391cf8ded4e4f1fab86fbbac0766591ed5cf768...            Lenguaje 2\n",
      "216   cf6b81c391cf8ded4e4f1fab86fbbac0766591ed5cf768...         Matemáticas 2\n",
      "433   cf6b81c391cf8ded4e4f1fab86fbbac0766591ed5cf768...   Ciencias Sociales 2\n",
      "1082  cf6b81c391cf8ded4e4f1fab86fbbac0766591ed5cf768...  Ciencias Naturales 2\n"
     ]
    }
   ],
   "source": [
    "for grado, df in inconsistencias_por_grado.items():\n",
    "    print(f\"\\nInconsistencias para grado {grado}:\")\n",
    "    print(df[['documento_identificación', 'course_name']])"
   ]
  },
  {
   "cell_type": "markdown",
   "id": "34953355",
   "metadata": {},
   "source": [
    "Hay 4 cursos de grado 2do inscritos a una estudiante de 3ero pero verificando en la plataforma es correcto"
   ]
  }
 ],
 "metadata": {
  "kernelspec": {
   "display_name": "formar-innovar",
   "language": "python",
   "name": "python3"
  },
  "language_info": {
   "codemirror_mode": {
    "name": "ipython",
    "version": 3
   },
   "file_extension": ".py",
   "mimetype": "text/x-python",
   "name": "python",
   "nbconvert_exporter": "python",
   "pygments_lexer": "ipython3",
   "version": "3.10.14"
  }
 },
 "nbformat": 4,
 "nbformat_minor": 5
}
