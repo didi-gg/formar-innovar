{
 "cells": [
  {
   "cell_type": "markdown",
   "id": "58faa385",
   "metadata": {},
   "source": [
    "# Data Checker\n",
    "\n",
    "El propósito de este notebook es realizar unas verificaciones de los datos para tener la seguridad que que los datos son consistentes"
   ]
  },
  {
   "cell_type": "markdown",
   "id": "4eae7e6e",
   "metadata": {},
   "source": [
    "## Verificación de estudiantes inscritos en archivos raw"
   ]
  },
  {
   "cell_type": "code",
   "execution_count": 1,
   "id": "51a27ee9",
   "metadata": {},
   "outputs": [],
   "source": [
    "expected_students_fusa_2024 = {\n",
    "    '1': 15,\n",
    "    '2': 15,\n",
    "    '3': 15,\n",
    "    '4': 22,\n",
    "    '5': 17,\n",
    "    '6': 20,\n",
    "    '7': 22,\n",
    "    '8': 17,\n",
    "    '9': 16,\n",
    "    '10': 17,\n",
    "    '11': 13,\n",
    "}\n",
    "\n",
    "expected_students_girardot_2024 = {\n",
    "    '1': 17,\n",
    "    '2': 7,\n",
    "    '3': 17,\n",
    "    '4': 18,\n",
    "    '5': 10,\n",
    "    '6': 16,\n",
    "    '7': 16,\n",
    "    '8': 12,\n",
    "}\n",
    "\n",
    "expected_students_fusa_2025 = {\n",
    "    '1': 10,\n",
    "    '2': 9,\n",
    "    '3': 15,\n",
    "    '4': 16,\n",
    "    '5': 24,\n",
    "    '6': 18,\n",
    "    '7': 21,\n",
    "    '8': 21,\n",
    "    '9': 18,\n",
    "    '10': 14,\n",
    "    '11': 13,\n",
    "}\n",
    "\n",
    "expected_students_girardot_2025 = {\n",
    "    '1': 8,\n",
    "    '2': 16,\n",
    "    '3': 4,\n",
    "    '4': 20,\n",
    "    '5': 15,\n",
    "    '6': 7,\n",
    "    '7': 15,\n",
    "    '8': 12,\n",
    "    '9': 4\n",
    "}\n",
    "\n",
    "students_2024 = sum(expected_students_fusa_2024.values()) + sum(expected_students_girardot_2024.values())\n",
    "students_2025 = sum(expected_students_fusa_2025.values()) + sum(expected_students_girardot_2025.values())\n",
    "# Sumar los valores de cada grado (llave) entre Fusa y Girardot para 2024\n",
    "total_students_by_grade_2024 = {}\n",
    "all_grades = set(expected_students_fusa_2024.keys()).union(expected_students_girardot_2024.keys())\n",
    "for grade in all_grades:\n",
    "    fusa_count = expected_students_fusa_2024.get(grade, 0)\n",
    "    girardot_count = expected_students_girardot_2024.get(grade, 0)\n",
    "    total_students_by_grade_2024[grade] = fusa_count + girardot_count\n",
    "\n",
    "# Sumar los valores de cada grado (llave) entre Fusa y Girardot para 2025\n",
    "total_students_by_grade_2025 = {}\n",
    "all_grades = set(expected_students_fusa_2025.keys()).union(expected_students_girardot_2025.keys())\n",
    "for grade in all_grades:\n",
    "    fusa_count = expected_students_fusa_2025.get(grade, 0)\n",
    "    girardot_count = expected_students_girardot_2025.get(grade, 0)\n",
    "    total_students_by_grade_2025[grade] = fusa_count + girardot_count"
   ]
  },
  {
   "cell_type": "code",
   "execution_count": 2,
   "id": "2251feba",
   "metadata": {},
   "outputs": [
    {
     "data": {
      "text/plain": [
       "{'9': 16,\n",
       " '1': 32,\n",
       " '4': 40,\n",
       " '11': 13,\n",
       " '6': 36,\n",
       " '2': 22,\n",
       " '5': 27,\n",
       " '3': 32,\n",
       " '10': 17,\n",
       " '7': 38,\n",
       " '8': 29}"
      ]
     },
     "execution_count": 2,
     "metadata": {},
     "output_type": "execute_result"
    }
   ],
   "source": [
    "total_students_by_grade_2024"
   ]
  },
  {
   "cell_type": "code",
   "execution_count": 3,
   "id": "39155dfb",
   "metadata": {},
   "outputs": [
    {
     "data": {
      "text/plain": [
       "{'9': 22,\n",
       " '1': 18,\n",
       " '4': 36,\n",
       " '11': 13,\n",
       " '6': 25,\n",
       " '2': 25,\n",
       " '5': 39,\n",
       " '3': 19,\n",
       " '10': 14,\n",
       " '7': 36,\n",
       " '8': 33}"
      ]
     },
     "execution_count": 3,
     "metadata": {},
     "output_type": "execute_result"
    }
   ],
   "source": [
    "total_students_by_grade_2025"
   ]
  },
  {
   "cell_type": "code",
   "execution_count": 1,
   "id": "f2444310",
   "metadata": {},
   "outputs": [],
   "source": [
    "import pandas as pd\n",
    "import os\n",
    "import sys\n",
    "import duckdb\n",
    "\n",
    "project_root = os.path.abspath(os.path.join(os.path.dirname('__file__'), '..', '..'))\n",
    "os.chdir(project_root)\n",
    "\n",
    "# Añadir el directorio raíz al path de Python\n",
    "if project_root not in sys.path:\n",
    "    sys.path.append(project_root)\n",
    "\n",
    "from utils.hash_utility import HashUtility"
   ]
  },
  {
   "cell_type": "code",
   "execution_count": 5,
   "id": "689a6a19",
   "metadata": {},
   "outputs": [],
   "source": [
    "con = duckdb.connect()"
   ]
  },
  {
   "cell_type": "code",
   "execution_count": 6,
   "id": "04a1057e",
   "metadata": {},
   "outputs": [],
   "source": [
    "# Read pandas files\n",
    "students_2024_df = pd.read_csv('data/raw/estudiantes/estudiantes_2024.csv')\n",
    "students_2025_df = pd.read_csv('data/raw/estudiantes/estudiantes_2025.csv')\n",
    "\n",
    "\n",
    "students_2024_df = students_2024_df[\n",
    "    (~students_2024_df['grado'].isin(['Prejardín', 'Jardín', 'Transición']))\n",
    "]\n",
    "\n",
    "students_2025_df = students_2025_df[\n",
    "    (~students_2025_df['grado'].isin(['Prejardín', 'Jardín', 'Transición']))\n",
    "]\n"
   ]
  },
  {
   "cell_type": "code",
   "execution_count": 7,
   "id": "46dcf13e",
   "metadata": {},
   "outputs": [],
   "source": [
    "girardot_count_2024 = students_2024_df[students_2024_df['sede'] == 'Girardot'].shape[0]\n",
    "fusa_count_2024 = students_2024_df[students_2024_df['sede'] == 'Fusagasugá'].shape[0]\n",
    "\n",
    "# Asserting the counts\n",
    "assert girardot_count_2024 == sum(expected_students_girardot_2024.values()), \"Count mismatch for Girardot 2024\"\n",
    "assert fusa_count_2024 == sum(expected_students_fusa_2024.values()), \"Count mismatch for Fusa 2024\""
   ]
  },
  {
   "cell_type": "code",
   "execution_count": 8,
   "id": "479d4c6a",
   "metadata": {},
   "outputs": [],
   "source": [
    "girardot_count_2025 = students_2025_df[students_2025_df['sede'] == 'Girardot'].shape[0]\n",
    "fusa_count_2025 = students_2025_df[students_2025_df['sede'] == 'Fusagasugá'].shape[0]\n",
    "\n",
    "# Asserting the counts\n",
    "assert girardot_count_2025 == sum(expected_students_girardot_2025.values()), \"Count mismatch for Girardot 2025\"\n",
    "assert fusa_count_2025 == sum(expected_students_fusa_2025.values()), \"Count mismatch for Fusa 2025\""
   ]
  },
  {
   "cell_type": "code",
   "execution_count": 9,
   "id": "e2060196",
   "metadata": {},
   "outputs": [],
   "source": [
    "girardot_count_2024_by_grade = (\n",
    "    students_2024_df[students_2024_df['sede'] == 'Girardot']\n",
    "    .groupby('grado')\n",
    "    .size()\n",
    "    .to_dict()\n",
    ")\n",
    "assert girardot_count_2024_by_grade == expected_students_girardot_2024, \"Grade count mismatch for Girardot 2024\"\n",
    "\n",
    "fusa_count_2024_by_grade = (\n",
    "    students_2024_df[students_2024_df['sede'] == 'Fusagasugá']\n",
    "    .groupby('grado')\n",
    "    .size()\n",
    "    .to_dict()\n",
    ")\n",
    "assert fusa_count_2024_by_grade == expected_students_fusa_2024, \"Grade count mismatch for Fusagasugá 2024\""
   ]
  },
  {
   "cell_type": "code",
   "execution_count": 10,
   "id": "70d535c6",
   "metadata": {},
   "outputs": [],
   "source": [
    "girardot_count_2025_by_grade = (\n",
    "    students_2025_df[students_2025_df['sede'] == 'Girardot']\n",
    "    .groupby('grado')\n",
    "    .size()\n",
    "    .to_dict()\n",
    ")\n",
    "# Convert keys to string\n",
    "girardot_count_2025_by_grade = {str(k): v for k, v in girardot_count_2025_by_grade.items()}\n",
    "assert girardot_count_2025_by_grade == expected_students_girardot_2025\n",
    "\n",
    "\n",
    "fusa_count_2025_by_grade = (\n",
    "    students_2025_df[students_2025_df['sede'] == 'Fusagasugá']\n",
    "    .groupby('grado')\n",
    "    .size()\n",
    "    .to_dict()\n",
    ")\n",
    "fusa_count_2025_by_grade = {str(k): v for k, v in fusa_count_2025_by_grade.items()}\n",
    "assert fusa_count_2025_by_grade == expected_students_fusa_2025\n"
   ]
  },
  {
   "cell_type": "code",
   "execution_count": 11,
   "id": "3689763b",
   "metadata": {},
   "outputs": [],
   "source": [
    "total_count_2025_by_grade = (\n",
    "    students_2025_df\n",
    "    .groupby('grado')\n",
    "    .size()\n",
    "    .to_dict()\n",
    ")\n",
    "total_count_2025_by_grade = {str(k): v for k, v in total_count_2025_by_grade.items()}\n",
    "assert total_students_by_grade_2025 == total_count_2025_by_grade\n"
   ]
  },
  {
   "cell_type": "code",
   "execution_count": 12,
   "id": "4d818b31",
   "metadata": {},
   "outputs": [],
   "source": [
    "total_count_2024_by_grade = (\n",
    "    students_2024_df\n",
    "    .groupby('grado')\n",
    "    .size()\n",
    "    .to_dict()\n",
    ")\n",
    "total_count_2024_by_grade = {str(k): v for k, v in total_count_2024_by_grade.items()}\n",
    "assert total_students_by_grade_2024 == total_count_2024_by_grade"
   ]
  },
  {
   "cell_type": "markdown",
   "id": "72558fc8",
   "metadata": {},
   "source": [
    "## Verificar que para cada estudiante de 2024 y 2025 estén los datos"
   ]
  },
  {
   "cell_type": "code",
   "execution_count": 13,
   "id": "ca100391",
   "metadata": {},
   "outputs": [],
   "source": [
    "students_2025_2025 = pd.read_csv('data/raw/estudiantes/estudiantes_2024_2025.csv')\n",
    "docs_2024_2025 = set(students_2025_2025['documento_identificación'])"
   ]
  },
  {
   "cell_type": "code",
   "execution_count": 14,
   "id": "50c4c453",
   "metadata": {},
   "outputs": [],
   "source": [
    "not_in_all_df = students_2024_df[~students_2024_df['documento_identificación'].isin(docs_2024_2025)]\n",
    "assert not_in_all_df.empty, \"Hay estudiantes de 2024 que no están en el archivo de todos los estudiantes de 2024 y 2025\""
   ]
  },
  {
   "cell_type": "markdown",
   "id": "ac126e0e",
   "metadata": {},
   "source": [
    "## Excepción\n",
    "\n",
    "Hay un estudiante que tiene documento de identificación diferente en año 2024 y 2025 (1023942729,1031833774)"
   ]
  },
  {
   "cell_type": "code",
   "execution_count": 15,
   "id": "07034051",
   "metadata": {},
   "outputs": [],
   "source": [
    "not_in_all_df = students_2025_df[~students_2025_df['documento_identificación'].isin(docs_2024_2025)]\n",
    "\n",
    "# Remove from not_in_all_df the student with document 1031833774\n",
    "not_in_all_df = not_in_all_df[not_in_all_df['documento_identificación'] != 1031833774]\n",
    "\n",
    "assert not_in_all_df.empty, \"Hay estudiantes de 2025 que no están en el archivo de todos los estudiantes de 2024 y 2025\""
   ]
  },
  {
   "cell_type": "markdown",
   "id": "a87ba056",
   "metadata": {},
   "source": [
    "## Verificación con moodle"
   ]
  },
  {
   "cell_type": "code",
   "execution_count": 16,
   "id": "55832dc6",
   "metadata": {},
   "outputs": [],
   "source": [
    "parquet_users_path=\"data/raw/moodle/2024/Users/mdlvf_user.parquet\"\n",
    "parquet_user_info_path=\"data/raw/moodle/2024/Users/mdlvf_user_info_data.parquet\"\n",
    "\n",
    "sql = f\"\"\"\n",
    "SELECT \n",
    "    u.id AS UserID,\n",
    "    u.idnumber AS documento_identificación,\n",
    "    CONCAT(u.firstname, ' ', u.lastname) AS \"Nombre Completo\",\n",
    "    u.city AS Sede,\n",
    "    to_timestamp(u.firstaccess) AS \"Fecha Primer Acceso\",\n",
    "    to_timestamp(u.lastaccess) AS \"Feha Último Acceso\",\n",
    "    to_timestamp(u.lastlogin) AS \"Fecha Último Inicio de Sesión\",\n",
    "    to_timestamp(u.timecreated) AS \"Fecha Creación\"\n",
    "FROM \n",
    "    '{parquet_users_path}' u\n",
    "JOIN \n",
    "    '{parquet_user_info_path}' uid \n",
    "    ON u.id = uid.userid\n",
    "WHERE \n",
    "    uid.data = 'Estudiante'\n",
    "    AND u.idnumber <> ''\n",
    "    AND u.deleted = 0;\n",
    "\"\"\"\n",
    "df_2024 = con.execute(sql).df()\n",
    "df_2024[\"documento_identificación\"] = df_2024[\"documento_identificación\"].astype(str).str.replace(r\"\\s+\", \"\", regex=True)\n",
    "df_2024[\"documento_identificación_hash\"] = df_2024[\"documento_identificación\"].apply(HashUtility.hash_stable)"
   ]
  },
  {
   "cell_type": "code",
   "execution_count": 17,
   "id": "dbd8e8eb",
   "metadata": {},
   "outputs": [],
   "source": [
    "missing_in_moodle_2024 = students_2024_df[~students_2024_df['documento_identificación'].astype(str).isin(df_2024['documento_identificación'])]\n",
    "assert missing_in_moodle_2024.empty, \"Hay estudiantes de 2024 que no están en el moodle 2024\""
   ]
  },
  {
   "cell_type": "code",
   "execution_count": 18,
   "id": "88fc3f4e",
   "metadata": {},
   "outputs": [],
   "source": [
    "parquet_users_path=\"data/raw/moodle/2025/Users/mdlvf_user.parquet\"\n",
    "parquet_user_info_path=\"data/raw/moodle/2025/Users/mdlvf_user_info_data.parquet\"\n",
    "\n",
    "sql = f\"\"\"\n",
    "SELECT \n",
    "    u.id AS UserID,\n",
    "    u.idnumber AS documento_identificación,\n",
    "    CONCAT(u.firstname, ' ', u.lastname) AS \"Nombre Completo\",\n",
    "    u.city AS Sede,\n",
    "    to_timestamp(u.firstaccess) AS \"Fecha Primer Acceso\",\n",
    "    to_timestamp(u.lastaccess) AS \"Feha Último Acceso\",\n",
    "    to_timestamp(u.lastlogin) AS \"Fecha Último Inicio de Sesión\",\n",
    "    to_timestamp(u.timecreated) AS \"Fecha Creación\"\n",
    "FROM \n",
    "    '{parquet_users_path}' u\n",
    "JOIN \n",
    "    '{parquet_user_info_path}' uid \n",
    "    ON u.id = uid.userid\n",
    "WHERE \n",
    "    uid.data = 'Estudiante'\n",
    "    AND u.idnumber <> ''\n",
    "    AND u.deleted = 0;\n",
    "\"\"\"\n",
    "df_2025 = con.execute(sql).df()\n",
    "df_2025[\"documento_identificación\"] = df_2025[\"documento_identificación\"].astype(str).str.replace(r\"\\s+\", \"\", regex=True)\n",
    "df_2025[\"documento_identificación_hash\"] = df_2025[\"documento_identificación\"].apply(HashUtility.hash_stable)"
   ]
  },
  {
   "cell_type": "code",
   "execution_count": 19,
   "id": "5e307370",
   "metadata": {},
   "outputs": [],
   "source": [
    "missing_in_moodle_2025 = students_2025_df[~students_2025_df['documento_identificación'].astype(str).isin(df_2025['documento_identificación'])]\n",
    "assert missing_in_moodle_2025.empty, \"Hay estudiantes de 2025 que no están en el moodle 2025\""
   ]
  },
  {
   "cell_type": "markdown",
   "id": "9241ecc2",
   "metadata": {},
   "source": [
    "## Verificación con Edukrea"
   ]
  },
  {
   "cell_type": "code",
   "execution_count": 20,
   "id": "35e19136",
   "metadata": {},
   "outputs": [],
   "source": [
    "df_user_edukrea = pd.read_parquet('data/raw/moodle/Edukrea/Users/mdl_user.parquet')"
   ]
  },
  {
   "cell_type": "code",
   "execution_count": 21,
   "id": "bef193e2",
   "metadata": {},
   "outputs": [],
   "source": [
    "missing_in_edukrea_2025 = students_2025_df[\n",
    "    ~students_2025_df['documento_identificación'].astype(str).isin(df_user_edukrea['idnumber'].astype(str))\n",
    "]\n",
    "assert missing_in_edukrea_2025.empty, \"Hay estudiantes de 2025 que no están en el Edukrea\""
   ]
  },
  {
   "cell_type": "markdown",
   "id": "4ed24183",
   "metadata": {},
   "source": [
    "## Verificación de estudiantes inscritos en archivos interim"
   ]
  },
  {
   "cell_type": "code",
   "execution_count": 22,
   "id": "a1156bc9",
   "metadata": {},
   "outputs": [],
   "source": [
    "students_2024_hashed = pd.read_csv('data/interim/estudiantes/estudiantes_2024_hashed.csv')\n",
    "students_2025_hashed = pd.read_csv('data/interim/estudiantes/estudiantes_2025_hashed.csv')\n",
    "students_clean = pd.read_csv('data/interim/estudiantes/estudiantes_clean.csv')\n",
    "students_imputed_encoded = pd.read_csv('data/interim/estudiantes/estudiantes_imputed_encoded.csv')\n",
    "students_imputed = pd.read_csv('data/interim/estudiantes/estudiantes_imputed.csv')"
   ]
  },
  {
   "cell_type": "code",
   "execution_count": 23,
   "id": "c8c8e0c1",
   "metadata": {},
   "outputs": [],
   "source": [
    "students_2024_hashed = students_2024_hashed[\n",
    "    (~students_2024_hashed['grado'].isin(['Prejardín', 'Jardín', 'Transición']))\n",
    "]\n",
    "\n",
    "students_2025_hashed = students_2025_hashed[\n",
    "    (~students_2025_hashed['grado'].isin(['Prejardín', 'Jardín', 'Transición']))\n",
    "]"
   ]
  },
  {
   "cell_type": "code",
   "execution_count": 24,
   "id": "4b9007cf",
   "metadata": {},
   "outputs": [],
   "source": [
    "# Apply hash to raw files to match the hashed files\n",
    "students_2024_df['documento_identificación_hash'] = students_2024_df['documento_identificación'].apply(HashUtility.hash_stable)\n",
    "students_2025_df['documento_identificación_hash'] = students_2025_df['documento_identificación'].apply(HashUtility.hash_stable)\n",
    "students_2025_2025['documento_identificación_hash'] = students_2025_2025['documento_identificación'].apply(HashUtility.hash_stable)"
   ]
  },
  {
   "cell_type": "code",
   "execution_count": 25,
   "id": "bd2346b2",
   "metadata": {},
   "outputs": [],
   "source": [
    "missing_in_students_2024_hashed = students_2024_hashed[~students_2024_hashed['documento_identificación'].astype(str).isin(students_2024_df['documento_identificación_hash'])]\n",
    "assert missing_in_students_2024_hashed.empty, \"Hay estudiantes de 2024 hash que no están en el archivo de estudiantes 2024 hasheados\""
   ]
  },
  {
   "cell_type": "code",
   "execution_count": 26,
   "id": "8ae0f03e",
   "metadata": {},
   "outputs": [],
   "source": [
    "missing_in_students_2025_hashed = students_2025_hashed[~students_2025_hashed['documento_identificación'].astype(str).isin(students_2025_df['documento_identificación_hash'])]\n",
    "assert missing_in_students_2025_hashed.empty, \"Hay estudiantes de 2025 hash que no están en el archivo de estudiantes 2025 hasheados\""
   ]
  },
  {
   "cell_type": "code",
   "execution_count": 27,
   "id": "a8cd10a2",
   "metadata": {},
   "outputs": [],
   "source": [
    "missing_in_students_clean = students_clean[~students_clean['documento_identificación'].astype(str).isin(students_2025_2025['documento_identificación_hash'])]\n",
    "assert missing_in_students_clean.empty, \"Hay estudiantes de hash que no están en el archivo de estudiantes hasheados\""
   ]
  },
  {
   "cell_type": "code",
   "execution_count": 28,
   "id": "acead8b5",
   "metadata": {},
   "outputs": [],
   "source": [
    "missing_in_students_imputed = students_imputed[~students_imputed['documento_identificación'].astype(str).isin(students_2025_2025['documento_identificación_hash'])]\n",
    "assert missing_in_students_imputed.empty, \"Hay estudiantes de hash que no están en el archivo de estudiantes hasheados\""
   ]
  },
  {
   "cell_type": "code",
   "execution_count": 29,
   "id": "7f53cea2",
   "metadata": {},
   "outputs": [],
   "source": [
    "missing_in_students_imputed_encoded = students_imputed_encoded[~students_imputed_encoded['documento_identificación'].astype(str).isin(students_2025_2025['documento_identificación_hash'])]\n",
    "assert missing_in_students_imputed_encoded.empty, \"Hay estudiantes de hash que no están en el archivo de estudiantes hasheados\""
   ]
  },
  {
   "cell_type": "markdown",
   "id": "f6749790",
   "metadata": {},
   "source": [
    "## Verificación con enrollments"
   ]
  },
  {
   "cell_type": "code",
   "execution_count": 30,
   "id": "3bfe5705",
   "metadata": {},
   "outputs": [],
   "source": [
    "enrollments = pd.read_csv('data/interim/estudiantes/enrollments.csv')\n",
    "\n",
    "enrollments_2024 = enrollments[enrollments['year'] == 2024]\n",
    "enrollments_2025 = enrollments[enrollments['year'] == 2025]"
   ]
  },
  {
   "cell_type": "code",
   "execution_count": 31,
   "id": "31fe0139",
   "metadata": {},
   "outputs": [],
   "source": [
    "assert len(students_2025_df) == students_2025, f\"El número de filas en students_2025_df ({len(students_2025_df)}) no coincide con students_2025 ({students_2025})\"\n",
    "assert len(students_2024_df) == students_2024, f\"El número de filas en students_2024_df ({len(students_2024_df)}) no coincide con students_2024 ({students_2024})\""
   ]
  },
  {
   "cell_type": "code",
   "execution_count": 32,
   "id": "11c50d22",
   "metadata": {
    "vscode": {
     "languageId": "ruby"
    }
   },
   "outputs": [],
   "source": [
    "# Verificar que el conteo de filas por grado coincida entre students_2025_df y enrollments_2025\n",
    "# Agrupar y contar por grado en students_2025_df\n",
    "students_2025_by_grade = students_2025_df.groupby('grado').size().sort_index()\n",
    "# Agrupar y contar por id_grado en enrollments_2025\n",
    "enrollments_2025_by_grade = enrollments_2025.groupby('id_grado').size().sort_index()\n",
    "# Convertir los índices a string para asegurar la comparación\n",
    "students_2025_by_grade.index = students_2025_by_grade.index.astype(str)\n",
    "enrollments_2025_by_grade.index = enrollments_2025_by_grade.index.astype(str)\n",
    "# Comparar ambos conteos\n",
    "assert students_2025_by_grade.equals(enrollments_2025_by_grade), \"Los conteos por grado no coinciden entre students_2025_df y enrollments_2025\""
   ]
  },
  {
   "cell_type": "code",
   "execution_count": 33,
   "id": "b650eca3",
   "metadata": {
    "vscode": {
     "languageId": "ruby"
    }
   },
   "outputs": [],
   "source": [
    "# Verificar que el conteo de filas por grado coincida entre students_2024_df y enrollments_2024\n",
    "# Agrupar y contar por grado en students_2024_df\n",
    "students_2024_by_grade = students_2024_df.groupby('grado').size().sort_index()\n",
    "# Agrupar y contar por id_grado en enrollments_2024\n",
    "enrollments_2024_by_grade = enrollments_2024.groupby('id_grado').size().sort_index()\n",
    "# Convertir los índices a string para asegurar la comparación\n",
    "students_2024_by_grade.index = students_2024_by_grade.index.astype(str)\n",
    "enrollments_2024_by_grade.index = enrollments_2024_by_grade.index.astype(str)\n",
    "\n",
    "# Ordenar los conteos por grado\n",
    "students_2024_by_grade = students_2024_by_grade.sort_index()\n",
    "enrollments_2024_by_grade = enrollments_2024_by_grade.sort_index()\n",
    "\n",
    "# Comparar ambos conteos\n",
    "assert students_2024_by_grade.equals(enrollments_2024_by_grade), \"Los conteos por grado no coinciden entre students_2024_df y enrollments_2024\""
   ]
  },
  {
   "cell_type": "markdown",
   "id": "106bd7a6",
   "metadata": {},
   "source": [
    "## Verificación de cursos"
   ]
  },
  {
   "cell_type": "code",
   "execution_count": 34,
   "id": "ad84eb8c",
   "metadata": {
    "vscode": {
     "languageId": "ruby"
    }
   },
   "outputs": [],
   "source": [
    "students_courses = pd.read_csv('data/interim/moodle/student_moodle_courses.csv')\n",
    "students_courses_2025 = students_courses[students_courses['year'] == 2025]\n",
    "students_courses_2024 = students_courses[students_courses['year'] == 2024]"
   ]
  },
  {
   "cell_type": "code",
   "execution_count": 35,
   "id": "2e108558",
   "metadata": {
    "vscode": {
     "languageId": "ruby"
    }
   },
   "outputs": [],
   "source": [
    "# Diccionario para guardar los resultados por grado\n",
    "inconsistencias_por_grado = {}\n",
    "\n",
    "for grado in range(1, 12):  # Del 1 al 11 inclusive\n",
    "    filtro = (students_courses['id_grado'] == grado) & (~students_courses['course_name'].str.contains(str(grado)))\n",
    "    inconsistencias = students_courses[filtro]\n",
    "    \n",
    "    if not inconsistencias.empty:\n",
    "        inconsistencias_por_grado[grado] = inconsistencias"
   ]
  },
  {
   "cell_type": "code",
   "execution_count": 36,
   "id": "a4dd6914",
   "metadata": {
    "vscode": {
     "languageId": "ruby"
    }
   },
   "outputs": [],
   "source": [
    "for grado, df in inconsistencias_por_grado.items():\n",
    "    print(f\"\\nInconsistencias para grado {grado}:\")\n",
    "    print(df[['documento_identificación', 'course_name']].head())"
   ]
  },
  {
   "cell_type": "code",
   "execution_count": 37,
   "id": "64fc20d7",
   "metadata": {
    "vscode": {
     "languageId": "ruby"
    }
   },
   "outputs": [],
   "source": [
    "students_courses = pd.read_csv('data/interim/moodle/student_edukrea_courses.csv')"
   ]
  },
  {
   "cell_type": "code",
   "execution_count": 38,
   "id": "bd9bc47a",
   "metadata": {
    "vscode": {
     "languageId": "ruby"
    }
   },
   "outputs": [],
   "source": [
    "# Diccionario para guardar los resultados por grado\n",
    "inconsistencias_por_grado = {}\n",
    "\n",
    "for grado in range(1, 12):  # Del 1 al 11 inclusive\n",
    "    filtro = (students_courses['id_grado'] == grado) & (~students_courses['course_name'].str.contains(str(grado)))\n",
    "    inconsistencias = students_courses[filtro]\n",
    "    \n",
    "    if not inconsistencias.empty:\n",
    "        inconsistencias_por_grado[grado] = inconsistencias"
   ]
  },
  {
   "cell_type": "code",
   "execution_count": 39,
   "id": "1f0a13c4",
   "metadata": {
    "vscode": {
     "languageId": "ruby"
    }
   },
   "outputs": [
    {
     "name": "stdout",
     "output_type": "stream",
     "text": [
      "\n",
      "Inconsistencias para grado 3:\n",
      "                               documento_identificación           course_name\n",
      "586   cf6b81c391cf8ded4e4f1fab86fbbac0766591ed5cf768...            Lenguaje 2\n",
      "627   cf6b81c391cf8ded4e4f1fab86fbbac0766591ed5cf768...         Matemáticas 2\n",
      "844   cf6b81c391cf8ded4e4f1fab86fbbac0766591ed5cf768...   Ciencias Sociales 2\n",
      "1082  cf6b81c391cf8ded4e4f1fab86fbbac0766591ed5cf768...  Ciencias Naturales 2\n"
     ]
    }
   ],
   "source": [
    "for grado, df in inconsistencias_por_grado.items():\n",
    "    print(f\"\\nInconsistencias para grado {grado}:\")\n",
    "    print(df[['documento_identificación', 'course_name']])"
   ]
  },
  {
   "cell_type": "markdown",
   "id": "34953355",
   "metadata": {},
   "source": [
    "Hay 4 cursos de grado 2do inscritos a una estudiante de 3ero pero verificando en la plataforma es correcto"
   ]
  },
  {
   "cell_type": "markdown",
   "id": "55fd83bd",
   "metadata": {},
   "source": [
    "## Chequeo de módulos que contengan fecha de inicio"
   ]
  },
  {
   "cell_type": "code",
   "execution_count": 64,
   "id": "2702d97b",
   "metadata": {
    "vscode": {
     "languageId": "ruby"
    }
   },
   "outputs": [],
   "source": [
    "edukrea_modules_df = pd.read_csv('data/interim/moodle/modules_active_edukrea.csv')\n",
    "moodle_modules_df = pd.read_csv('data/interim/moodle/modules_active_moodle.csv')"
   ]
  },
  {
   "cell_type": "code",
   "execution_count": 69,
   "id": "609293f4",
   "metadata": {
    "vscode": {
     "languageId": "ruby"
    }
   },
   "outputs": [],
   "source": [
    "assert edukrea_modules_df[edukrea_modules_df['planned_start_date'].isnull()].empty, \"Hay módulos en Edukrea sin fecha de inicio de semana\"\n",
    "assert edukrea_modules_df[edukrea_modules_df['planned_end_date'].isnull()].empty, \"Hay módulos en Edukrea sin fecha de fin de semana\""
   ]
  },
  {
   "cell_type": "code",
   "execution_count": 68,
   "id": "ac3e40eb",
   "metadata": {
    "vscode": {
     "languageId": "ruby"
    }
   },
   "outputs": [],
   "source": [
    "assert moodle_modules_df[moodle_modules_df['planned_start_date'].isnull()].empty, \"Hay módulos en Moodle sin fecha de inicio de semana\"\n",
    "assert moodle_modules_df[moodle_modules_df['planned_end_date'].isnull()].empty, \"Hay módulos en Moodle sin fecha de fin de semana\""
   ]
  },
  {
   "cell_type": "code",
   "execution_count": 70,
   "id": "c1597c3f",
   "metadata": {
    "vscode": {
     "languageId": "ruby"
    }
   },
   "outputs": [
    {
     "data": {
      "text/plain": [
       "Index(['year', 'course_id', 'course_module_id', 'sede', 'id_grado',\n",
       "       'id_asignatura', 'asignatura_name', 'course_name', 'section_id',\n",
       "       'section_name', 'module_type_id', 'instance', 'module_creation_date',\n",
       "       'module_type', 'module_name', 'is_edukrea_access',\n",
       "       'is_absence_assignment', 'week', 'period', 'is_interactive',\n",
       "       'is_in_english', 'planned_start_date', 'planned_end_date'],\n",
       "      dtype='object')"
      ]
     },
     "execution_count": 70,
     "metadata": {},
     "output_type": "execute_result"
    }
   ],
   "source": [
    "moodle_modules_df.columns"
   ]
  },
  {
   "cell_type": "markdown",
   "id": "8d2abe8d",
   "metadata": {},
   "source": [
    "## Verificar calendario académico"
   ]
  },
  {
   "cell_type": "code",
   "execution_count": null,
   "id": "930d9aff",
   "metadata": {
    "vscode": {
     "languageId": "ruby"
    }
   },
   "outputs": [
    {
     "data": {
      "text/plain": [
       "{np.int64(2024): {'p1_start': Timestamp('2024-01-02 00:00:00-0500', tz='America/Bogota'),\n",
       "  'p2_start': Timestamp('2024-04-15 00:00:00-0500', tz='America/Bogota'),\n",
       "  'p3_start': Timestamp('2024-08-07 00:00:00-0500', tz='America/Bogota'),\n",
       "  'p4_start': Timestamp('2024-09-09 00:00:00-0500', tz='America/Bogota'),\n",
       "  'vacations': [(Timestamp('2024-03-23 00:00:00-0500', tz='America/Bogota'),\n",
       "    Timestamp('2024-04-01 23:59:00-0500', tz='America/Bogota')),\n",
       "   (Timestamp('2024-05-01 00:00:00-0500', tz='America/Bogota'),\n",
       "    Timestamp('2024-05-01 23:59:00-0500', tz='America/Bogota')),\n",
       "   (Timestamp('2024-05-17 00:00:00-0500', tz='America/Bogota'),\n",
       "    Timestamp('2024-05-17 23:59:00-0500', tz='America/Bogota')),\n",
       "   (Timestamp('2024-06-15 00:00:00-0500', tz='America/Bogota'),\n",
       "    Timestamp('2024-07-08 23:59:00-0500', tz='America/Bogota')),\n",
       "   (Timestamp('2024-08-07 00:00:00-0500', tz='America/Bogota'),\n",
       "    Timestamp('2024-08-07 23:59:00-0500', tz='America/Bogota')),\n",
       "   (Timestamp('2024-08-18 00:00:00-0500', tz='America/Bogota'),\n",
       "    Timestamp('2024-08-18 23:59:00-0500', tz='America/Bogota')),\n",
       "   (Timestamp('2024-10-05 00:00:00-0500', tz='America/Bogota'),\n",
       "    Timestamp('2024-10-15 23:59:00-0500', tz='America/Bogota')),\n",
       "   (Timestamp('2024-11-04 00:00:00-0500', tz='America/Bogota'),\n",
       "    Timestamp('2024-11-04 23:59:00-0500', tz='America/Bogota')),\n",
       "   (Timestamp('2024-11-22 00:00:00-0500', tz='America/Bogota'),\n",
       "    Timestamp('2024-11-22 23:59:00-0500', tz='America/Bogota'))]},\n",
       " np.int64(2025): {'p1_start': Timestamp('2025-03-02 00:00:00-0500', tz='America/Bogota'),\n",
       "  'vacations': [(Timestamp('2025-03-24 00:00:00-0500', tz='America/Bogota'),\n",
       "    Timestamp('2025-03-24 23:59:00-0500', tz='America/Bogota'))]}}"
      ]
     },
     "execution_count": 3,
     "metadata": {},
     "output_type": "execute_result"
    }
   ],
   "source": [
    "# Leer CSVs\n",
    "calendario_df = pd.read_csv(\"data/raw/tablas_maestras/calendario_escolar.csv\", dayfirst=True)\n",
    "vacaciones_df = pd.read_csv(\"data/raw/tablas_maestras/vacaciones_festivos.csv\", dayfirst=True)\n",
    "\n",
    "# Limpiar columnas\n",
    "calendario_df.columns = calendario_df.columns.str.strip().str.lower()\n",
    "vacaciones_df.columns = vacaciones_df.columns.str.strip().str.lower()\n",
    "\n",
    "# Convertir fechas a datetime\n",
    "calendario_df[\"inicio\"] = pd.to_datetime(calendario_df[\"inicio\"], dayfirst=True)\n",
    "vacaciones_df[\"inicio\"] = pd.to_datetime(vacaciones_df[\"inicio\"], dayfirst=True)\n",
    "vacaciones_df[\"fin\"] = pd.to_datetime(vacaciones_df[\"fin\"], dayfirst=True)\n",
    "\n",
    "# Construir periods\n",
    "periods = {}\n",
    "\n",
    "for year in calendario_df[\"año\"].unique():\n",
    "    year_data = calendario_df[(calendario_df[\"año\"] == year) & (calendario_df[\"semana\"] == 1)]\n",
    "    year_periods = {}\n",
    "\n",
    "    # Fechas de inicio de bimestres\n",
    "    for _, row in year_data.iterrows():\n",
    "        bimestre = int(row[\"bimestre\"])\n",
    "        start_date = pd.Timestamp(row[\"inicio\"], tz=\"America/Bogota\")\n",
    "        year_periods[f\"p{bimestre}_start\"] = start_date\n",
    "\n",
    "    # Vacaciones como Timestamps con hora incluida\n",
    "    year_vacaciones = vacaciones_df[vacaciones_df[\"año\"] == year]\n",
    "    vacations_list = [\n",
    "        (\n",
    "            pd.Timestamp(row[\"inicio\"].strftime(\"%Y-%m-%dT00:00:00\"), tz=\"America/Bogota\"),\n",
    "            pd.Timestamp(row[\"fin\"].strftime(\"%Y-%m-%dT23:59:00\"), tz=\"America/Bogota\")\n",
    "        )\n",
    "        for _, row in year_vacaciones.iterrows()\n",
    "    ]\n",
    "    year_periods[\"vacations\"] = vacations_list\n",
    "\n",
    "    periods[year] = year_periods\n",
    "\n",
    "# Resultado final\n",
    "periods"
   ]
  },
  {
   "cell_type": "markdown",
   "id": "07536e14",
   "metadata": {},
   "source": [
    "## Consulta de docentes en cursos"
   ]
  },
  {
   "cell_type": "code",
   "execution_count": null,
   "id": "8006c150",
   "metadata": {
    "vscode": {
     "languageId": "ruby"
    }
   },
   "outputs": [],
   "source": [
    "year = 2025\n",
    "course_file = f\"data/raw/moodle/{year}/Course/mdlvf_course.parquet\"\n",
    "context_file = f\"data/raw/moodle/{year}/System/mdlvf_context.parquet\"\n",
    "role_assignments_file = f\"data/raw/moodle/{year}/Users/mdlvf_role_assignments.parquet\"\n",
    "role_file = f\"data/raw/moodle/{year}/Users/mdlvf_role.parquet\"\n",
    "user_file = f\"data/raw/moodle/{year}/Users/mdlvf_user.parquet\"\n",
    "unique_courses_file = \"data/interim/moodle/courses_unique_moodle.csv\""
   ]
  },
  {
   "cell_type": "code",
   "execution_count": null,
   "id": "b20865d2",
   "metadata": {
    "vscode": {
     "languageId": "ruby"
    }
   },
   "outputs": [
    {
     "data": {
      "application/vnd.microsoft.datawrangler.viewer.v0+json": {
       "columns": [
        {
         "name": "index",
         "rawType": "int64",
         "type": "integer"
        },
        {
         "name": "courseid",
         "rawType": "int64",
         "type": "integer"
        },
        {
         "name": "coursename",
         "rawType": "object",
         "type": "string"
        },
        {
         "name": "teacher",
         "rawType": "object",
         "type": "string"
        }
       ],
       "ref": "030fd63e-7929-4c3a-b284-c89d4ec54acd",
       "rows": [
        [
         "0",
         "17",
         "Matemáticas 1",
         "Wilder Mauricio Ussa Santana"
        ],
        [
         "1",
         "18",
         "Ciencias Naturales y Educación Ambiental 1",
         "Ximena Alejandra León Dicelis"
        ],
        [
         "2",
         "19",
         "Ciencias Sociales 1",
         "Angie Jimena Gómez Arévalo"
        ],
        [
         "3",
         "20",
         "Lengua Castellana 1",
         "Yessika Alejandra Morales García"
        ],
        [
         "4",
         "21",
         "English 1st",
         "Yessika Alejandra Morales García"
        ],
        [
         "5",
         "23",
         "Educación Física y Deportes 1",
         "Cristhian Steven Barrero Buitrago"
        ],
        [
         "6",
         "24",
         "Educación Física y Deportes 2",
         "Cristhian Steven Barrero Buitrago"
        ],
        [
         "7",
         "26",
         "English 2nd",
         "Yessika Alejandra Morales García"
        ],
        [
         "8",
         "27",
         "Lengua Castellana 2",
         "Yessika Alejandra Morales García"
        ],
        [
         "9",
         "28",
         "Ciencias Sociales 2",
         "Angie Jimena Gómez Arévalo"
        ],
        [
         "10",
         "29",
         "Ciencias Naturales y Educación Ambiental 2",
         "Ximena Alejandra León Dicelis"
        ],
        [
         "11",
         "30",
         "Matemáticas 2",
         "Wilder Mauricio Ussa Santana"
        ],
        [
         "12",
         "31",
         "Educación Física y Deportes 3",
         "Cristhian Steven Barrero Buitrago"
        ],
        [
         "13",
         "33",
         "English 3rd",
         "Yessika Alejandra Morales García"
        ],
        [
         "14",
         "34",
         "Lengua Castellana 3",
         "Nidia Yineth Cristancho Montoya"
        ],
        [
         "15",
         "35",
         "Ciencias Sociales 3",
         "Angie Jimena Gómez Arévalo"
        ],
        [
         "16",
         "36",
         "Ciencias Naturales y Educación Ambiental 3",
         "Ximena Alejandra León Dicelis"
        ],
        [
         "17",
         "37",
         "Matemáticas 3",
         "Wilder Mauricio Ussa Santana"
        ],
        [
         "18",
         "38",
         "Educación Física y Deportes 4",
         "Cristhian Steven Barrero Buitrago"
        ],
        [
         "19",
         "41",
         "Lengua Castellana 4",
         "Nidia Yineth Cristancho Montoya"
        ],
        [
         "20",
         "42",
         "Ciencias Sociales 4",
         "Angie Jimena Gómez Arévalo"
        ],
        [
         "21",
         "43",
         "Ciencias Naturales y Educación Ambiental 4",
         "Ximena Alejandra León Dicelis"
        ],
        [
         "22",
         "45",
         "Educación Física y Deportes 5",
         "Cristhian Steven Barrero Buitrago"
        ],
        [
         "23",
         "47",
         "English 5th",
         "Diego Armando Ávila Contreras"
        ],
        [
         "24",
         "48",
         "Lengua Castellana 5",
         "Yessika Alejandra Morales García"
        ],
        [
         "25",
         "49",
         "Ciencias Sociales 5",
         "Angie Jimena Gómez Arévalo"
        ],
        [
         "26",
         "50",
         "Ciencias Naturales y Educación Ambiental 5",
         "Ximena Alejandra León Dicelis"
        ],
        [
         "27",
         "51",
         "Matemáticas 5",
         "Wilder Mauricio Ussa Santana"
        ],
        [
         "28",
         "130",
         "Matemáticas 6",
         "Wilder Mauricio Ussa Santana"
        ],
        [
         "29",
         "131",
         "Ciencias Naturales y Educación Ambiental 6",
         "Johann Alexander Sánchez Riveros"
        ],
        [
         "30",
         "132",
         "Ciencias Sociales 6",
         "Angie Jimena Gómez Arévalo"
        ],
        [
         "31",
         "133",
         "Lengua Castellana 6",
         "Nidia Yineth Cristancho Montoya"
        ],
        [
         "32",
         "134",
         "English 6th",
         "Fabián Stivenson Rincón Najas, Diego Armando Ávila Contreras"
        ],
        [
         "33",
         "135",
         "Educación Física y Deportes 6",
         "Cristhian Steven Barrero Buitrago"
        ],
        [
         "34",
         "136",
         "Lengua Castellana 7",
         "Nidia Yineth Cristancho Montoya"
        ],
        [
         "35",
         "140",
         "Aprendizaje Basado en Investigación 7",
         "Johanna Carolina Borda Flechas"
        ],
        [
         "36",
         "142",
         "Educación Física y Deportes 7",
         "Cristhian Steven Barrero Buitrago"
        ],
        [
         "37",
         "143",
         "English 7th",
         "Diego Armando Ávila Contreras, Fabián Stivenson Rincón Najas"
        ],
        [
         "38",
         "145",
         "Ciencias Sociales 7",
         "Johanna Carolina Borda Flechas"
        ],
        [
         "39",
         "146",
         "Ciencias Naturales y Educación Ambiental 7",
         "Johann Alexander Sánchez Riveros"
        ],
        [
         "40",
         "147",
         "Matemáticas 7",
         "Dayron Mateo González Penagos"
        ],
        [
         "41",
         "161",
         "Aprendizaje Basado en Proyectos 1",
         "Ximena Alejandra León Dicelis"
        ],
        [
         "42",
         "162",
         "Aprendizaje Basado en Proyectos 2",
         "Angie Jimena Gómez Arévalo"
        ],
        [
         "43",
         "163",
         "Aprendizaje Basado en Proyectos 3",
         "Ximena Alejandra León Dicelis"
        ],
        [
         "44",
         "164",
         "Aprendizaje Basado en Proyectos 4",
         "Fabián Stivenson Rincón Najas"
        ],
        [
         "45",
         "165",
         "Aprendizaje Basado en Proyectos 5",
         "Cristhian Steven Barrero Buitrago"
        ],
        [
         "46",
         "168",
         "Lectura Crítica 1",
         "Ximena Alejandra León Dicelis"
        ],
        [
         "47",
         "169",
         "Lectura Crítica 2",
         "Ximena Alejandra León Dicelis"
        ],
        [
         "48",
         "170",
         "Lectura Crítica 3",
         "Yessika Alejandra Morales García"
        ],
        [
         "49",
         "174",
         "Creatividad e innovación 1",
         "Gireth Tatiana Ramos Nova"
        ]
       ],
       "shape": {
        "columns": 3,
        "rows": 244
       }
      },
      "text/html": [
       "<div>\n",
       "<style scoped>\n",
       "    .dataframe tbody tr th:only-of-type {\n",
       "        vertical-align: middle;\n",
       "    }\n",
       "\n",
       "    .dataframe tbody tr th {\n",
       "        vertical-align: top;\n",
       "    }\n",
       "\n",
       "    .dataframe thead th {\n",
       "        text-align: right;\n",
       "    }\n",
       "</style>\n",
       "<table border=\"1\" class=\"dataframe\">\n",
       "  <thead>\n",
       "    <tr style=\"text-align: right;\">\n",
       "      <th></th>\n",
       "      <th>courseid</th>\n",
       "      <th>coursename</th>\n",
       "      <th>teacher</th>\n",
       "    </tr>\n",
       "  </thead>\n",
       "  <tbody>\n",
       "    <tr>\n",
       "      <th>0</th>\n",
       "      <td>17</td>\n",
       "      <td>Matemáticas 1</td>\n",
       "      <td>Wilder Mauricio Ussa Santana</td>\n",
       "    </tr>\n",
       "    <tr>\n",
       "      <th>1</th>\n",
       "      <td>18</td>\n",
       "      <td>Ciencias Naturales y Educación Ambiental 1</td>\n",
       "      <td>Ximena Alejandra León Dicelis</td>\n",
       "    </tr>\n",
       "    <tr>\n",
       "      <th>2</th>\n",
       "      <td>19</td>\n",
       "      <td>Ciencias Sociales 1</td>\n",
       "      <td>Angie Jimena Gómez Arévalo</td>\n",
       "    </tr>\n",
       "    <tr>\n",
       "      <th>3</th>\n",
       "      <td>20</td>\n",
       "      <td>Lengua Castellana 1</td>\n",
       "      <td>Yessika Alejandra Morales García</td>\n",
       "    </tr>\n",
       "    <tr>\n",
       "      <th>4</th>\n",
       "      <td>21</td>\n",
       "      <td>English 1st</td>\n",
       "      <td>Yessika Alejandra Morales García</td>\n",
       "    </tr>\n",
       "    <tr>\n",
       "      <th>...</th>\n",
       "      <td>...</td>\n",
       "      <td>...</td>\n",
       "      <td>...</td>\n",
       "    </tr>\n",
       "    <tr>\n",
       "      <th>239</th>\n",
       "      <td>562</td>\n",
       "      <td>Centro de Interés Artístico 9</td>\n",
       "      <td>Daniel Felipe Sánchez Saldarriaga, Álvaro Alex...</td>\n",
       "    </tr>\n",
       "    <tr>\n",
       "      <th>240</th>\n",
       "      <td>563</td>\n",
       "      <td>Tecnologías Informáticas 9</td>\n",
       "      <td>Vanessa Liliana Sarabia Vargas</td>\n",
       "    </tr>\n",
       "    <tr>\n",
       "      <th>241</th>\n",
       "      <td>564</td>\n",
       "      <td>Integralidad 9</td>\n",
       "      <td>Jhojan Stiven Rubiano Capador</td>\n",
       "    </tr>\n",
       "    <tr>\n",
       "      <th>242</th>\n",
       "      <td>566</td>\n",
       "      <td>Física 10</td>\n",
       "      <td>Dayron Mateo González Penagos</td>\n",
       "    </tr>\n",
       "    <tr>\n",
       "      <th>243</th>\n",
       "      <td>567</td>\n",
       "      <td>Física 11</td>\n",
       "      <td>Dayron Mateo González Penagos</td>\n",
       "    </tr>\n",
       "  </tbody>\n",
       "</table>\n",
       "<p>244 rows × 3 columns</p>\n",
       "</div>"
      ],
      "text/plain": [
       "     courseid                                  coursename  \\\n",
       "0          17                               Matemáticas 1   \n",
       "1          18  Ciencias Naturales y Educación Ambiental 1   \n",
       "2          19                         Ciencias Sociales 1   \n",
       "3          20                         Lengua Castellana 1   \n",
       "4          21                                 English 1st   \n",
       "..        ...                                         ...   \n",
       "239       562               Centro de Interés Artístico 9   \n",
       "240       563                  Tecnologías Informáticas 9   \n",
       "241       564                              Integralidad 9   \n",
       "242       566                                   Física 10   \n",
       "243       567                                   Física 11   \n",
       "\n",
       "                                               teacher  \n",
       "0                         Wilder Mauricio Ussa Santana  \n",
       "1                        Ximena Alejandra León Dicelis  \n",
       "2                           Angie Jimena Gómez Arévalo  \n",
       "3                     Yessika Alejandra Morales García  \n",
       "4                     Yessika Alejandra Morales García  \n",
       "..                                                 ...  \n",
       "239  Daniel Felipe Sánchez Saldarriaga, Álvaro Alex...  \n",
       "240                     Vanessa Liliana Sarabia Vargas  \n",
       "241                      Jhojan Stiven Rubiano Capador  \n",
       "242                      Dayron Mateo González Penagos  \n",
       "243                      Dayron Mateo González Penagos  \n",
       "\n",
       "[244 rows x 3 columns]"
      ]
     },
     "execution_count": 6,
     "metadata": {},
     "output_type": "execute_result"
    }
   ],
   "source": [
    "sql = f\"\"\"\n",
    "SELECT \n",
    "    c.id AS courseid,\n",
    "    c.fullname AS coursename,\n",
    "    string_agg(DISTINCT u.firstname || ' ' || u.lastname, ', ') AS teacher\n",
    "FROM '{course_file}' c\n",
    "JOIN '{unique_courses_file}' uc ON c.id = uc.course_id\n",
    "JOIN '{context_file}' ctx ON ctx.instanceid = c.id AND ctx.contextlevel = 50\n",
    "JOIN '{role_assignments_file}' ra ON ra.contextid = ctx.id\n",
    "JOIN '{role_file}' r ON r.id = ra.roleid AND r.shortname = 'editingteacher'\n",
    "JOIN '{user_file}' u ON u.id = ra.userid\n",
    "WHERE c.visible = 1\n",
    "  AND NOT (u.firstname = 'Provisional' AND u.lastname = 'Girardot')\n",
    "GROUP BY c.id, c.fullname\n",
    "ORDER BY c.id;\n",
    "\"\"\"\n",
    "\n",
    "df = con.execute(sql).df()\n",
    "df"
   ]
  },
  {
   "cell_type": "markdown",
   "id": "93d44009",
   "metadata": {},
   "source": [
    "## Check HVP Data"
   ]
  },
  {
   "cell_type": "code",
   "execution_count": 2,
   "id": "66275763",
   "metadata": {
    "vscode": {
     "languageId": "ruby"
    }
   },
   "outputs": [],
   "source": [
    "edukrea_hvp = pd.read_csv('data/interim/moodle/hvp_edukrea.csv')\n",
    "moodle_hvp = pd.read_csv('data/interim/moodle/hvp_moodle.csv')"
   ]
  },
  {
   "cell_type": "code",
   "execution_count": 3,
   "id": "51a1ec3c",
   "metadata": {
    "vscode": {
     "languageId": "ruby"
    }
   },
   "outputs": [],
   "source": [
    "edukrea_modules_df = pd.read_csv('data/interim/moodle/modules_active_edukrea.csv')\n",
    "moodle_modules_df = pd.read_csv('data/interim/moodle/modules_active_moodle.csv')"
   ]
  },
  {
   "cell_type": "code",
   "execution_count": 4,
   "id": "36daf8a0",
   "metadata": {
    "vscode": {
     "languageId": "ruby"
    }
   },
   "outputs": [],
   "source": [
    "edukrea_modules_hvp_df = edukrea_modules_df[edukrea_modules_df['module_type'] == 'hvp']\n",
    "moodle_modules_hvp_df = moodle_modules_df[moodle_modules_df['module_type'] == 'hvp']"
   ]
  },
  {
   "cell_type": "code",
   "execution_count": 5,
   "id": "a77c3356",
   "metadata": {},
   "outputs": [],
   "source": [
    "assert len(edukrea_hvp) == len(edukrea_modules_hvp_df), \"El número de filas en edukrea_hvp no coincide con edukrea_modules_hvp_df\""
   ]
  },
  {
   "cell_type": "code",
   "execution_count": 6,
   "id": "307d83b3",
   "metadata": {},
   "outputs": [],
   "source": [
    "assert len(moodle_hvp) == len(moodle_modules_hvp_df), \"El número de filas en edukrea_hvp no coincide con edukrea_modules_hvp_df\""
   ]
  },
  {
   "cell_type": "code",
   "execution_count": 7,
   "id": "5df7023f",
   "metadata": {},
   "outputs": [],
   "source": [
    "edukrea_modules_featured = pd.read_csv('data/interim/moodle/modules_edukrea_featured.csv')\n",
    "moodle_modules_featured = pd.read_csv('data/interim/moodle/modules_moodle_featured.csv')"
   ]
  },
  {
   "cell_type": "code",
   "execution_count": 8,
   "id": "f34bbf82",
   "metadata": {},
   "outputs": [],
   "source": [
    "assert len(edukrea_modules_featured) == len(edukrea_modules_df), \"El número de filas en edukrea_modules_featured no coincide con edukrea_modules_df\""
   ]
  },
  {
   "cell_type": "code",
   "execution_count": 9,
   "id": "a4d6a815",
   "metadata": {},
   "outputs": [],
   "source": [
    "assert len(moodle_modules_featured) == len(moodle_modules_df), \"El número de filas en moodle_modules_featured no coincide con moodle_modules_df\""
   ]
  },
  {
   "cell_type": "code",
   "execution_count": 11,
   "id": "941d4a32",
   "metadata": {},
   "outputs": [
    {
     "data": {
      "text/plain": [
       "array([26, 18, 14, 22, 13, 39, 25, 33, 36])"
      ]
     },
     "execution_count": 11,
     "metadata": {},
     "output_type": "execute_result"
    }
   ],
   "source": [
    "edukrea_modules_featured['total_estudiantes'].unique()"
   ]
  },
  {
   "cell_type": "code",
   "execution_count": 12,
   "id": "684968ee",
   "metadata": {},
   "outputs": [
    {
     "data": {
      "text/plain": [
       "array([15, 17, 20, 22, 10, 16, 18,  7, 12, 13, 24, 21,  9, 14,  8,  4])"
      ]
     },
     "execution_count": 12,
     "metadata": {},
     "output_type": "execute_result"
    }
   ],
   "source": [
    "moodle_modules_featured['total_estudiantes'].unique()"
   ]
  }
 ],
 "metadata": {
  "kernelspec": {
   "display_name": "formar-innovar",
   "language": "python",
   "name": "python3"
  },
  "language_info": {
   "codemirror_mode": {
    "name": "ipython",
    "version": 3
   },
   "file_extension": ".py",
   "mimetype": "text/x-python",
   "name": "python",
   "nbconvert_exporter": "python",
   "pygments_lexer": "ipython3",
   "version": "3.10.14"
  }
 },
 "nbformat": 4,
 "nbformat_minor": 5
}
